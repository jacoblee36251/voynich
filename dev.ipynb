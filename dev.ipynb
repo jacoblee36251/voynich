{
 "cells": [
  {
   "cell_type": "code",
   "execution_count": 1,
   "metadata": {},
   "outputs": [],
   "source": [
    "import re"
   ]
  },
  {
   "cell_type": "code",
   "execution_count": 2,
   "metadata": {},
   "outputs": [],
   "source": [
    "%load_ext autoreload\n",
    "%autoreload 2"
   ]
  },
  {
   "cell_type": "markdown",
   "metadata": {},
   "source": [
    "# paragraph stuff"
   ]
  },
  {
   "cell_type": "code",
   "execution_count": 3,
   "metadata": {},
   "outputs": [],
   "source": [
    "from voynich import VoynichManuscript"
   ]
  },
  {
   "cell_type": "code",
   "execution_count": 5,
   "metadata": {},
   "outputs": [],
   "source": [
    "path_to_txt = \"data/raw/ZL_ivtff_1r.txt\""
   ]
  },
  {
   "cell_type": "code",
   "execution_count": 6,
   "metadata": {},
   "outputs": [],
   "source": [
    "with open(path_to_txt, \"r\") as f:\n",
    "    lines = [l.strip() for l in f.readlines() if l[0] != \"#\" and len(l) > 1]\n",
    "\n",
    "# Trim excess spaces\n",
    "lines = [re.sub(\"\\s\\s+\" , \" \", line) for line in lines]"
   ]
  },
  {
   "cell_type": "code",
   "execution_count": 10,
   "metadata": {},
   "outputs": [
    {
     "data": {
      "text/plain": [
       "'<f1r.1,@P0> <%>fachys.ykal.ar.ataiin.shol.shory.[cth:oto]res.y.kor.sholdy<!doodle: @254;>'"
      ]
     },
     "execution_count": 10,
     "metadata": {},
     "output_type": "execute_result"
    }
   ],
   "source": [
    "line = lines[1]\n",
    "line"
   ]
  },
  {
   "cell_type": "code",
   "execution_count": 17,
   "metadata": {},
   "outputs": [],
   "source": [
    "\n",
    "# iterate through each line and construct page and line objects\n",
    "page = None\n",
    "paragraph = \"\"\n",
    "paragraphs = []\n",
    "# for line in lines:\n",
    "# split into metadata and data \n",
    "a, b = line.split(\"> \")\n",
    "a = a[1:]\n",
    "\n",
    "# if this line is start of new page\n",
    "# if \",\" not in a:\n",
    "#     # Create a new page object, store it\n",
    "#     page_name = a\n",
    "#     # page = Page(page_name, **_parse_variables(b))\n",
    "#     # self.pages[page_name] = page\n",
    "\n",
    "# # or if this line is a transliteration item \n",
    "# else:\n",
    "    # parse metadata of line\n",
    "page_info, locus_info = a.split(\",\")\n",
    "page_name, line_num = page_info.split(\".\")\n",
    "locator, locus = locus_info[0], locus_info[1:]\n",
    "\n",
    "# parse corpus of line\n",
    "text = b\n",
    "\n",
    "# remove inline comments (if specified)\n",
    "text = text.replace(\"<->\", \"\")\n",
    "text = re.sub(\"\\<!.*?\\>\", \"\", text) # anything between <! and >\n",
    "text = text.replace(\"<%>\", \"\")\n",
    "# text = \n",
    "# "
   ]
  },
  {
   "cell_type": "code",
   "execution_count": 23,
   "metadata": {},
   "outputs": [],
   "source": [
    "text = \"fachys.ykal.ar.ataiin.shol.[a:y]shory.[cth:oto]res.y.kor.sholdy[{cto}:@194;]\""
   ]
  },
  {
   "cell_type": "code",
   "execution_count": 24,
   "metadata": {},
   "outputs": [
    {
     "data": {
      "text/plain": [
       "['[a:y]', '[cth:oto]', '[{cto}:@194;]']"
      ]
     },
     "execution_count": 24,
     "metadata": {},
     "output_type": "execute_result"
    }
   ],
   "source": [
    "brackets = re.findall(\"\\[.*?\\]\", text)\n",
    "brackets"
   ]
  },
  {
   "cell_type": "code",
   "execution_count": 27,
   "metadata": {},
   "outputs": [
    {
     "data": {
      "text/plain": [
       "'a'"
      ]
     },
     "execution_count": 27,
     "metadata": {},
     "output_type": "execute_result"
    }
   ],
   "source": [
    "bracket = brackets[0]\n",
    "bracket[1:-1].split(\":\")[0]"
   ]
  },
  {
   "cell_type": "code",
   "execution_count": 28,
   "metadata": {},
   "outputs": [
    {
     "data": {
      "text/plain": [
       "'fachys.ykal.ar.ataiin.shol.ashory.[cth:oto]res.y.kor.sholdy[{cto}:@194;]'"
      ]
     },
     "execution_count": 28,
     "metadata": {},
     "output_type": "execute_result"
    }
   ],
   "source": [
    "text.replace(bracket, bracket[1:-1].split(\":\")[0])"
   ]
  },
  {
   "cell_type": "code",
   "execution_count": 18,
   "metadata": {},
   "outputs": [],
   "source": [
    "if \"P\" in locus_info:\n",
    "    if \"<$>\" in text:\n",
    "        text = text.replace(\"<$>\", \"\")\n",
    "        paragraph += text\n",
    "        paragraphs.append(paragraph)\n",
    "        paragraph = \"\"\n",
    "    else:\n",
    "        paragraph += text"
   ]
  },
  {
   "cell_type": "code",
   "execution_count": 19,
   "metadata": {},
   "outputs": [
    {
     "data": {
      "text/plain": [
       "'fachys.ykal.ar.ataiin.shol.shory.[cth:oto]res.y.kor.sholdy'"
      ]
     },
     "execution_count": 19,
     "metadata": {},
     "output_type": "execute_result"
    }
   ],
   "source": [
    "paragraph"
   ]
  },
  {
   "cell_type": "code",
   "execution_count": 88,
   "metadata": {},
   "outputs": [],
   "source": [
    "vm = VoynichManuscript(path_to_txt)"
   ]
  },
  {
   "cell_type": "code",
   "execution_count": 106,
   "metadata": {},
   "outputs": [
    {
     "name": "stdout",
     "output_type": "stream",
     "text": [
      "> \u001b[1;32m<ipython-input-106-884aacc74f4f>\u001b[0m(6)\u001b[0;36m<module>\u001b[1;34m()\u001b[0m\n",
      "\u001b[1;32m      4 \u001b[1;33m    \u001b[1;32mif\u001b[0m \u001b[0mline\u001b[0m\u001b[1;33m.\u001b[0m\u001b[0mpage_name\u001b[0m \u001b[1;33m==\u001b[0m \u001b[1;34m\"f9r\"\u001b[0m \u001b[1;32mand\u001b[0m \u001b[0mline\u001b[0m\u001b[1;33m.\u001b[0m\u001b[0mline_num\u001b[0m \u001b[1;33m==\u001b[0m \u001b[1;34m\"10\"\u001b[0m\u001b[1;33m:\u001b[0m\u001b[1;33m\u001b[0m\u001b[1;33m\u001b[0m\u001b[0m\n",
      "\u001b[0m\u001b[1;32m      5 \u001b[1;33m        \u001b[0mbreakpoint\u001b[0m\u001b[1;33m(\u001b[0m\u001b[1;33m)\u001b[0m\u001b[1;33m\u001b[0m\u001b[1;33m\u001b[0m\u001b[0m\n",
      "\u001b[0m\u001b[1;32m----> 6 \u001b[1;33m    \u001b[1;32mif\u001b[0m \u001b[1;34m\"P\"\u001b[0m \u001b[1;32min\u001b[0m \u001b[0mline\u001b[0m\u001b[1;33m.\u001b[0m\u001b[0mlocus\u001b[0m\u001b[1;33m:\u001b[0m\u001b[1;33m\u001b[0m\u001b[1;33m\u001b[0m\u001b[0m\n",
      "\u001b[0m\u001b[1;32m      7 \u001b[1;33m        \u001b[0mtext\u001b[0m \u001b[1;33m=\u001b[0m \u001b[0mline\u001b[0m\u001b[1;33m.\u001b[0m\u001b[0mtext\u001b[0m\u001b[1;33m.\u001b[0m\u001b[0mreplace\u001b[0m\u001b[1;33m(\u001b[0m\u001b[1;34m\"<%>\"\u001b[0m\u001b[1;33m,\u001b[0m \u001b[1;34m\"\"\u001b[0m\u001b[1;33m)\u001b[0m\u001b[1;33m\u001b[0m\u001b[1;33m\u001b[0m\u001b[0m\n",
      "\u001b[0m\u001b[1;32m      8 \u001b[1;33m\u001b[1;33m\u001b[0m\u001b[0m\n",
      "\u001b[0m\n",
      "> \u001b[1;32m<ipython-input-106-884aacc74f4f>\u001b[0m(7)\u001b[0;36m<module>\u001b[1;34m()\u001b[0m\n",
      "\u001b[1;32m      5 \u001b[1;33m        \u001b[0mbreakpoint\u001b[0m\u001b[1;33m(\u001b[0m\u001b[1;33m)\u001b[0m\u001b[1;33m\u001b[0m\u001b[1;33m\u001b[0m\u001b[0m\n",
      "\u001b[0m\u001b[1;32m      6 \u001b[1;33m    \u001b[1;32mif\u001b[0m \u001b[1;34m\"P\"\u001b[0m \u001b[1;32min\u001b[0m \u001b[0mline\u001b[0m\u001b[1;33m.\u001b[0m\u001b[0mlocus\u001b[0m\u001b[1;33m:\u001b[0m\u001b[1;33m\u001b[0m\u001b[1;33m\u001b[0m\u001b[0m\n",
      "\u001b[0m\u001b[1;32m----> 7 \u001b[1;33m        \u001b[0mtext\u001b[0m \u001b[1;33m=\u001b[0m \u001b[0mline\u001b[0m\u001b[1;33m.\u001b[0m\u001b[0mtext\u001b[0m\u001b[1;33m.\u001b[0m\u001b[0mreplace\u001b[0m\u001b[1;33m(\u001b[0m\u001b[1;34m\"<%>\"\u001b[0m\u001b[1;33m,\u001b[0m \u001b[1;34m\"\"\u001b[0m\u001b[1;33m)\u001b[0m\u001b[1;33m\u001b[0m\u001b[1;33m\u001b[0m\u001b[0m\n",
      "\u001b[0m\u001b[1;32m      8 \u001b[1;33m\u001b[1;33m\u001b[0m\u001b[0m\n",
      "\u001b[0m\u001b[1;32m      9 \u001b[1;33m        \u001b[1;31m# for all ambiguous character brackets i.e. [a:o], use only the first entry\u001b[0m\u001b[1;33m\u001b[0m\u001b[1;33m\u001b[0m\u001b[1;33m\u001b[0m\u001b[0m\n",
      "\u001b[0m\n"
     ]
    },
    {
     "ename": "BdbQuit",
     "evalue": "",
     "output_type": "error",
     "traceback": [
      "\u001b[1;31m---------------------------------------------------------------------------\u001b[0m",
      "\u001b[1;31mBdbQuit\u001b[0m                                   Traceback (most recent call last)",
      "\u001b[1;32m<ipython-input-106-884aacc74f4f>\u001b[0m in \u001b[0;36m<module>\u001b[1;34m\u001b[0m\n\u001b[0;32m      5\u001b[0m         \u001b[0mbreakpoint\u001b[0m\u001b[1;33m(\u001b[0m\u001b[1;33m)\u001b[0m\u001b[1;33m\u001b[0m\u001b[1;33m\u001b[0m\u001b[0m\n\u001b[0;32m      6\u001b[0m     \u001b[1;32mif\u001b[0m \u001b[1;34m\"P\"\u001b[0m \u001b[1;32min\u001b[0m \u001b[0mline\u001b[0m\u001b[1;33m.\u001b[0m\u001b[0mlocus\u001b[0m\u001b[1;33m:\u001b[0m\u001b[1;33m\u001b[0m\u001b[1;33m\u001b[0m\u001b[0m\n\u001b[1;32m----> 7\u001b[1;33m         \u001b[0mtext\u001b[0m \u001b[1;33m=\u001b[0m \u001b[0mline\u001b[0m\u001b[1;33m.\u001b[0m\u001b[0mtext\u001b[0m\u001b[1;33m.\u001b[0m\u001b[0mreplace\u001b[0m\u001b[1;33m(\u001b[0m\u001b[1;34m\"<%>\"\u001b[0m\u001b[1;33m,\u001b[0m \u001b[1;34m\"\"\u001b[0m\u001b[1;33m)\u001b[0m\u001b[1;33m\u001b[0m\u001b[1;33m\u001b[0m\u001b[0m\n\u001b[0m\u001b[0;32m      8\u001b[0m \u001b[1;33m\u001b[0m\u001b[0m\n\u001b[0;32m      9\u001b[0m         \u001b[1;31m# for all ambiguous character brackets i.e. [a:o], use only the first entry\u001b[0m\u001b[1;33m\u001b[0m\u001b[1;33m\u001b[0m\u001b[1;33m\u001b[0m\u001b[0m\n",
      "\u001b[1;32m<ipython-input-106-884aacc74f4f>\u001b[0m in \u001b[0;36m<module>\u001b[1;34m\u001b[0m\n\u001b[0;32m      5\u001b[0m         \u001b[0mbreakpoint\u001b[0m\u001b[1;33m(\u001b[0m\u001b[1;33m)\u001b[0m\u001b[1;33m\u001b[0m\u001b[1;33m\u001b[0m\u001b[0m\n\u001b[0;32m      6\u001b[0m     \u001b[1;32mif\u001b[0m \u001b[1;34m\"P\"\u001b[0m \u001b[1;32min\u001b[0m \u001b[0mline\u001b[0m\u001b[1;33m.\u001b[0m\u001b[0mlocus\u001b[0m\u001b[1;33m:\u001b[0m\u001b[1;33m\u001b[0m\u001b[1;33m\u001b[0m\u001b[0m\n\u001b[1;32m----> 7\u001b[1;33m         \u001b[0mtext\u001b[0m \u001b[1;33m=\u001b[0m \u001b[0mline\u001b[0m\u001b[1;33m.\u001b[0m\u001b[0mtext\u001b[0m\u001b[1;33m.\u001b[0m\u001b[0mreplace\u001b[0m\u001b[1;33m(\u001b[0m\u001b[1;34m\"<%>\"\u001b[0m\u001b[1;33m,\u001b[0m \u001b[1;34m\"\"\u001b[0m\u001b[1;33m)\u001b[0m\u001b[1;33m\u001b[0m\u001b[1;33m\u001b[0m\u001b[0m\n\u001b[0m\u001b[0;32m      8\u001b[0m \u001b[1;33m\u001b[0m\u001b[0m\n\u001b[0;32m      9\u001b[0m         \u001b[1;31m# for all ambiguous character brackets i.e. [a:o], use only the first entry\u001b[0m\u001b[1;33m\u001b[0m\u001b[1;33m\u001b[0m\u001b[1;33m\u001b[0m\u001b[0m\n",
      "\u001b[1;32m~\\anaconda3\\lib\\bdb.py\u001b[0m in \u001b[0;36mtrace_dispatch\u001b[1;34m(self, frame, event, arg)\u001b[0m\n\u001b[0;32m     86\u001b[0m             \u001b[1;32mreturn\u001b[0m \u001b[1;31m# None\u001b[0m\u001b[1;33m\u001b[0m\u001b[1;33m\u001b[0m\u001b[0m\n\u001b[0;32m     87\u001b[0m         \u001b[1;32mif\u001b[0m \u001b[0mevent\u001b[0m \u001b[1;33m==\u001b[0m \u001b[1;34m'line'\u001b[0m\u001b[1;33m:\u001b[0m\u001b[1;33m\u001b[0m\u001b[1;33m\u001b[0m\u001b[0m\n\u001b[1;32m---> 88\u001b[1;33m             \u001b[1;32mreturn\u001b[0m \u001b[0mself\u001b[0m\u001b[1;33m.\u001b[0m\u001b[0mdispatch_line\u001b[0m\u001b[1;33m(\u001b[0m\u001b[0mframe\u001b[0m\u001b[1;33m)\u001b[0m\u001b[1;33m\u001b[0m\u001b[1;33m\u001b[0m\u001b[0m\n\u001b[0m\u001b[0;32m     89\u001b[0m         \u001b[1;32mif\u001b[0m \u001b[0mevent\u001b[0m \u001b[1;33m==\u001b[0m \u001b[1;34m'call'\u001b[0m\u001b[1;33m:\u001b[0m\u001b[1;33m\u001b[0m\u001b[1;33m\u001b[0m\u001b[0m\n\u001b[0;32m     90\u001b[0m             \u001b[1;32mreturn\u001b[0m \u001b[0mself\u001b[0m\u001b[1;33m.\u001b[0m\u001b[0mdispatch_call\u001b[0m\u001b[1;33m(\u001b[0m\u001b[0mframe\u001b[0m\u001b[1;33m,\u001b[0m \u001b[0marg\u001b[0m\u001b[1;33m)\u001b[0m\u001b[1;33m\u001b[0m\u001b[1;33m\u001b[0m\u001b[0m\n",
      "\u001b[1;32m~\\anaconda3\\lib\\bdb.py\u001b[0m in \u001b[0;36mdispatch_line\u001b[1;34m(self, frame)\u001b[0m\n\u001b[0;32m    111\u001b[0m         \u001b[1;32mif\u001b[0m \u001b[0mself\u001b[0m\u001b[1;33m.\u001b[0m\u001b[0mstop_here\u001b[0m\u001b[1;33m(\u001b[0m\u001b[0mframe\u001b[0m\u001b[1;33m)\u001b[0m \u001b[1;32mor\u001b[0m \u001b[0mself\u001b[0m\u001b[1;33m.\u001b[0m\u001b[0mbreak_here\u001b[0m\u001b[1;33m(\u001b[0m\u001b[0mframe\u001b[0m\u001b[1;33m)\u001b[0m\u001b[1;33m:\u001b[0m\u001b[1;33m\u001b[0m\u001b[1;33m\u001b[0m\u001b[0m\n\u001b[0;32m    112\u001b[0m             \u001b[0mself\u001b[0m\u001b[1;33m.\u001b[0m\u001b[0muser_line\u001b[0m\u001b[1;33m(\u001b[0m\u001b[0mframe\u001b[0m\u001b[1;33m)\u001b[0m\u001b[1;33m\u001b[0m\u001b[1;33m\u001b[0m\u001b[0m\n\u001b[1;32m--> 113\u001b[1;33m             \u001b[1;32mif\u001b[0m \u001b[0mself\u001b[0m\u001b[1;33m.\u001b[0m\u001b[0mquitting\u001b[0m\u001b[1;33m:\u001b[0m \u001b[1;32mraise\u001b[0m \u001b[0mBdbQuit\u001b[0m\u001b[1;33m\u001b[0m\u001b[1;33m\u001b[0m\u001b[0m\n\u001b[0m\u001b[0;32m    114\u001b[0m         \u001b[1;32mreturn\u001b[0m \u001b[0mself\u001b[0m\u001b[1;33m.\u001b[0m\u001b[0mtrace_dispatch\u001b[0m\u001b[1;33m\u001b[0m\u001b[1;33m\u001b[0m\u001b[0m\n\u001b[0;32m    115\u001b[0m \u001b[1;33m\u001b[0m\u001b[0m\n",
      "\u001b[1;31mBdbQuit\u001b[0m: "
     ]
    }
   ],
   "source": [
    "paragraphs = []\n",
    "paragraph = \"\"\n",
    "for line in vm.iterlines():\n",
    "    # if line.page_name == \"f9r\" and line.line_num == \"10\":\n",
    "    #     breakpoint()\n",
    "    if \"P\" in line.locus:\n",
    "        text = line.text.replace(\"<%>\", \"\")\n",
    "        \n",
    "        # for all ambiguous character brackets i.e. [a:o], use only the first entry\n",
    "        brackets = re.findall(\"\\[.*?\\]\", text)\n",
    "\n",
    "        for bracket in brackets:\n",
    "            text = text.replace(bracket, bracket[1:-1].split(\":\")[0])\n",
    "        if \"<$>\" in text:\n",
    "            text = text.replace(\"<$>\", \"\")\n",
    "            paragraph += text\n",
    "            paragraphs.append(paragraph)\n",
    "            paragraph = \"\"\n",
    "        else:\n",
    "            paragraph += text"
   ]
  },
  {
   "cell_type": "code",
   "execution_count": 90,
   "metadata": {},
   "outputs": [
    {
     "data": {
      "text/plain": [
       "711"
      ]
     },
     "execution_count": 90,
     "metadata": {},
     "output_type": "execute_result"
    }
   ],
   "source": [
    "len(paragraphs)"
   ]
  },
  {
   "cell_type": "code",
   "execution_count": 91,
   "metadata": {},
   "outputs": [
    {
     "data": {
      "text/plain": [
       "209972"
      ]
     },
     "execution_count": 91,
     "metadata": {},
     "output_type": "execute_result"
    }
   ],
   "source": [
    "sum([len(p) for p in paragraphs])"
   ]
  },
  {
   "cell_type": "code",
   "execution_count": 94,
   "metadata": {},
   "outputs": [
    {
     "data": {
      "text/plain": [
       "'pchallarar.al.ckhal.rain.alolfchy.rpchey.shfy.ches.ar.opchekan,dlrolkeey.rain,shey.qor.aiin.shey.ol.lchedy.rshey.qokeedy.chtain.olysoraiin.ykeey.arain.sheeky.qokain.sheey.qol.cheds.ar.r.?rshegqokain.ar.raiin.shek.okain.y,r,shey.qolchey.okaiin.shckhy.qokamshedy.qokeey.qokain.qokeey.lchey.olkey.raiin.cthar.shckhy.qorarqokeey.rain.shey.okeey.lkain.l.dain.chey.sheckhy.q{cthh}y.qokl.ainpairain.sheek,l,y.oiin.cheey.lkeey.olkeey.lchey.qoky.lshedy.cheam.shamdaiin.qokeey.lshey.qokaiin.chkar.shey.okaiin.chedy.qokeedy.raiin.shyqokain.chey.olr.ain.shey.qokain.o,l,keey,keeey.lkeal.or.al.lomdsheey.shey.qokey.shey.qokain.shckhy.chery.ol,chedy.l,chey,lchydlar.shar.shar.r.ain.sheain.okain.shey.qokchy.chckhy.orainqo.qokain.sheckhy.qokain.shekain.shkain.shedy.shey.qokan.chamas???.ar.al.shear.teey.chcphy.rain.cphan.ydar.oty.shey.qokams?.okeedy.qokain.shckhy.ol.lcheor.chky.raiin.chey.qol.okamodain.sh??y.qoka[r:s].oleey.chy'"
      ]
     },
     "execution_count": 94,
     "metadata": {},
     "output_type": "execute_result"
    }
   ],
   "source": [
    "vm.get_paragraphs()[-2]"
   ]
  },
  {
   "cell_type": "code",
   "execution_count": 99,
   "metadata": {},
   "outputs": [
    {
     "data": {
      "text/plain": [
       "[36,\n",
       " 57,\n",
       " 58,\n",
       " 63,\n",
       " 64,\n",
       " 66,\n",
       " 68,\n",
       " 70,\n",
       " 76,\n",
       " 80,\n",
       " 81,\n",
       " 85,\n",
       " 86,\n",
       " 87,\n",
       " 99,\n",
       " 104,\n",
       " 125,\n",
       " 127,\n",
       " 153,\n",
       " 156,\n",
       " 165,\n",
       " 168,\n",
       " 171,\n",
       " 178,\n",
       " 182,\n",
       " 190,\n",
       " 193,\n",
       " 201,\n",
       " 212,\n",
       " 217,\n",
       " 224,\n",
       " 225,\n",
       " 226,\n",
       " 235,\n",
       " 236,\n",
       " 246,\n",
       " 254,\n",
       " 269,\n",
       " 281,\n",
       " 287,\n",
       " 312,\n",
       " 324,\n",
       " 335,\n",
       " 348,\n",
       " 358,\n",
       " 361,\n",
       " 368,\n",
       " 377,\n",
       " 416,\n",
       " 418,\n",
       " 434,\n",
       " 438,\n",
       " 471,\n",
       " 481,\n",
       " 488,\n",
       " 491,\n",
       " 516,\n",
       " 526,\n",
       " 549,\n",
       " 567,\n",
       " 583,\n",
       " 586,\n",
       " 593,\n",
       " 595,\n",
       " 608,\n",
       " 610,\n",
       " 612,\n",
       " 614,\n",
       " 621,\n",
       " 624,\n",
       " 634,\n",
       " 635,\n",
       " 664,\n",
       " 670,\n",
       " 676,\n",
       " 687,\n",
       " 694,\n",
       " 709]"
      ]
     },
     "execution_count": 99,
     "metadata": {},
     "output_type": "execute_result"
    }
   ],
   "source": [
    "\n",
    "[i for (i, p) in enumerate(vm.get_paragraphs()) if len(re.findall(\"\\[.*?\\]\", p)) > 0]\n",
    "    "
   ]
  },
  {
   "cell_type": "code",
   "execution_count": 101,
   "metadata": {},
   "outputs": [
    {
     "data": {
      "text/plain": [
       "'pshoain.cthoaiin.okaiir.{c@134;h}odoral.shar.sy.shydal.chdyor.chol.chy,tchy.tchol.ytor.qotol.chyky.chodar.aiinqotcho.qokchy.cthey.koraiin.okain.d.dal.s.olshocthyocho,cthy.cho{cto}y.chodykchy.saiin,dchy.daiinytcha[s:r].oraiin.chkor'"
      ]
     },
     "execution_count": 101,
     "metadata": {},
     "output_type": "execute_result"
    }
   ],
   "source": [
    "vm.get_paragraphs()[36]"
   ]
  },
  {
   "cell_type": "code",
   "execution_count": 103,
   "metadata": {},
   "outputs": [
    {
     "data": {
      "text/plain": [
       "'f116v'"
      ]
     },
     "execution_count": 103,
     "metadata": {},
     "output_type": "execute_result"
    }
   ],
   "source": [
    "line.page_name"
   ]
  },
  {
   "cell_type": "markdown",
   "metadata": {},
   "source": [
    "# old stuff"
   ]
  },
  {
   "cell_type": "markdown",
   "metadata": {},
   "source": [
    "Plan\n",
    "\n",
    "- Read in all lines\n",
    "    - Remove all commented lines\n",
    "        - Ignore any lines that have # as the first character\n",
    "    - Remove all blank lines\n",
    "    - Strip every line\n",
    "- distinguish between header lines and transliterated text lines\n",
    "- \n"
   ]
  },
  {
   "cell_type": "code",
   "execution_count": 4,
   "metadata": {},
   "outputs": [
    {
     "data": {
      "text/plain": [
       "(5616,\n",
       " ['<f1r>      <! $Q=A $P=A $F=a $B=1 $I=T $L=A $H=1 $C=1 $X=V>',\n",
       "  '<f1r.1,@P0>       <%>fachys.ykal.ar.ataiin.shol.shory.[cth:oto]res.y.kor.sholdy<!doodle: @254;>',\n",
       "  '<f1r.2,+P0>       sory.ckhar.or,y.kair.chtaiin.shar.ase.cthar.cthar,dan',\n",
       "  '<f1r.3,+P0>       syaiir.sheky.or.ykaiin.shod.cthoary.cthes.daraiin.sy',\n",
       "  '<f1r.4,+P0>       soiin.oteey.oteo[s:r],roloty.cthiar,daiin.okaiin.or.okan',\n",
       "  '<f1r.5,+P0>       sair,y.chear.cthaiin.cphar.cfhaiin',\n",
       "  '<f1r.6,=Pt>       ydaraishy<$>',\n",
       "  \"<f1r.7,*P0>       <%><!doodle: @252;>odar.{c'y}.shol.cphoy.oydar.sh.s.cfhoaiin.shodary\",\n",
       "  '<f1r.8,+P0>       yshey.shody.okchoy.otchol.chocthy.os,chy.dain.chor.kos',\n",
       "  '<f1r.9,+P0>       daiin.shos.cfhol.shody'])"
      ]
     },
     "execution_count": 4,
     "metadata": {},
     "output_type": "execute_result"
    }
   ],
   "source": [
    "with open(\"data/raw/ZL_ivtff_1r.txt\", \"r\") as f:\n",
    "    lines = [l.strip() for l in f.readlines() if l[0] != \"#\" and len(l) > 1]\n",
    "\n",
    "len(lines), lines[:10]"
   ]
  },
  {
   "cell_type": "code",
   "execution_count": 5,
   "metadata": {},
   "outputs": [
    {
     "data": {
      "text/plain": [
       "['<f1r> <! $Q=A $P=A $F=a $B=1 $I=T $L=A $H=1 $C=1 $X=V>',\n",
       " '<f1r.1,@P0> <%>fachys.ykal.ar.ataiin.shol.shory.[cth:oto]res.y.kor.sholdy<!doodle: @254;>',\n",
       " '<f1r.2,+P0> sory.ckhar.or,y.kair.chtaiin.shar.ase.cthar.cthar,dan',\n",
       " '<f1r.3,+P0> syaiir.sheky.or.ykaiin.shod.cthoary.cthes.daraiin.sy',\n",
       " '<f1r.4,+P0> soiin.oteey.oteo[s:r],roloty.cthiar,daiin.okaiin.or.okan',\n",
       " '<f1r.5,+P0> sair,y.chear.cthaiin.cphar.cfhaiin',\n",
       " '<f1r.6,=Pt> ydaraishy<$>',\n",
       " \"<f1r.7,*P0> <%><!doodle: @252;>odar.{c'y}.shol.cphoy.oydar.sh.s.cfhoaiin.shodary\",\n",
       " '<f1r.8,+P0> yshey.shody.okchoy.otchol.chocthy.os,chy.dain.chor.kos',\n",
       " '<f1r.9,+P0> daiin.shos.cfhol.shody']"
      ]
     },
     "execution_count": 5,
     "metadata": {},
     "output_type": "execute_result"
    }
   ],
   "source": [
    "lines = [re.sub(\"\\s\\s+\" , \" \", line) for line in lines]\n",
    "lines[0:10]"
   ]
  },
  {
   "cell_type": "code",
   "execution_count": 6,
   "metadata": {},
   "outputs": [
    {
     "data": {
      "text/plain": [
       "'<f1r> <! $Q=A $P=A $F=a $B=1 $I=T $L=A $H=1 $C=1 $X=V>'"
      ]
     },
     "execution_count": 6,
     "metadata": {},
     "output_type": "execute_result"
    }
   ],
   "source": [
    "line = lines[0]\n",
    "line"
   ]
  },
  {
   "cell_type": "code",
   "execution_count": 7,
   "metadata": {},
   "outputs": [
    {
     "data": {
      "text/plain": [
       "('f1r', '<! $Q=A $P=A $F=a $B=1 $I=T $L=A $H=1 $C=1 $X=V>')"
      ]
     },
     "execution_count": 7,
     "metadata": {},
     "output_type": "execute_result"
    }
   ],
   "source": [
    "a, b = line.split(\"> \")\n",
    "a = a[1:]\n",
    "a, b"
   ]
  },
  {
   "cell_type": "code",
   "execution_count": 8,
   "metadata": {},
   "outputs": [
    {
     "ename": "SyntaxError",
     "evalue": "unexpected EOF while parsing (<ipython-input-8-9000a9a5ddb9>, line 7)",
     "output_type": "error",
     "traceback": [
      "\u001b[1;36m  File \u001b[1;32m\"<ipython-input-8-9000a9a5ddb9>\"\u001b[1;36m, line \u001b[1;32m7\u001b[0m\n\u001b[1;33m    \u001b[0m\n\u001b[1;37m    ^\u001b[0m\n\u001b[1;31mSyntaxError\u001b[0m\u001b[1;31m:\u001b[0m unexpected EOF while parsing\n"
     ]
    }
   ],
   "source": [
    "# identify if this line is a page header or transliteration item\n",
    "if \",\" not in a: # page header\n",
    "    page_name = a\n",
    "    b = b.replace(\">\", \"\").replace(\"<!\", \"\").strip()\n",
    "    variables = b.split()\n",
    "else: # transliteration item\n",
    "    \n",
    "    "
   ]
  },
  {
   "cell_type": "code",
   "execution_count": 9,
   "metadata": {},
   "outputs": [
    {
     "data": {
      "text/plain": [
       "['$Q=A', '$P=A', '$F=a', '$B=1', '$I=T', '$L=A', '$H=1', '$C=1', '$X=V']"
      ]
     },
     "execution_count": 9,
     "metadata": {},
     "output_type": "execute_result"
    }
   ],
   "source": [
    "page_name = a\n",
    "b = b.replace(\">\", \"\").replace(\"<!\", \"\").strip()\n",
    "variables = b.split()\n",
    "variables"
   ]
  },
  {
   "cell_type": "code",
   "execution_count": 24,
   "metadata": {},
   "outputs": [
    {
     "data": {
      "text/plain": [
       "('$Q', 'A')"
      ]
     },
     "execution_count": 24,
     "metadata": {},
     "output_type": "execute_result"
    }
   ],
   "source": [
    "variable = variables[0]\n",
    "var, val = variable.split(\"=\")\n",
    "var, val"
   ]
  },
  {
   "cell_type": "code",
   "execution_count": 5,
   "metadata": {},
   "outputs": [
    {
     "data": {
      "text/plain": [
       "['f1r.1,@P0', '%', '!doodle: @254;']"
      ]
     },
     "execution_count": 5,
     "metadata": {},
     "output_type": "execute_result"
    }
   ],
   "source": [
    "re.findall(\"\\<(.*?)\\>\", lines[1])"
   ]
  },
  {
   "cell_type": "code",
   "execution_count": 10,
   "metadata": {},
   "outputs": [],
   "source": [
    "class VoynichManuscript:\n",
    "    \n",
    "    def __init__(self, path_to_txt):\n",
    "        self._parse(path_to_txt)\n",
    "        \n",
    "        self.quines = dict()\n",
    "        \n",
    "    def _parse(self, path_to_txt):\n",
    "        with open(\"data/raw/ZL_ivtff_1r.txt\", \"r\") as f:\n",
    "            lines = [l.strip() for l in f.readlines() if l[0] != \"#\" and len(l) > 1]\n",
    "        "
   ]
  },
  {
   "cell_type": "code",
   "execution_count": null,
   "metadata": {},
   "outputs": [],
   "source": [
    "VoynichManuscript.quines[]"
   ]
  },
  {
   "cell_type": "code",
   "execution_count": 30,
   "metadata": {},
   "outputs": [
    {
     "data": {
      "text/plain": [
       "'\\x80'"
      ]
     },
     "execution_count": 30,
     "metadata": {},
     "output_type": "execute_result"
    }
   ],
   "source": [
    "chr(128)"
   ]
  },
  {
   "cell_type": "code",
   "execution_count": null,
   "metadata": {},
   "outputs": [],
   "source": [
    "p = re.compile(\"\")\n"
   ]
  },
  {
   "cell_type": "code",
   "execution_count": 44,
   "metadata": {},
   "outputs": [
    {
     "data": {
      "text/plain": [
       "[254, 252, 253, 194, 192, 130, 209, 163, 131, 246]"
      ]
     },
     "execution_count": 44,
     "metadata": {},
     "output_type": "execute_result"
    }
   ],
   "source": [
    "vals = []\n",
    "for line in lines:\n",
    "    vals.extend([int(s[1:]) for s in re.findall(\"@\\d{3}\", line)])\n",
    "vals[:10]"
   ]
  },
  {
   "cell_type": "code",
   "execution_count": 45,
   "metadata": {},
   "outputs": [
    {
     "data": {
      "text/plain": [
       "(254, 130)"
      ]
     },
     "execution_count": 45,
     "metadata": {},
     "output_type": "execute_result"
    }
   ],
   "source": [
    "max(vals), min(vals)"
   ]
  },
  {
   "cell_type": "code",
   "execution_count": 51,
   "metadata": {},
   "outputs": [
    {
     "name": "stdout",
     "output_type": "stream",
     "text": [
      "['\\x82', '\\x83', '\\x84', '\\x85', '\\x86', '\\x87', '\\x88', '\\x89', '\\x8a', '\\x8b', '\\x8c', '\\x8d', '\\x8e', '\\x8f', '\\x90', '\\x91', '\\x92', '\\x93', '\\x94', '\\x95', '\\x96', '\\x97', '\\x98', '\\x99', '\\x9a', '\\x9b', '\\x9c', '\\x9d', '\\x9e', '\\x9f', '\\xa0', '¡', '¢', '£', '¤', '¥', '¦', '§', '¨', '©', 'ª', '«', '¬', '\\xad', '®', '¯', '°', '±', '²', '³', '´', 'µ', '¶', '·', '¸', '¹', 'º', '»', '¼', '½', '¾', '¿', 'À', 'Á', 'Â', 'Ã', 'Ä', 'Å', 'Æ', 'Ç', 'È', 'É', 'Ê', 'Ë', 'Ì', 'Í', 'Î', 'Ï', 'Ð', 'Ñ', 'Ò', 'Ó', 'Ô', 'Õ', 'Ö', '×', 'Ø', 'Ù', 'Ú', 'Û', 'Ü', 'Ý', 'Þ', 'ß', 'à', 'á', 'â', 'ã', 'ä', 'å', 'æ', 'ç', 'è', 'é', 'ê', 'ë', 'ì', 'í', 'î', 'ï', 'ð', 'ñ', 'ò', 'ó', 'ô', 'õ', 'ö', '÷', 'ø', 'ù', 'ú', 'û', 'ü', 'ý', 'þ']\n"
     ]
    }
   ],
   "source": [
    "l = [chr(i) for i in range(130, 255)]\n",
    "print(l)"
   ]
  },
  {
   "cell_type": "code",
   "execution_count": 33,
   "metadata": {},
   "outputs": [
    {
     "data": {
      "text/plain": [
       "['<f1r> <! $Q=A $P=A $F=a $B=1 $I=T $L=A $H=1 $C=1 $X=V>',\n",
       " '<f1r.1,@P0> <%>fachys.ykal.ar.ataiin.shol.shory.[cth:oto]res.y.kor.sholdy<!doodle: @254;>',\n",
       " '<f1r.2,+P0> sory.ckhar.or,y.kair.chtaiin.shar.ase.cthar.cthar,dan',\n",
       " '<f1r.3,+P0> syaiir.sheky.or.ykaiin.shod.cthoary.cthes.daraiin.sy',\n",
       " '<f1r.4,+P0> soiin.oteey.oteo[s:r],roloty.cthiar,daiin.okaiin.or.okan',\n",
       " '<f1r.5,+P0> sair,y.chear.cthaiin.cphar.cfhaiin',\n",
       " '<f1r.6,=Pt> ydaraishy<$>',\n",
       " \"<f1r.7,*P0> <%><!doodle: @252;>odar.{c'y}.shol.cphoy.oydar.sh.s.cfhoaiin.shodary\",\n",
       " '<f1r.8,+P0> yshey.shody.okchoy.otchol.chocthy.os,chy.dain.chor.kos',\n",
       " '<f1r.9,+P0> daiin.shos.cfhol.shody']"
      ]
     },
     "execution_count": 33,
     "metadata": {},
     "output_type": "execute_result"
    }
   ],
   "source": [
    "lines[:10]"
   ]
  },
  {
   "cell_type": "markdown",
   "metadata": {},
   "source": [
    "# datastructure plan\n",
    "- Manuscript\n",
    "    - name\n",
    "    - dict of Quines\n",
    "        - key is either integer ID (int) or , value is the Quine object\n",
    "    - iterpages()\n",
    "    - iterquines()\n",
    "    - iterlines()\n",
    "<!-- \n",
    "- Quine\n",
    "    - name\n",
    "    - contains dict of Pages\n",
    "        - key is page ID (str)\n",
    "    - iterpages()\n",
    "        - iterates over quines in correct order -->\n",
    "\n",
    "- Page\n",
    "    - name\n",
    "    - petersen_page_num\n",
    "    - contains dict of Lines\n",
    "    - contains list of paragraphs (just strings of concatenated)\n",
    "    - iterlines()\n",
    "        - iterates over line objects in the correct order\n",
    "        - Sort by splitting on\n",
    "    - iterparagraphs()\n",
    "        - iterate through the paragraphs\n",
    "- Line\n",
    "    - page name\n",
    "    - line num\n",
    "    - locator\n",
    "    - locus\n",
    "    - text\n"
   ]
  },
  {
   "cell_type": "markdown",
   "metadata": {},
   "source": [
    "# Parsing\n",
    "- All takes place inside method in Voynich class\n",
    "- Remove all comment lines\n",
    "- track current page\n",
    "- iterate through line by line in txt\n",
    "    - identify if current line is new page header or transliterated item\n",
    "        - if new page header\n",
    "            - get page name from a\n",
    "            - get variables from b\n",
    "                - int quire # from Q (convert A~T to numeric)\n",
    "                - int page # from P (convert A~X to numeric)\n",
    "                - int folio # within quire from F (convert a-f, u-z to numeric)\n",
    "                - int bifolio # from B (1-6 convert to int)\n",
    "                - str illustration type from I (A -> astronomical, B -> biological, C-> Cosmological, H -> herbal, P -> pharmaceutical, S -> marginal stars only,  T -> text only, Z -> zodiac)\n",
    "                - str currier language from L (A, B)\n",
    "                - str writing hand from H\n",
    "                - str currier's hand from C\n",
    "                - str extraneous writing presence from X\n",
    "            - create page object with above variables, add it to main class\n",
    "        - if transliterated item\n",
    "            - get info about line\n",
    "                - <page.line,locatorlocus>\n",
    "                - split on ,\n",
    "                - split page name on . to get page name and line #\n",
    "                - split locus by first char and last two\n",
    "            - clean\n",
    "                - remove \"<->\" from inside lines, these represent text being interrupted by an image or diagram\n",
    "                - remove \"<! ...>\" text (regex), these are comments\n",
    "            - Create new line object and add it to the current page's lines\n"
   ]
  },
  {
   "cell_type": "markdown",
   "metadata": {},
   "source": [
    "# Post processing\n",
    "\n",
    "- Add petersen page number to each page object\n",
    "- Get paragraphs\n",
    "    - if this line is paragraph\n",
    "        - if <%> present, set \"in paragraph\" boolean to true\n",
    "        - if currently in a paragraph\n",
    "            - clean text\n",
    "                - strip out the <$> (just for here)\n",
    "            - append current line to an accumulating paragraph string (also append a . to end of each line)\n",
    "        - if <$> present, set \"in paragraph\" boolean to false"
   ]
  },
  {
   "cell_type": "code",
   "execution_count": 73,
   "metadata": {},
   "outputs": [],
   "source": [
    "class Hello:\n",
    "    def __init__(self, name):\n",
    "        self.name = name\n",
    "        self.byes = [1,2,3]\n",
    "\n",
    "    def __repr__(self):\n",
    "        return f\"Hello(name={self.name})\""
   ]
  },
  {
   "cell_type": "code",
   "execution_count": 81,
   "metadata": {},
   "outputs": [],
   "source": [
    "alphabet = \"ABCDEFGHIJKLMNOPQRSTUVWXYZ\"\n",
    "letter_to_idx = {l:i for i, l in enumerate(alphabet)}"
   ]
  },
  {
   "cell_type": "code",
   "execution_count": 87,
   "metadata": {},
   "outputs": [
    {
     "data": {
      "text/plain": [
       "14"
      ]
     },
     "execution_count": 87,
     "metadata": {},
     "output_type": "execute_result"
    }
   ],
   "source": [
    "int(re.search(r'\\d+', \"f14v3\").group())\n"
   ]
  },
  {
   "cell_type": "code",
   "execution_count": 88,
   "metadata": {},
   "outputs": [],
   "source": [
    "locus_to_description = {\n",
    "    \"P\": \"Linear text in paragraphs\",\n",
    "    \"P0\":\"Linear text in paragraphs, normal left-justified text\",\n",
    "    \"P1\":\"Linear text in paragraphs, normal paragraph text that is significantly away from the left, typically due to a drawing, or some other text to its left\",\n",
    "    \"Pb\":\"Linear text in paragraphs, a free‐floating set of lines in a non‐standard location.\",\n",
    "    \"Pc\":\"Linear text in paragraphs, a roughly centred line (compared to the previous line)\",\n",
    "    \"Pr\":\"Linear text in paragraphs, a (roughly) right‐justified line\",\n",
    "    \"Pt\":\"Linear text in paragraphs, a right‐justified ‘title’ which is on the same line as the previous item\",\n",
    "    \"L\":\"Short piece of text that is anywhere on the page. Mostly these are the so‐called labels\",\n",
    "    \"L0\":\"Short piece of text that is anywhere on the page. Mostly these are the so‐called labels. It is not clearly near any drawing element\",\n",
    "    \"La\":\"Short piece of text that is anywhere on the page. Mostly these are the so‐called labels. A label of an astronomical or cosmological drawing element, which is not a star or a zodiac element\",\n",
    "    \"Lc\":\"Short piece of text that is anywhere on the page. Mostly these are the so‐called labels. A label of a container in the pharmaceutical section\",\n",
    "    \"Lf\":\"Short piece of text that is anywhere on the page. Mostly these are the so‐called labels. A label of a fragment of a herb in the pharmaceutical section\",\n",
    "    \"Ln\":\"Short piece of text that is anywhere on the page. Mostly these are the so‐called labels. A label of a nymph in the biological section\",\n",
    "    \"Lp\":\"Short piece of text that is anywhere on the page. Mostly these are the so‐called labels. A label of a large herb or plant drawing (in the herbal section)\",\n",
    "    \"Ls\":\"Short piece of text that is anywhere on the page. Mostly these are the so‐called labels. A label of a star\",\n",
    "    \"Lt\":\"Short piece of text that is anywhere on the page. Mostly these are the so‐called labels. A label of a tube or a tub in the biological section (essentially everything that is not a nymph)\",\n",
    "    \"Lx\":\"Short piece of text that is anywhere on the page. Mostly these are the so‐called labels. Extraneous writing (e.g. in the margin)\",\n",
    "    \"Lz\":\"Short piece of text that is anywhere on the page. Mostly these are the so‐called labels. A label of a zodiac element\",\n",
    "    \"C\":\"Text along the circumference of a circle\",\n",
    "    \"Ca\":\"Text along the circumference of a circle. The text runs anti‐clockwise\",\n",
    "    \"Cc\":\"Text along the circumference of a circle. The text runs clockwise\",\n",
    "    \"R\":\"Text along the radius of a circle.\",\n",
    "    \"Ri\":\"Text along the radius of a circle. The text runs outside to inside (inwards)\",\n",
    "    \"Ro\":\"Text along the circumference of a circle. The text runs inside to outside (outwards)\"\n",
    " }"
   ]
  },
  {
   "cell_type": "code",
   "execution_count": null,
   "metadata": {},
   "outputs": [],
   "source": [
    "locator_to_description = {\n",
    "    \"@\":\"The position of this locus is unrelated to the previous item, or not easily described by one of the following. This locator is always used for the first item on each page.\",\n",
    "    \"+\":\"This locus is generally below the previous item. This is the most common case.\",\n",
    "    \"*\":\"The locus is at the start of the line below the previous item, but at the left margin, while the previous item was not.\",\n",
    "    \"-\":\"The locus is on the same line as the previous item, but across a drawing element (future extension, not yet used)\",\n",
    "    \"=\":\"The locus is on the same line as the previous item, but separated by some white space.\",\n",
    "    \"&\":\"The locus is on the same line as the previous item, but along a circular line\",\n",
    "    \"~\":\"The locus is on the same line as the previous item, but the vertical alignment is not good.\",\n",
    "}"
   ]
  },
  {
   "cell_type": "code",
   "execution_count": 91,
   "metadata": {},
   "outputs": [
    {
     "data": {
      "text/plain": [
       "'Linear text in paragraphs, normal left-justified text'"
      ]
     },
     "execution_count": 91,
     "metadata": {},
     "output_type": "execute_result"
    }
   ],
   "source": [
    "locus_to_description[\"P0\"]"
   ]
  },
  {
   "cell_type": "code",
   "execution_count": null,
   "metadata": {},
   "outputs": [],
   "source": [
    "char_to_illust_type = {\n",
    "    \"A\":\"Astronomical\",\n",
    "    \"B\":\"Biological\",\n",
    "    \"C\":\"Cosmological\",\n",
    "    \"H\":\"Herbal\",\n",
    "    \"P\":\"Pharmaceutical\",\n",
    "    \"S\":\"Marginal Stars Only\",\n",
    "    \"T\":\"Text-Only\",\n",
    "    \"Z\":\"Zodiac\",\n",
    "}"
   ]
  },
  {
   "cell_type": "code",
   "execution_count": 75,
   "metadata": {},
   "outputs": [],
   "source": [
    "class Hi:\n",
    "    def __init__(self, hi, yo=None, bye=None):\n",
    "        # for k, v in kwargs.items():\n",
    "        #     setattr(self, k, v)\n",
    "        self.hi = hi\n",
    "        self.yo = yo\n",
    "        self.bye = bye\n",
    "        \n",
    "Hi(**{\"hi\":1, \"yo\":5}).bye"
   ]
  },
  {
   "cell_type": "code",
   "execution_count": 61,
   "metadata": {},
   "outputs": [],
   "source": [
    "var_str = \"<! $Q=A $P=L $F=x $B=3 $I=H $L=A $H=1 $C=1>\""
   ]
  },
  {
   "cell_type": "code",
   "execution_count": 65,
   "metadata": {},
   "outputs": [
    {
     "data": {
      "text/plain": [
       "[['Q', 'A'],\n",
       " ['P', 'L'],\n",
       " ['F', 'x'],\n",
       " ['B', '3'],\n",
       " ['I', 'H'],\n",
       " ['L', 'A'],\n",
       " ['H', '1'],\n",
       " ['C', '1']]"
      ]
     },
     "execution_count": 65,
     "metadata": {},
     "output_type": "execute_result"
    }
   ],
   "source": [
    "variables = var_str.replace(\">\", \"\").replace(\"<!\", \"\").strip().split()\n",
    "variables = [s[1:].split(\"=\") for s in variables]\n",
    "variables"
   ]
  },
  {
   "cell_type": "code",
   "execution_count": 135,
   "metadata": {},
   "outputs": [
    {
     "data": {
      "text/plain": [
       "{'quire_num': 13,\n",
       " 'page_num': 13,\n",
       " 'folio_num': 23,\n",
       " 'bifolio_num': 4,\n",
       " 'illust_type': 'Biological',\n",
       " 'currier_language': 'B',\n",
       " 'hand': 2,\n",
       " 'currier_hand': 2}"
      ]
     },
     "execution_count": 135,
     "metadata": {},
     "output_type": "execute_result"
    }
   ],
   "source": [
    "alphabet = \"ABCDEFGHIJKLMNOPQRSTUVWXYZ\"\n",
    "letter_to_num = {l:i+1 for i,l in enumerate(alphabet)}\n",
    "alphabet = \"abcdefghijklmnopqrstuvwxyz\"\n",
    "letter_to_num.update({l:i+1 for i,l in enumerate(alphabet)})\n",
    "\n",
    "char_to_illust_type = {\n",
    "    \"A\":\"Astronomical\",\n",
    "    \"B\":\"Biological\",\n",
    "    \"C\":\"Cosmological\",\n",
    "    \"H\":\"Herbal\",\n",
    "    \"P\":\"Pharmaceutical\",\n",
    "    \"S\":\"Marginal Stars Only\",\n",
    "    \"T\":\"Text-Only\",\n",
    "    \"Z\":\"Zodiac\",\n",
    "}\n",
    "\n",
    "def _parse_variables(var_str):\n",
    "    var_dict = dict()\n",
    "    \n",
    "    # split the header str into tuples of variables and their values\n",
    "    variables = var_str.replace(\">\", \"\").replace(\"<!\", \"\").strip().split()\n",
    "    variables = [s[1:].split(\"=\") for s in variables]\n",
    "    \n",
    "    # iter through the var/val tuples and parse them accordingly\n",
    "    for (var, val) in variables:\n",
    "        if var == \"Q\":\n",
    "            var_dict[\"quire_num\"] = letter_to_num[val]\n",
    "        elif var == \"P\":\n",
    "            var_dict[\"page_num\"] = letter_to_num[val]\n",
    "        elif var == \"F\":\n",
    "            var_dict[\"folio_num\"] = letter_to_num[val]\n",
    "        elif var == \"B\":\n",
    "            var_dict[\"bifolio_num\"] = int(val)\n",
    "        elif var == \"I\":\n",
    "            var_dict[\"illust_type\"] = char_to_illust_type[val]\n",
    "        elif var == \"L\":\n",
    "            var_dict[\"currier_language\"] = val\n",
    "        elif var == \"H\":\n",
    "            var_dict[\"hand\"] = int(val) if val.isnumeric() else val\n",
    "        elif var == \"C\":\n",
    "            var_dict[\"currier_hand\"] = int(val) if val.isnumeric() else val\n",
    "        elif var == \"X\":\n",
    "            var_dict[\"extraneous_writing\"] = val # will leave this as abbreviation for now\n",
    "    \n",
    "    return var_dict\n",
    "\n",
    "_parse_variables(\"<! $Q=M $P=M $F=w $B=4 $I=B $L=B $H=2 $C=2>\")"
   ]
  },
  {
   "cell_type": "code",
   "execution_count": 68,
   "metadata": {},
   "outputs": [
    {
     "data": {
      "text/plain": [
       "{'A': 1,\n",
       " 'B': 2,\n",
       " 'C': 3,\n",
       " 'D': 4,\n",
       " 'E': 5,\n",
       " 'F': 6,\n",
       " 'G': 7,\n",
       " 'H': 8,\n",
       " 'I': 9,\n",
       " 'J': 10,\n",
       " 'K': 11,\n",
       " 'L': 12,\n",
       " 'M': 13,\n",
       " 'N': 14,\n",
       " 'O': 15,\n",
       " 'P': 16,\n",
       " 'Q': 17,\n",
       " 'R': 18,\n",
       " 'S': 19,\n",
       " 'T': 20,\n",
       " 'U': 21,\n",
       " 'V': 22,\n",
       " 'W': 23,\n",
       " 'X': 24,\n",
       " 'Y': 25,\n",
       " 'Z': 26,\n",
       " 'a': 1,\n",
       " 'b': 2,\n",
       " 'c': 3,\n",
       " 'd': 4,\n",
       " 'e': 5,\n",
       " 'f': 6,\n",
       " 'g': 7,\n",
       " 'h': 8,\n",
       " 'i': 9,\n",
       " 'j': 10,\n",
       " 'k': 11,\n",
       " 'l': 12,\n",
       " 'm': 13,\n",
       " 'n': 14,\n",
       " 'o': 15,\n",
       " 'p': 16,\n",
       " 'q': 17,\n",
       " 'r': 18,\n",
       " 's': 19,\n",
       " 't': 20,\n",
       " 'u': 21,\n",
       " 'v': 22,\n",
       " 'w': 23,\n",
       " 'x': 24,\n",
       " 'y': 25,\n",
       " 'z': 26}"
      ]
     },
     "execution_count": 68,
     "metadata": {},
     "output_type": "execute_result"
    }
   ],
   "source": [
    "alphabet = \"ABCDEFGHIJKLMNOPQRSTUVWXYZ\"\n",
    "letter_to_idx = {l:i+1 for i,l in enumerate(alphabet)}\n",
    "alphabet = \"abcdefghijklmnopqrstuvwxyz\"\n",
    "letter_to_idx.update({l:i+1 for i,l in enumerate(alphabet)})\n",
    "letter_to_idx"
   ]
  },
  {
   "cell_type": "code",
   "execution_count": 79,
   "metadata": {},
   "outputs": [
    {
     "data": {
      "text/plain": [
       "'<f1r.1,@P0> <%>fachys.ykal.ar.ataiin.shol.shory.[cth:oto]res.y.kor.sholdy<!doodle: @254;>'"
      ]
     },
     "execution_count": 79,
     "metadata": {},
     "output_type": "execute_result"
    }
   ],
   "source": [
    "line = lines[1]\n",
    "line"
   ]
  },
  {
   "cell_type": "code",
   "execution_count": 82,
   "metadata": {},
   "outputs": [
    {
     "data": {
      "text/plain": [
       "('f1r.1,@P0',\n",
       " '<%>fachys.ykal.ar.ataiin.shol.shory.[cth:oto]res.y.kor.sholdy<!doodle: @254;>')"
      ]
     },
     "execution_count": 82,
     "metadata": {},
     "output_type": "execute_result"
    }
   ],
   "source": [
    "a, b = line.split(\"> \")\n",
    "a = a[1:]\n",
    "a, b"
   ]
  },
  {
   "cell_type": "code",
   "execution_count": 85,
   "metadata": {},
   "outputs": [
    {
     "data": {
      "text/plain": [
       "('f1r', '1', '@', 'P0')"
      ]
     },
     "execution_count": 85,
     "metadata": {},
     "output_type": "execute_result"
    }
   ],
   "source": [
    "page_info, locus_info = a.split(\",\")\n",
    "page_name, line_num = page_info.split(\".\")\n",
    "locator, locus = locus_info[0], locus_info[1:]\n",
    "page_name, line_num, locator, locus"
   ]
  },
  {
   "cell_type": "code",
   "execution_count": 86,
   "metadata": {},
   "outputs": [
    {
     "data": {
      "text/plain": [
       "'<%>fachys.ykal.ar.ataiin.shol.shory.[cth:oto]res.y.kor.sholdy<!doodle: @254;>'"
      ]
     },
     "execution_count": 86,
     "metadata": {},
     "output_type": "execute_result"
    }
   ],
   "source": [
    "b"
   ]
  },
  {
   "cell_type": "code",
   "execution_count": 88,
   "metadata": {},
   "outputs": [
    {
     "data": {
      "text/plain": [
       "'<%>fachys.ykal.ar.ataiin.shol.shory.[cth:oto]res.y.kor.sholdy'"
      ]
     },
     "execution_count": 88,
     "metadata": {},
     "output_type": "execute_result"
    }
   ],
   "source": [
    "re.sub(\"\\<!.*?\\>\", \"\", b)"
   ]
  },
  {
   "cell_type": "code",
   "execution_count": 89,
   "metadata": {},
   "outputs": [
    {
     "data": {
      "text/plain": [
       "'<%>fachys.ykal.ar.ataiin.shol.shory.[cth:oto]res.y.kor.sholdy.sory.ckhar.or,y.kair.chtaiin.shar.ase.cthar.cthar,dan'"
      ]
     },
     "execution_count": 89,
     "metadata": {},
     "output_type": "execute_result"
    }
   ],
   "source": [
    "hi = \"<%>fachys.ykal.ar.ataiin.shol.shory.[cth:oto]res.y.kor.sholdy<!doodle: @254;>.sory.ckhar.or,y.kair.chtaiin.shar.ase.cthar.cthar,dan<!blah>\"\n",
    "re.sub(\"\\<!.*?\\>\", \"\", hi)"
   ]
  },
  {
   "cell_type": "code",
   "execution_count": 46,
   "metadata": {},
   "outputs": [],
   "source": [
    "from voynich import VoynichManuscript\n",
    "\n",
    "path_to_txt = \"data/raw/ZL_ivtff_1r.txt\"\n",
    "vm = VoynichManuscript(path_to_txt)"
   ]
  },
  {
   "cell_type": "code",
   "execution_count": 49,
   "metadata": {},
   "outputs": [
    {
     "data": {
      "text/plain": [
       "[Line(<f1r.1,@P0> <%>fachys.ykal.ar.ataiin.shol.shory.[cth:oto]res.y.kor.sholdy),\n",
       " Line(<f1r.2,+P0> sory.ckhar.or,y.kair.chtaiin.shar.ase.cthar.cthar,dan),\n",
       " Line(<f1r.3,+P0> syaiir.sheky.or.ykaiin.shod.cthoary.cthes.daraiin.sy),\n",
       " Line(<f1r.4,+P0> soiin.oteey.oteo[s:r],roloty.cthiar,daiin.okaiin.or.okan),\n",
       " Line(<f1r.5,+P0> sair,y.chear.cthaiin.cphar.cfhaiin),\n",
       " Line(<f1r.6,=Pt> ydaraishy<$>),\n",
       " Line(<f1r.7,*P0> <%>odar.{c'y}.shol.cphoy.oydar.sh.s.cfhoaiin.shodary),\n",
       " Line(<f1r.8,+P0> yshey.shody.okchoy.otchol.chocthy.os,chy.dain.chor.kos),\n",
       " Line(<f1r.9,+P0> daiin.shos.cfhol.shody),\n",
       " Line(<f1r.10,=Pt> dain.os.teody<$>),\n",
       " Line(<f1r.11,*P0> <%>ydain.cphesaiin.ols.cphey.ytain.shoshy.cphodal,es),\n",
       " Line(<f1r.12,+P0> oksho.kshoy.otairin.oteol.okan.shodain.sckhey.daiin),\n",
       " Line(<f1r.13,+P0> shoy.ckhey.kodaiin.cphy.cphodaiils.cthey.sho.oldain.d),\n",
       " Line(<f1r.14,+P0> dain.oiin.chol.odaiin.chodain.chdy.ok[a:o]in.d?n.cthy.kod),\n",
       " Line(<f1r.15,+P0> daiin.shckhey.{ck}eo.r.char.shey.kol.chol.chol.kor.chal),\n",
       " Line(<f1r.16,+P0> sho.chol.shodan.kshy.kchy.d.or.chodaiin.sho.koeam),\n",
       " Line(<f1r.17,+P0> ycho.tchey.chekain.sheo,pshol.dydyd.cthy.dai[{cto}:@194;]y),\n",
       " Line(<f1r.18,+P0> yto.shol.she.kodshey.cphealy.dar,ain.dain.ckhyds),\n",
       " Line(<f1r.19,+P0> dchar.shcthaiin.okaiir.chey.@192;chy.@130;tol.cthols.dlo{ct}o),\n",
       " Line(<f1r.20,+P0> shok.chor.chey.dain.ckhey),\n",
       " Line(<f1r.21,=Pt> otol.daiiin<$>),\n",
       " Line(<f1r.22,*P0> <%>cpho.shaiin.shokcheey.chol.tshodeesy.shey.pydeey.chy.r,o,d),\n",
       " Line(<f1r.23,+P0> ??doin.chol.dain.cthal.dar.shear.kaiin.dar.shey.cthar),\n",
       " Line(<f1r.24,+P0> cho.?o.kaiin.shoaiin.okol.daiin.far.cthol.daiin.ctholdar),\n",
       " Line(<f1r.25,+P0> ycheey.okeey.oky.daiin.okchey.kokaiin.o?chol.k?dchy.dal),\n",
       " Line(<f1r.26,+P0> dcheo.shody.koshey.cthy.ok,chey.keey.keey,dal.chtor),\n",
       " Line(<f1r.27,+P0> ?eo?.chol.chok.choty.chotey),\n",
       " Line(<f1r.28,=Pt> dchaiin<$>),\n",
       " Line(<f1r.29,@Lx> d),\n",
       " Line(<f1r.30,+Lx> r),\n",
       " Line(<f1r.31,@Lx> g),\n",
       " Line(<f1v.1,@P0> <%>kchsy.chydaiin.ol.o,l,tchey.char.cfhar,am),\n",
       " Line(<f1v.2,+P0> yteey.char.or.ochy.dcho.lkody.okodar.chody),\n",
       " Line(<f1v.3,+P0> da,ckhy.ckhockhy.shy.dksheey.cthy.kotchody.dal),\n",
       " Line(<f1v.4,+P0> dol.chokeo.dair.dam.sochey.chokody<$>),\n",
       " Line(<f1v.5,+P0> <%>potoy.shol.dair.cphoal.dar.chey.tody.otoaiin.shoshy),\n",
       " Line(<f1v.6,+P0> choky.chol.ctho,l,shol.okal.dolchey.chodo.lol.chy.cthy),\n",
       " Line(<f1v.7,+P0> qo.ol,choees.cheol.dol.cthey.ykol.dol.dolo.ykol.do,lchiody),\n",
       " Line(<f1v.8,+P0> okolshol.kol,kechy.chol.ky.chol.cthol.chody.chol.daiin),\n",
       " Line(<f1v.9,+P0> shor.okol.chol.dol,ky.dar.shol.dchor.o,tcho.dar.[sh:{@209;h}]ody),\n",
       " Line(<f1v.10,+P0> taor.chotchey.dal.chody.schody.pol.chodar<$>),\n",
       " Line(<f2r.1,@P0> <%>kydainy.ypchol.daiin.otchal.ypchaiin.ckholsy),\n",
       " Line(<f2r.2,+P0> dorchory.chkar.s.shor.cthy.{cto}),\n",
       " Line(<f2r.3,+P0> qotaiin.cthey.y.chor.chy.ydy.chaiin),\n",
       " Line(<f2r.4,+P0> {c'o}aiidy.chtod,dy.cphy.dals.chokaiin.d),\n",
       " Line(<f2r.5,+P0> otochor.al.shodaiin.chol,dan.ytchaiin.dan),\n",
       " Line(<f2r.6,+P0> saiin.dain,d.dkol.sor.ytoldy.dchol.dchy.cthy),\n",
       " Line(<f2r.7,+P0> shor.ckhy.daiiny.chol,dan<$>),\n",
       " Line(<f2r.8,+P0> <%>kydain.shaiin.qoy.s.shol.fodan.yksh.olsheey.daiildy),\n",
       " Line(<f2r.9,+P0> dls,sho.kol.sheey.qokey.ykody.so.chol,yky.dain.daiisol),\n",
       " Line(<f2r.10,+P0> qo'ky.cholaiin.shol.sheky.daiin.cthey.keol.saiin.e'a'iin),\n",
       " Line(<f2r.11,+P0> ychain.dal.chy.dalor.shan.dan,olsaiin.sheey.ckhor),\n",
       " Line(<f2r.12,+P0> okol.chy.chor.cthor.yor.an.chan.saiin.chety.chyky.sal),\n",
       " Line(<f2r.13,+P0> sho.ykeey.chey.daiin.chcthy<$>),\n",
       " Line(<f2r.14,@Lp> ytoail),\n",
       " Line(<f2r.15,@L0> ios.an.on),\n",
       " Line(<f2v.1,@P0> <%>kooiin.cheo,pchor.otaiin,odain.chor.dair.shty),\n",
       " Line(<f2v.2,+P0> kcho,kchy.sho.shol.qotcho.loeees.qoty.chor.daiin),\n",
       " Line(<f2v.3,+P0> otchy.chor.lshy.chol.chody.chodain.chcthy.daiin),\n",
       " Line(<f2v.4,+P0> sho.cholo.cheor.chodaiin<$>),\n",
       " Line(<f2v.5,+P0> <%>kchor.shy.daiiin.ch{cko}m.s,shey.dor,chol,daiin),\n",
       " Line(<f2v.6,+P0> dor.chol.chor.chol.keol.chy.chty.daiin.o,tchor.chan),\n",
       " Line(<f2v.7,+P0> daiin.chotchey.qoteeey.chokeos.chees.chr.cheaiin),\n",
       " Line(<f2v.8,+P0> chokoishe.chor.cheol.chol.dolody<$>),\n",
       " Line(<f3r.1,@P0> <%>tsheos.qopal.chol.cthol.daimg),\n",
       " Line(<f3r.2,+P0> ycheor.chor.dam.qotcham.cham),\n",
       " Line(<f3r.3,+P0> ochor.qocheor.chol.daiin.cthy),\n",
       " Line(<f3r.4,+P0> schey.chor.chal.chag.cham.cho),\n",
       " Line(<f3r.5,+P0> qokol.chololy.s.cham.cthol),\n",
       " Line(<f3r.6,+P0> ychtaiin.chor.cthom.otaldam),\n",
       " Line(<f3r.7,+P0> otchol.qodaiin.chom.shom.damo),\n",
       " Line(<f3r.8,+P0> ysheor.chor.chol.oky.dago),\n",
       " Line(<f3r.9,+P0> sho.vor.sheoldam.otchody.ol),\n",
       " Line(<f3r.10,+P0> ydar.cholcthom<$>),\n",
       " Line(<f3r.11,+P0> <%>pcheol.shol.sols.sheol.shey),\n",
       " Line(<f3r.12,+P0> okadaiin.qokchor.qo,schodam.octhy),\n",
       " Line(<f3r.13,+P0> qokeey.qot,shey.qokody.qokshey.cheody),\n",
       " Line(<f3r.14,+P0> chor.qodair.okeey.qokeey<$>),\n",
       " Line(<f3r.15,+P0> <%>tsheoarom.shor.or.chor.olchsy.chom.otchom.oporar),\n",
       " Line(<f3r.16,+P0> oteol.chol.s.cheol.ekshy.qokeom.qokol.daiin.soleeg),\n",
       " Line(<f3r.17,+P0> soeom.okeom.yteody.qokeeodal.sam<$>),\n",
       " Line(<f3r.18,+P0> <%>pcheoldom.shodaiin.qopchor.qopol.opchol,qoty.otolom),\n",
       " Line(<f3r.19,+P0> otchor.ol,cheor.qoeor.dair.qoteol.qosaiin.chor.cthy),\n",
       " Line(<f3r.20,+P0> ycheor.chol.odaiin.chol.s.aiin.okol,or.am<$>),\n",
       " Line(<f3v.1,@P0> <%>koaiin.cphor.qotoy.sha.ckhol.ykoaiin.s.oly),\n",
       " Line(<f3v.2,+P0> daiidy.qoteeol.okeeor.okor.olytol.dol,dar),\n",
       " Line(<f3v.3,+P0> okom.chol.shol.seees.chom.cheeykam.okai),\n",
       " Line(<f3v.4,+P0> qodar.ees.eey.kcheol.okal.do.r.chear,een),\n",
       " Line(<f3v.5,+P0> ychear.otchal.cho,r.char.ckh[a:y]),\n",
       " Line(<f3v.6,+P0> or.cheor.kor.chodaly.chom<$>),\n",
       " Line(<f3v.7,+P0> <%>tchor.otcham.chor.cfham.s),\n",
       " Line(<f3v.8,+P0> ykchy.kchom.chor.chckhol.oka),\n",
       " Line(<f3v.9,+P0> ytcheear.okeol.cthodoaly.chor.cthy),\n",
       " Line(<f3v.10,+P0> ochos.daiin.qokshol.daiim.chol.okary),\n",
       " Line(<f3v.11,+P0> sho.shockho.ckhy.tchor.chodaiin.chom),\n",
       " Line(<f3v.12,+P0> osh.chodair.ytchy.tchor.kcham.s),\n",
       " Line(<f3v.13,+P0> shar.shkaiin.qokchy.yty.cthal.chky),\n",
       " Line(<f3v.14,+P0> dain.sheam.y,keam<$>),\n",
       " Line(<f4r.1,@P0> <%>kodalchy.chpady.sheol.ol,sheey.qotey.doiin.chor.ytoy),\n",
       " Line(<f4r.2,+P0> dchor.shol.shol.cthol.shtchy.chaiin.@163;s.choraiin.chom),\n",
       " Line(<f4r.3,+P0> otchol.chol.chy.chaiin.qotaiin.daiin.shain),\n",
       " Line(<f4r.4,+P0> qotchol,chy.yty.daiin.okaiin.cthy<$>),\n",
       " Line(<f4r.5,+P0> <%>pydaiin.qotchy.dy,tydy),\n",
       " Line(<f4r.6,+P0> chor.shytchy.dytcheey),\n",
       " Line(<f4r.7,+P0> qotaiin.cthol.daiin.cthom),\n",
       " Line(<f4r.8,+P0> shor.shol.shol.cthy.cpholdy),\n",
       " Line(<f4r.9,+P0> daiin.ckhochy.tchy.kor,aiin),\n",
       " Line(<f4r.10,+P0> odal.shor.shyshol.cphaiin),\n",
       " Line(<f4r.11,+P0> qotchoiin.she[o:a]r.qoty),\n",
       " Line(<f4r.12,+P0> soiin.chaiin.chaiin),\n",
       " Line(<f4r.13,+P0> daiin.cthey<$>),\n",
       " Line(<f4v.1,@P0> <%>pchooiin.ksheo.kchoy.chopchy.dolds.dlod),\n",
       " Line(<f4v.2,+P0> ol.chey.chy.cthy.shkchor.sheo.cheory.choldy),\n",
       " Line(<f4v.3,+P0> sho.sho.chaiin.shaiin.daiin.qodaiin.o,aram),\n",
       " Line(<f4v.4,+P0> qok[sh:ch]y.qocthy.choteol.daiin.cthey.choaiin),\n",
       " Line(<f4v.5,+P0> shor.sheey.{cto}.otoiin.shey.qotchoiin.chodain),\n",
       " Line(<f4v.6,+P0> ytchoy.shokchy.cphody<$>),\n",
       " Line(<f4v.7,+P0> <%>torchy.sheeor.chor.chokch[y:e].cphydy),\n",
       " Line(<f4v.8,+P0> oleeeb.chor.cthol.sho.otor.cthory),\n",
       " Line(<f4v.9,+P0> qooko,iiin,cheog.chcthy.shoky.daiin),\n",
       " Line(<f4v.10,+P0> otaiin.sheo.okeody.chol,chokeody),\n",
       " Line(<f4v.11,+P0> sho.kcheor.shody.shtaiin.qotol,daiin),\n",
       " Line(<f4v.12,+P0> qokey.sho.okeol.s,keey.shar,char,ody),\n",
       " Line(<f4v.13,+P0> shody.s.cheor.chokody.shodaiin.qoty),\n",
       " Line(<f4v.14,+P0> ochody.chy,key.chtody<$>),\n",
       " Line(<f5r.1,@P0> <%>kchody.fchoy.chkoy.oaiin.oar,olsy.chody.dkshy,dy),\n",
       " Line(<f5r.2,+P0> ochey.okey.qokaiin.sho.ckhoy.cthey.chey.ok[a:y]{@131;o}s.otol),\n",
       " Line(<f5r.3,+P0> qoaiin.otan,chy.daiin.oteeeb.chocthy.otchy.qotchody),\n",
       " Line(<f5r.4,+P0> otain.sheody.chan.s.cheor.chocthy<$>),\n",
       " Line(<f5r.5,+P0> <%>tchy.shody.qoaiin.cholols.sho.qotcheo.daiin.shodaiin),\n",
       " Line(<f5r.6,+P0> sho.cheor,chey.qoeeey.qoykeeey.qoeor.cthy.shotshy.dy),\n",
       " Line(<f5r.7,+P0> qotoeey.keey.cheo,kchy.shody<$>),\n",
       " Line(<f5v.1,@P0> <%>k,o,cheor.chor.ytchey.pshod.chols.chodaiin.ytoiiin.daiin),\n",
       " Line(<f5v.2,+P0> dchol.{c'y}.chol.otaiin.dain.cthor.chots.ychopordg),\n",
       " Line(<f5v.3,+P0> qotcho.ytor.daiin.daiin.otchor.daiin.q'o.darchor.do),\n",
       " Line(<f5v.4,+P0> qotor.shees.otol.ykoiin.shol,daiin.cthor.okch,y,taiin),\n",
       " Line(<f5v.5,+P0> shokeeol.chor.cheotol.otchol.daiin.dal.chol,chotaiin),\n",
       " Line(<f5v.6,+P0> otol.chol.dairodg<$>),\n",
       " Line(<f6r.1,@P0> <%>foar.y.shol.cholor.cphol.chor.ch{ck}.chopchol.otcham),\n",
       " Line(<f6r.2,+P0> daiin.chckhy.chor.chor.kar.cthy.cthor.chotols),\n",
       " Line(<f6r.3,+P0> foeear.kshor.choky.os.cheoeees.ykeor.ytaiin.dam),\n",
       " Line(<f6r.4,+P0> dar.cho,s.sheor.cho{ith}y.otcham.yaiir.chy),\n",
       " Line(<f6r.5,+P0> t[a:o]r.okoiin.shees.ytaly.cthaiin.odam),\n",
       " Line(<f6r.6,+P0> or.al.daiin.ckham.okom.cthaiin.ydaiin),\n",
       " Line(<f6r.7,+P0> daiin.qodaiin.cho.s.chol.okaiin.s),\n",
       " Line(<f6r.8,+P0> ychol.ckhor.pchar.sheo.ckhaiin),\n",
       " Line(<f6r.9,+P0> dar.sheol.skaiiodar.otaiin.chory),\n",
       " Line(<f6r.10,+P0> tchor.ctheod.chy.shor.od,she.od),\n",
       " Line(<f6r.11,+P0> ychar.olchaj.ol.chokaiin),\n",
       " Line(<f6r.12,+P0> or.shol.cthom.chor.cthy),\n",
       " Line(<f6r.13,+P0> qocthol.[y:q]odaiin.cthy),\n",
       " Line(<f6r.14,+P0> ysho.taiin.y,kaiim<$>),\n",
       " Line(<f6v.1,@P0> <%>koary,sar.[ch:{oh}]eekar.qoor.shor.chapchy.s.chear.char.otchy),\n",
       " Line(<f6v.2,+P0> oees.chor.chckhy.qoekchar.chea[s:r].odaiiin.kchey.chor,chaiin),\n",
       " Line(<f6v.3,+P0> qoair.ckhy.chol.oechockhy.chekchoy.ckhy.okol.rychos),\n",
       " Line(<f6v.4,+P0> y,shckhy.ytchoy.s.os.y.jajy.dchy.dey.okody.ytody),\n",
       " Line(<f6v.5,+P0> dair.{c'ha},chodam.dam.okor.oty.doldom<$>),\n",
       " Line(<f6v.6,+P0> <%>tchody.shocthol.cho{cthh}y.s),\n",
       " Line(<f6v.7,+P0> ychos.ychol.daiin.cthol.dol),\n",
       " Line(<f6v.8,+P0> ychor.chor.okchey.qokom),\n",
       " Line(<f6v.9,+P0> oeeo,dal.chor.cthom.s),\n",
       " Line(<f6v.10,+P0> qokchod.ychear.kchdy),\n",
       " Line(<f6v.11,+P0> lor.char.otam.ctho,m,dy),\n",
       " Line(<f6v.12,+P0> ytcho[s:r].shy.qokam.cthy),\n",
       " Line(<f6v.13,+P0> yodaiin.cthy.s.chor.oees.or),\n",
       " Line(<f6v.14,+P0> qokor.chol.cthol.tchalody),\n",
       " Line(<f6v.15,+P0> chockhy.s.or.chy.s,ain.ar),\n",
       " Line(<f6v.16,+P0> ochy.cthar.cth[a:o]r.cthy),\n",
       " Line(<f6v.17,+P0> y,chaies.ckhal.cthodam.dy),\n",
       " Line(<f6v.18,+P0> ytchocthol.ches.{ith}or),\n",
       " Line(<f6v.19,+P0> ocholy.kchos.chy.dor),\n",
       " Line(<f6v.20,+P0> dchor.choldar.okol.daiin),\n",
       " Line(<f6v.21,+P0> ycheor.chor.octham<$>),\n",
       " Line(<f7r.1,@P0> <%>fchodaiin.shopchey.qko.shey.qoos.sheey.charochy),\n",
       " Line(<f7r.2,+P0> dcheey.keo.r.shor.dold.dchey.kchey.otchy.cheody),\n",
       " Line(<f7r.3,+P0> oeeees.cheodaiin.sheey.ytcheey.qotchy.chald),\n",
       " Line(<f7r.4,+P0> qokcho.cho.lochey.daiin.ychey.kchos.odaiin),\n",
       " Line(<f7r.5,+P0> oaiir.otaiin<$>),\n",
       " Line(<f7r.6,+P0> <%>ksholo,chey.qotoees.chkoldy.otchor.choaiin),\n",
       " Line(<f7r.7,+P0> dshoy.cthol.chol.otchol.dain.shody.shol.chotchy),\n",
       " Line(<f7r.8,+P0> okchey.deeeese.choty.qokchy.shol.keey.choty.dain),\n",
       " Line(<f7r.9,+P0> qokechy.ol,choiin.chol.cphey.shckhy.chochy.kchod),\n",
       " Line(<f7r.10,+P0> s,chain.chor.daiin.chckhy<$>),\n",
       " Line(<f7v.1,@P0> <%>polyshy.shey.tchody.qopchy.otshol.dy.daiin.tshodody),\n",
       " Line(<f7v.2,+P0> chochy.cthy.daiin.qoky.ch{cphh}y.daiin.cthol.cthy.cthd),\n",
       " Line(<f7v.3,+P0> qokchy.dykchy.chkeey.kshy.ky.ty.dor.cheey.o,l,cheol,dy),\n",
       " Line(<f7v.4,+P0> choteeeb.oeear.choschy.dain.sho.kshy.shol.deees.dol),\n",
       " Line(<f7v.5,+P0> dchodaiin.qotchy.cheey.tcheey<$>),\n",
       " Line(<f7v.6,+P0> <%>kchor.sheod.sheodaiin.sho,daiin.oksho,lshol.dair.qos),\n",
       " Line(<f7v.7,+P0> okshodeeeb.chorcheor,odaiin.shotch[o:?].dol.dol.dor.aiin),\n",
       " Line(<f7v.8,+P0> qoteeeo.r.cho,cheeody.qotchey.tey.o,kcho,r.daiin),\n",
       " Line(<f7v.9,+P0> sho.keeo.daiir.chokchy.dor.deol.dy.dol,daiin<$>),\n",
       " Line(<f8r.1,@P0> <%>pshol.chor.otshal.chopy.cph[o:a]l.chody.shy.cfhodar.shor),\n",
       " Line(<f8r.2,+P0> tchty.sh,kcheals.sho.okche.do.dchy.dain.al),\n",
       " Line(<f8r.3,+P0> chodar.shy.sy.chodaiin.shokchy.chor.dy),\n",
       " Line(<f8r.4,+P0> qotor.chor.chor.sheey.dchol.shesed.chof.chy.dam),\n",
       " Line(<f8r.5,+P0> okchey.do.r.cheeey.dy.ky.scho.chky.{ck}ooaiin.ch[y:a],taiin),\n",
       " Line(<f8r.6,+P0> tosh.{ck}cheey.koltoldy.shy.choety.cheeody.sol),\n",
       " Line(<f8r.7,+P0> choto.kchoan.choor.dain),\n",
       " Line(<f8r.8,=Pt> dcho.dain<$>),\n",
       " Line(<f8r.9,*P0> <%>tchoep.sho.pcheey.pchey.ofchey.dsheey.sholdaiin.shor),\n",
       " Line(<f8r.10,+P0> daiin.cheey.teeodan.dy.cheocthy.oksheo.dol.dairg),\n",
       " Line(<f8r.11,+P0> shol.cheodaiin.daiin.do.y,tchody.chot.choty.otariin),\n",
       " Line(<f8r.12,+P0> qo,chodaiin.shotokody.chotol),\n",
       " Line(<f8r.13,=Pt> okokchodg<$>),\n",
       " Line(<f8r.14,*P0> <%>{c@132;h}o.{c@196;h}ey.shol.chofydy.sho.chey.kshey.lody.cholal),\n",
       " Line(<f8r.15,+P0> dchey.ckhol.chol.chey.kc{cs}.chy.{cto}daiin.dol.daiiir[{ih}:ch]y.ckhy),\n",
       " Line(<f8r.16,+P0> ychey.kch[e:o]kchy.chsey,kchy.scheaiin.cthai{ih}ar.cthy.dar),\n",
       " Line(<f8r.17,+P0> chol.dchy.qokar.chl.aiin.chean.{ck}y.char.chaiin),\n",
       " Line(<f8r.18,+P0> okar.cfhaiin.chaiin.{cl}.daiin.chor.cha.rchealcham),\n",
       " Line(<f8r.19,+P0> sair.cheain.cphol.dar.shol.kaiin.shol.kaiin.dai,kam),\n",
       " Line(<f8r.20,+P0> or.cho,kesey.shey.o.kal.chal),\n",
       " Line(<f8r.21,=Pt> schol.saim<$>),\n",
       " Line(<f8v.1,@P0> <%>{c@216;h}od.soo{c@196;h}.sol.shol.otol.chol.opcheaiin.opydaiin.saiin),\n",
       " Line(<f8v.2,+P0> shcthal.sar.chor.sheaiin.shor.chykchy.otaiin.{ct}y),\n",
       " Line(<f8v.3,+P0> qody.cheal.sy.chory.chear.shol.chaiin.shaiin.dolas),\n",
       " Line(<f8v.4,+P0> dshol.shol.dol.chean.cthar.shealy.daiin.chary),\n",
       " Line(<f8v.5,+P0> chol.chol.dar.otchar.etaiin.cthol.dar),\n",
       " Line(<f8v.6,+P0> daiin.cthan.ytchy.chey,kaiin.dain.ar),\n",
       " Line(<f8v.7,+P0> sho.kchol.dar.shey.cthar.chotain.ry),\n",
       " Line(<f8v.8,+P0> okcholksh.chol.chol.chol.cthaiin.dain),\n",
       " Line(<f8v.9,+P0> shol.orchl.chokchy.chol.cthor.chaiin),\n",
       " Line(<f8v.10,+P0> scharchy.oeesody.kchey.pchy.cpharom),\n",
       " Line(<f8v.11,+P0> sorain<$>),\n",
       " Line(<f8v.12,+P0> <%>pchar.cho.rol.dal.shear.chchotaiin.chal.daiin),\n",
       " Line(<f8v.13,+P0> kchor.otchar.oky.chokain.keoky.otorchy.satar),\n",
       " Line(<f8v.14,+P0> shor.okol.lokaiin.shol.kol.char.cthey.tchy.ckham),\n",
       " Line(<f8v.15,+P0> or.chol.chan.ch{ck}y.chor.cheain.char.cheeky.chor.ry),\n",
       " Line(<f8v.16,+P0> chor.cheor.chear.oteey.dchor.chodey.cho.raiin),\n",
       " Line(<f8v.17,+P0> dain.chear.daiin<$>),\n",
       " Line(<f9r.1,@P0> <%>tydlo.choly.cthor.orchey.s.shy.odaiin.sary.shor.cthy),\n",
       " Line(<f9r.2,+P0> oykeey.chol,ytaiin.okchody.toeoky.okoiin.dy.or.chaiin),\n",
       " Line(<f9r.3,+P0> toiin.cphy.qotod.otaiin.cthy.okor.chey.ctho,d.ram),\n",
       " Line(<f9r.4,+P0> [y:o]shy.chokcho.chcthod,shor.shaiin.otar,dor.ytol.dayty),\n",
       " Line(<f9r.5,+P0> daiin.chor.sor.cthy.chokoiin.shol.dsholdy.otchol.ot.dy<$>),\n",
       " Line(<f9r.6,+P0> <%>pshoain.cthoaiin.okaiir.{c@134;h}odoral.shar.sy.shydal.chdy),\n",
       " Line(<f9r.7,+P0> or.chol.chy,tchy.tchol.ytor.qotol.chyky.chodar.aiin),\n",
       " Line(<f9r.8,+P0> qotcho.qokchy.cthey.koraiin.okain.d.dal.s.olshocth[y:g]),\n",
       " Line(<f9r.9,+P0> ocho,cthy.cho{cto}y.chodykchy.saiin,dchy.daiin),\n",
       " Line(<f9r.10,+Pc> ytcha[s:r].oraiin.chkor<$>),\n",
       " Line(<f9v.1,@P0> <%>fochor.oporody.opy.shor.daiin.qopchypcho.qofol.shol.cfhol.daiin),\n",
       " Line(<f9v.2,+P0> dchor.qoaiin.chkaiin.cthor.chol.chor.cphol.dy.oty.qokaiin.dy),\n",
       " Line(<f9v.3,+P0> ykey.chor.ykaiin.daiin.cthy.otaiin.oky.oeees.daiin),\n",
       " Line(<f9v.4,+P0> ytey,tch,y.kaiin.cthor.otol.oty.toldy<$>),\n",
       " Line(<f9v.5,+P0> <%>pchor.ypcheey.qotor.ypchy.olcfholy.t[o:e].ar.chty.daiiin),\n",
       " Line(<f9v.6,+P0> odol.choy.ksheody.chody.da[in:iin].otchy.cthod.yko),\n",
       " Line(<f9v.7,+P0> qo.chol.chol.{ct}chy.daiin.otal.dor.daim),\n",
       " Line(<f9v.8,+P0> soiin.daiin.qokcho.rokyd.daly),\n",
       " Line(<f9v.9,+P0> daiin.chy.tor.chyty.dary.ytoldy),\n",
       " Line(<f9v.10,+P0> oty.kchol.chol.chy.kyty),\n",
       " Line(<f9v.11,+P0> ychor.chshoty.oky,kaiin),\n",
       " Line(<f9v.12,+P0> chkaiin.ckhy.chor<$>),\n",
       " Line(<f10r.1,@P0> <%>pchocthy.shor.octhody.chorchy.pchodol.chopchal.ypch,kom),\n",
       " Line(<f10r.2,+P0> dchey.cthoor.char.chty.os,chair.otytchol.oky.daiin.etyd),\n",
       " Line(<f10r.3,+P0> qotor.o,tchy.daiin.chocthy.qotchy.chol.or.yty.dy.dy),\n",
       " Line(<f10r.4,+P0> sor.chaiin.chcthy.ctho,ckhy.or.aiin.chtchor.do[iir:iin].ody),\n",
       " Line(<f10r.5,+P0> qokchy.qotchol.chol.cthy<$>),\n",
       " Line(<f10r.6,+P0> <%>ycheor.cthy.chor.cthaiin.qoctholy.dy.chy.taiin.shy),\n",
       " Line(<f10r.7,+P0> dchy.qokchol.y,kchaiin.yty.daiin.cth.dain.dair,am),\n",
       " Line(<f10r.8,+P0> qotchor.chor.otol.chol.cholor.chol.daiin.dar),\n",
       " Line(<f10r.9,+P0> oykchor.shor.chor.chy.kaiiin.dy.chodaiin),\n",
       " Line(<f10r.10,+P0> oqot[o:a]r.otor.cfhy.cthor.osain.ytoiin),\n",
       " Line(<f10r.11,+P0> @135;otchoshor.qoty.qotor.cthyd.otar),\n",
       " Line(<f10r.12,+P0> @135;odaiin.daiin.qotchy.qotor<$>),\n",
       " Line(<f10v.1,@P0> <%>paiin,daiin.sheo.pcheey.qoty.daiin.cthor.otydy.sain),\n",
       " Line(<f10v.2,+P0> dain.daiin.ckhy.chcthor.choiin.qot.chodaiin.cthy.daiin),\n",
       " Line(<f10v.3,+P0> dsho.ytey.kchol.ol,ty.chol.dy<$>),\n",
       " Line(<f10v.4,+P0> <%>qotchytor.shoiin.daiin.qotchey.sh{cthh}y.ytor.dain),\n",
       " Line(<f10v.5,+P0> sho,ykeey.daiin.qotchy.qotor.chol.daiin.qokchy,ky),\n",
       " Line(<f10v.6,+P0> shoiin.chor.shcthy.qoty.qotoiin.qokol.chor,aiin),\n",
       " Line(<f10v.7,+P0> qokol.chy,ky.chol,cheky.daiin.dain.chckhan<$>),\n",
       " Line(<f11r.1,@P0> <%>tshol.schoal.cfhy.shfydaiin.cphy.shey.tchody.shoyty),\n",
       " Line(<f11r.2,+P0> socthody.qodor,y.kshy.daiin.ytchy.ytchoky.kchol.daiin),\n",
       " Line(<f11r.3,+P0> qoty.chol.cthy.d[o:a]r.ykychy.choty.dain.chaiin.daiin.d[o:e]d),\n",
       " Line(<f11r.4,+P0> dchol.chy.kchy.dy.daiin<$>),\n",
       " Line(<f11r.5,+P0> <%>tchol.shor.shor.dky.{c'h@148;h}y.daiin.cthy.d,y,chodl,daiin),\n",
       " Line(<f11r.6,+P0> odl.d,s,y.otol.chaiin.ykchor.dair.chody.cthy.s.daiin),\n",
       " Line(<f11r.7,+P0> qotchy.okchol.cthy.dy<$>),\n",
       " Line(<f11v.1,@P0> <%>poldchody.shcphy.shordy.qoty.shol.cphar.dan,y),\n",
       " Line(<f11v.2,+P0> shol.dy.chckhy.shcthy.daiin.dam.ykchy.dain.dchy),\n",
       " Line(<f11v.3,+P0> otchor.dy.kchy.tchy.[@152;:d]ar.qokchd.oky.choldy,dy),\n",
       " Line(<f11v.4,+P0> qokchor.cholol{cr}.chyky.dchy.qoky.ctho.tchey.tu),\n",
       " Line(<f11v.5,*L0> dd),\n",
       " Line(<f11v.6,=P0> soydy.qoteey.qot.chor.dy.ddy.cthor.shy,arg),\n",
       " Line(<f11v.7,+P0> ycheor.ksho.dor.cthey.s,chold<$>),\n",
       " Line(<f13r.1,@P0> <%>torshor.opchy.shol.dy.qopchy.shol.opchor.dypchy.dchg),\n",
       " Line(<f13r.2,+P0> dchol.chol.dol.shkchy.ydal.shy.ykchy.qot[?:ch]y.daiin.s.y),\n",
       " Line(<f13r.3,+P0> s,y.dchor.shaiin.oeees.ykor.chor.ytshy.ykchy.kchy.dar),\n",
       " Line(<f13r.4,+P0> qodchy.ytchy.otchor<$>),\n",
       " Line(<f13r.5,+P0> <%>shorodo.shy.tshy.kchol.dpchy,qopchy.otchol.cfholdy),\n",
       " Line(<f13r.6,+P0> tchor.dor.daiin.qotchol.okchy.okchor,oiin.chckhy.d),\n",
       " Line(<f13r.7,+P0> dchy.qoky.chol.dy.qo{kh}y.d,oldy.okchor.doaiin),\n",
       " Line(<f13r.8,+P0> shochy.qokchy.torchy.k{chky}.s.okchey.daiin),\n",
       " Line(<f13r.9,+P0> oldy.shey.chol.d[o:a]iin.ykoly.okchal.daldy),\n",
       " Line(<f13r.10,+P0> sotchy.kchy.okorory<$>),\n",
       " Line(<f13v.1,@P0> <%>koair.chtoiin.otchy.kchod.otol.otchy.octhos),\n",
       " Line(<f13v.2,+P0> oko.qokol.chodal.otchol.cphol.choty),\n",
       " Line(<f13v.3,+P0> qokchy.qokod.chy.otchy.cthody),\n",
       " Line(<f13v.4,+P0> o,l,s.chey.okos.oa[iin:in].okshy.qo{cky}),\n",
       " Line(<f13v.5,+P0> qoky.daiin<$>),\n",
       " Line(<f13v.6,+P0> <%>foldaiin.olcphy.shol.dy.oty.shor.qotyd.dairod),\n",
       " Line(<f13v.7,+P0> dain.okal.chy.qokchory.dchy.kok[y:a]daiin.shon),\n",
       " Line(<f13v.8,+P0> otchy.daiin.y,dain.ykol.okchy.o,kald.d,y,taiin),\n",
       " Line(<f13v.9,+P0> tchtod.otal.cthor.ytal.y.cho,tal.sho.qocthy),\n",
       " Line(<f13v.10,+P0> y,ol.chy.kchey.kchor.dal<$>),\n",
       " Line(<f14r.1,@P0> <%>pcho,daiin.chopol.shoiin.daiin.dain),\n",
       " Line(<f14r.2,+P0> o,ykeey.soiiin.chok.qokchy.da.okol),\n",
       " Line(<f14r.3,+P0> ydaiin.olchy.kchor.daiin.olol),\n",
       " Line(<f14r.4,+P0> ochkch[o:a]r.kol.shy.daiin.dorody),\n",
       " Line(<f14r.5,+P0> qokchol.dar.dalo.qotolo),\n",
       " Line(<f14r.6,+P0> ychol.oir.okor.choor.ockhy),\n",
       " Line(<f14r.7,+P0> otcho.dain.chckhy<$>),\n",
       " Line(<f14r.8,+P0> <%>soshy.@137;chol.shor.cheos.ykaiin.s),\n",
       " Line(<f14r.9,+P0> sody.chody.otchody.qotchy,koiin.sy.sho.ty,dy),\n",
       " Line(<f14r.10,+P0> qotchor.chod.shoty.chody.dol,dy,dy.okchydy),\n",
       " Line(<f14r.11,+P0> dchokchy.schol.dy.shey.dar.qoty.ykeeyky),\n",
       " Line(<f14r.12,+P0> oeeeb.chey.keor.chey.tchyky.chodalg),\n",
       " Line(<f14r.13,+P0> sodaiin.chy.kchy.kchy.ykeody<$>),\n",
       " Line(<f14v.1,@P0> <%>pdychoiin.yfodain.otyshy.dy.ypchor.daiin.kol.ydain),\n",
       " Line(<f14v.2,+P0> okchor.d,chytshy.oty.chy.cthy.otchy,ty.chol,daiin),\n",
       " Line(<f14v.3,+P0> ychy,dy.daiin.chcthy.y[k:t],ykaiin.dytchy.{ykhh}y.ky,dy),\n",
       " Line(<f14v.4,+P0> ytychy.ksho.ykshy.shokshor.yty.darody.dyoty,ds),\n",
       " Line(<f14v.5,+P0> okshy.daiin.okchor,chky.qotchy.daiin.cthor.oty),\n",
       " Line(<f14v.6,+P0> qoty.choky.cthy.chokchy.dy,dy,dy.chckhy.dchyd.n),\n",
       " Line(<f14v.7,+P0> oy,kshy.cho,ty.dydy,odyd.otchy.o.kchy.dshy.dardy),\n",
       " Line(<f14v.8,+P0> chokshor.daiin.okshody.daiin.dol.dair.dam),\n",
       " Line(<f14v.9,+P0> dykchy.ctholdg.dchckhy<$>),\n",
       " Line(<f15r.1,@P0> <%>tshor.shey.tchaly.shy.chtols.shey.daiin),\n",
       " Line(<f15r.2,+P0> otchor.qokchor.oly.okor.shy.koly),\n",
       " Line(<f15r.3,+P0> qokaiin.qotchy,tydy.daiin.chol.cthy),\n",
       " Line(<f15r.4,+P0> scheaiin.chodaiin.chl.sol.ckhaiin.sal),\n",
       " Line(<f15r.5,+P0> qotchy.r,shor.cthy.daiin.cthy.dy),\n",
       " Line(<f15r.6,+P0> dchy.ko,kaiin.chdy.saiin.okear),\n",
       " Line(<f15r.7,+P0> daiin.shkaiin.cthy.sho.keocthy),\n",
       " Line(<f15r.8,+P0> shocthy.tol,kaiin,s.dain.ctholy),\n",
       " Line(<f15r.9,+P0> octhain.qokaiin.chos.odaiin.cthl,s.y),\n",
       " Line(<f15r.10,+P0> ychain.ch{ckhh}y.okshy.saiiin.dolchds),\n",
       " Line(<f15r.11,+P0> okaiin.otaiin.chl.sy.chor.choross),\n",
       " Line(<f15r.12,+P0> qotor.shor.tcheor.chy.cthaiin.shan),\n",
       " Line(<f15r.13,+P0> ykshol.dor.sheey.cthy.dain.sky.shor,shoty),\n",
       " Line(<f15r.14,+P0> otcho.kchy.chol.daiin.{ith}ar.ytol.dor.dom),\n",
       " Line(<f15r.15,+P0> qotchor.chaiin.chy,kol.daky<$>),\n",
       " Line(<f15v.1,@P0> <%>poror.orshy.choiin.dtchan.opchordy),\n",
       " Line(<f15v.2,+P0> @138;chor.or.oro.r,aiin.cthy.[?:t]ain,dar),\n",
       " Line(<f15v.3,+P0> cthor.daiin.qokor.okeor.okaiin),\n",
       " Line(<f15v.4,+P0> doiin.choky.shol.qoky.qotchod),\n",
       " Line(<f15v.5,+P0> otchor.chor.chor.ytchor.cthy.s),\n",
       " Line(<f15v.6,+P0> qotchey.choty.kaiin.otchy.r.aiin),\n",
       " Line(<f15v.7,+P0> {co}y.cho[iin:iir].sho.[?:s].chy.s.chy.tor.ols),\n",
       " Line(<f15v.8,+P0> ytchor.chor.ol.oiin.oty.shol.daiin),\n",
       " Line(<f15v.9,+P0> otchol,octhol.chol.chol.chody.kan),\n",
       " Line(<f15v.10,+P0> sor.chor.cthoiin.cthy.qokaiin),\n",
       " Line(<f15v.11,+P0> sol,oiin.cheor.chol.daiin.cthy),\n",
       " Line(<f15v.12,+P0> daiin.cthor.chol.chor<$>),\n",
       " Line(<f16r.1,@P0> <%>pocheody.qopchey.sykaiin.opchy,dor.ychy.daiin.dy.chor.orom),\n",
       " Line(<f16r.2,+P0> ychykchy.otey.kol.shor.ody.otody.qoy.oeesordy),\n",
       " Line(<f16r.3,+P0> ydor.sheal.okchy.qoy,koiin.choky.ykair),\n",
       " Line(<f16r.4,+Pc> dainod.ychealod<$>),\n",
       " Line(<f16r.5,*P0> <%>tchor.chor.chs.y,kch.shocthy.opchy.ty,ky),\n",
       " Line(<f16r.6,+P0> oshaiin.dyky.oeees.deeeod.aiin.d,toaiin),\n",
       " Line(<f16r.7,+P0> daiin.dalchy.dyky.schy.s,aiin.doal.qoky),\n",
       " Line(<f16r.8,+P0> shotchy.ydain.yky.shody.otol.daiin),\n",
       " Line(<f16r.9,+P0> saiin.ytaiin<$>),\n",
       " Line(<f16r.10,+P0> <%>toror.dal[y:o],dal.opchy,fchol.ypcho{cfy}.okal),\n",
       " Line(<f16r.11,+P0> sokchy.qokol.choty.okchy.cthy.chy,kchy),\n",
       " Line(<f16r.12,+P0> dy,cho,kchy.shcthy.shtshy.sho.tchokyd),\n",
       " Line(<f16r.13,+P0> qok[{oh}:ch]or.dl.dy.shey<$>),\n",
       " Line(<f16v.1,@P0> <%>pchroiin.otchor.chpchol.chpchey.s,pcho{ct}y),\n",
       " Line(<f16v.2,+P0> ytchor.y.ky,chokchy.qokchocthor.shory),\n",
       " Line(<f16v.3,+P0> ykchy.dy.choy.qoty.chy,kchy.koshet),\n",
       " Line(<f16v.4,+P0> dchol.chcthody.cphod.chotol.dal),\n",
       " Line(<f16v.5,+P0> ytchy.chyty.chor.chol.ytchy.dan),\n",
       " Line(<f16v.6,+P0> sor.ch,k[a:o]r.oty.chkar.chol.dairin<$>),\n",
       " Line(<f16v.7,+P0> <%>pchocthy.chypchy.qotchy.ch{cfhh}y.sy),\n",
       " Line(<f16v.8,+P0> daiin.chol.y.daiin.chcthy.qot,char.chor.sholo),\n",
       " Line(<f16v.9,+P0> dshy.okaiin.okaiin.chol.chor.cthor.ty.chody),\n",
       " Line(<f16v.10,+P0> qokchy.chy,dy.ykchy.chckhy.otain.cthor.[cth:{ith}]y),\n",
       " Line(<f16v.11,+P0> okytaiin.chkchy.saiin),\n",
       " Line(<f16v.12,+P0> daiin.yky.otor.chody),\n",
       " Line(<f16v.13,+P0> sokar.oaorar<$>),\n",
       " Line(<f17r.1,@P0> <%>fshody.daram.ydar,chog.opydy.ypod.chop.otchy.dody.oldckhy),\n",
       " Line(<f17r.2,+P0> ydair.choky.okshy.qodar.ckhody.dor.otchol.qodcthy.ods),\n",
       " Line(<f17r.3,+P0> chol.or.chy.qodam.okor.chor.okchom<$>),\n",
       " Line(<f17r.4,+P0> <%>tcho@154;.shol.qokol.qor.olaiin.opydg.som.ypchy.ypaim),\n",
       " Line(<f17r.5,+P0> ychekchy.cthy.chor.shor.cphor.cphaldy.dair.cthey.qody),\n",
       " Line(<f17r.6,+P0> tsho.qof,cho.qokcheor.cheteg<$>),\n",
       " Line(<f17r.7,+P0> <%>ksheo.qokchy.choldshy.zepchy.d{c'a}.opchordy),\n",
       " Line(<f17r.8,+P0> dchchy.dychear.schar.ykchy),\n",
       " Line(<f17r.9,+P0> soy.chckho.o.da[s:r].chypcham),\n",
       " Line(<f17r.10,+P0> dar.chear.dcheor.[s:?]ain.y.mol),\n",
       " Line(<f17r.11,+P0> otchol.cthar.okaiin.chol.daiiin),\n",
       " Line(<f17r.12,+P0> ychod,y.chotom<$>),\n",
       " Line(<f17r.13,@Lx> oteeeon.oiil),\n",
       " Line(<f17v.1,@P0> <%>pchodol.chor.pchy.opydaiin.odal,dy),\n",
       " Line(<f17v.2,+P0> ycheey.keeor.cthodal.okol.odaiin.okal),\n",
       " Line(<f17v.3,+P0> oldaig.odaiin.okal.oldaiin.chockhol.olol),\n",
       " Line(<f17v.4,+P0> kchor.fchol.cphol.olcheol.ok[eee:eeee]y),\n",
       " Line(<f17v.5,+P0> ychol.chol.dolcheey.tchol.dar.ckhy),\n",
       " Line(<f17v.6,+P0> oekor.or.okaiin.or.otaiin,d),\n",
       " Line(<f17v.7,+P0> sor.chkeey.poiis.cheor.os.s.aiin),\n",
       " Line(<f17v.8,+P0> qokeey.kchar.ol.dy.choldaiin.sy),\n",
       " Line(<f17v.9,+P0> ycheol.shol.kchol.choltaiin.ol),\n",
       " Line(<f17v.10,+P0> oytor.okeor.okar.okol.daiir,a[r:m]),\n",
       " Line(<f17v.11,+P0> qokcheo.qokoiir.ctheol.chol),\n",
       " Line(<f17v.12,+P0> oy.choy.keaiin.chckhey.ol.chor),\n",
       " Line(<f17v.13,+P0> ykeor.chol.chol.cthol.chkor.sheol),\n",
       " Line(<f17v.14,+P0> olo.r.okeeol.chodaiin.okeol.tchory),\n",
       " Line(<f17v.15,+P0> ychor.cthy.che'eky.cheo.otor.oteol),\n",
       " Line(<f17v.16,+P0> okcheol.chol.okeol.cthol.otcheolom),\n",
       " Line(<f17v.17,+P0> qoain.[s:e']ar.she.dol.qopchaiin.cthor),\n",
       " Line(<f17v.18,+P0> otor.cheeor.ol.chol.dor.chr.or,eees),\n",
       " Line(<f17v.19,+P0> dain.chey.qoaiin.cthor.cholchom),\n",
       " Line(<f17v.20,+P0> ykeey.okeey.cheor.chol.sho.odaiin),\n",
       " Line(<f17v.21,+P0> oal.sheor.sholor.or.shecthy.cpheor.daiin),\n",
       " Line(<f17v.22,+P0> qokeee.dar.chey.keeor.cheeol.ctheey.cthy),\n",
       " Line(<f17v.23,+P0> chkeey.okeor.sh[a:o]r.okeom<$>),\n",
       " Line(<f18r.1,@P0> <%>pdrairdy.darod{cf}.yoar.ykchol.dar.om.chckhy.octhor.dal),\n",
       " Line(<f18r.2,+P0> otshol.qokchol.chykchy.okchal.daiin.dy.chol.dain),\n",
       " Line(<f18r.3,+P0> qokchor.chor.{c@139;h}{@246;k}ey.or,chey.qokchol.dy.ytcharg),\n",
       " Line(<f18r.4,+P0> chor.[cth:{ith}]or.okeor.ykchol.okain<$>),\n",
       " Line(<f18r.5,+P0> <%>tchor.shor.cthaiin.cthol.chlol.chom),\n",
       " Line(<f18r.6,+P0> ychy.kchor.dair.ytol.chcthy.dar.dar.dal),\n",
       " Line(<f18r.7,+P0> oshor.shaiin.cthy.sholdy.doldy.doldaiin),\n",
       " Line(<f18r.8,+P0> qokchor.ckhol.olody.okal,dy.dary),\n",
       " Line(<f18r.9,+P0> chol.chcthal.okshal.chykald),\n",
       " Line(<f18r.10,+P0> dar.shor.qokchol.ol.ydaiin),\n",
       " Line(<f18r.11,+P0> sotchaiin.chokchy.chckhol.chor.g),\n",
       " Line(<f18r.12,+P0> ychair.cthol.daiin.qokchy.cthy),\n",
       " Line(<f18r.13,+P0> or.shaiin.cth[a:o]r.cthal.okal.dar),\n",
       " Line(<f18r.14,+Pc> ychekch,y.kchaiin<$>),\n",
       " Line(<f18v.1,@P0> <%>told.shor.ytshy.otchdal.dchal.dchy.ytdg),\n",
       " Line(<f18v.2,+P0> qoeees.or.oaiin.shy@140;.okshy.qokchy.qokchy.s.g),\n",
       " Line(<f18v.3,+P0> orshy.qoky.qoky.chkchy.qokshy.qokam),\n",
       " Line(<f18v.4,+P0> qotchy.qokay.qokchy.ykcho.ydl.dar),\n",
       " Line(<f18v.5,+P0> ychoees.ykchy.qol.kchy.qotchol.daiir,om),\n",
       " Line(<f18v.6,+P0> qotor,chor.otchy.qokeees.chy.s.ar.ykar),\n",
       " Line(<f18v.7,+P0> ychol.dor.chod.qokol.daiin.qokol.dar.dy),\n",
       " Line(<f18v.8,+P0> tolol.sh.cphoy.daror.ddy.ytor.ykam),\n",
       " Line(<f18v.9,+P0> okchor.qotchy.qokchy.ytol.doky.dy),\n",
       " Line(<f18v.10,+P0> yk[o:a].dshy.dair.ykol.dom<$>),\n",
       " Line(<f19r.1,@P0> <%>pchor.qodchy.qotshy.dy.tchy.qotchy.qoky.daiin.dchydy),\n",
       " Line(<f19r.2,+P0> dshy.chor.y.tchy.chol.dytchy.chordy.daiin.dyty.@241;.cho@242;),\n",
       " Line(<f19r.3,+P0> oscheor.shy.tdaiin.chol.dor.yky),\n",
       " Line(<f19r.4,+P0> qokorar.daiin.chckhy.shy,kchor),\n",
       " Line(<f19r.5,+P0> otchy.tchy.qoky.daiin.@243;),\n",
       " Line(<f19r.6,+P0> yshor.shy.daiin.otytchy.daiin),\n",
       " Line(<f19r.7,+P0> qo'k.cho.ky.cthar.dor.chan.dar),\n",
       " Line(<f19r.8,+P0> or.chor.daky.dal.chor.dorl.shy),\n",
       " Line(<f19r.9,+P0> qotchor.dy.dor.y.tchy,kchy.shdaiin),\n",
       " Line(<f19r.10,+P0> daiin.cthor.chol.ykchor.chordy),\n",
       " Line(<f19r.11,+P0> qotchy.qolody.choldy.cthyd),\n",
       " Line(<f19r.12,+P0> ykchor.chor.daiin.daiinol),\n",
       " Line(<f19r.13,+P0> os,octhor.ytchor<$>),\n",
       " Line(<f19v.1,@P0> <%>pochaiin.cthor.chpcheos.opchey.py,kchy),\n",
       " Line(<f19v.2,+P0> qokchy.kchol.sor.qokchos.ykchy.darom),\n",
       " Line(<f19v.3,+P0> otchy.chol,daiin.qotol.ytol.daiiin),\n",
       " Line(<f19v.4,+P0> ytch.chcthy.qotol.daiin.daiin),\n",
       " Line(<f19v.5,+P0> qotchy.qoteey.daiin.doty.qot),\n",
       " Line(<f19v.6,+P0> ychoy.kchor.cthol.chocthy.s),\n",
       " Line(<f19v.7,+P0> ycho.[r:s].chaiin.cthor<$>),\n",
       " Line(<f19v.8,+P0> <%>toy.tchey,qo.dchol.qokchs.dom),\n",
       " Line(<f19v.9,+P0> ychor.oky.chor.yt[o:a]l.chol.oky,ddor),\n",
       " Line(<f19v.10,+P0> daiin.chor.daiin.qoko[r:n].y.okchan),\n",
       " Line(<f19v.11,+P0> qotol.d[o:a]r.okchor.daiin.cthor.otam),\n",
       " Line(<f19v.12,+P0> otch.okchodshy.daiin.or.otaiin.dai[s:r]),\n",
       " Line(<f19v.13,+P0> yees.ykchol.oty.ytor.ytar.ytchor.ytaiin),\n",
       " Line(<f19v.14,+Pr> otchol,cheaiin.cthol<$>),\n",
       " Line(<f20r.1,@P0> <%>kdchody.chopy.cheey.qotchol.qotoeey.dchor.chaiin),\n",
       " Line(<f20r.2,+P0> chod,ey.cthey.chotol.odaiir.qotchy.cthody.chodchy),\n",
       " Line(<f20r.3,+P0> qoteey.cho,chodaiin.sho.qochy.chey.tcheodal.daral),\n",
       " Line(<f20r.4,+P0> ochol.ol.teey.ot[o:a]lchey<$>),\n",
       " Line(<f20r.5,+P0> <%>pchocthy.chokoaiin.{cp}y.cheeeb.opchey.shosaiin.@243;),\n",
       " Line(<f20r.6,+P0> choees.okchor.qotol.cheey.daiin.chy.choiin.daiin),\n",
       " Line(<f20r.7,+P0> ocho,lshod.daiin.choteol.chol.dol.shol.otaiin),\n",
       " Line(<f20r.8,+P0> schodain.cheo.r.cheody<$>),\n",
       " Line(<f20r.9,+P0> <%>fchodees.shody.qotchey.qokchey.qocphy.chokoldy),\n",
       " Line(<f20r.10,+P0> ochoaiin.chor.sody.pchodaiin.chetody.choky.dchy.toy),\n",
       " Line(<f20r.11,+P0> dchod.qoteeody.ytchy.qo,tshey.dchaiin.chol,ody),\n",
       " Line(<f20r.12,+P0> shoiin.cheody.otchey.otchy.tchy.qoteey.daiin.dar),\n",
       " Line(<f20r.13,+P0> ochaiin.chor.chor,cheey.tchey<$>),\n",
       " Line(<f20v.1,@P0> <%>faiis,ar.okoy.shy,pofochey.opchy.qopy.choldy.opydy.cphy),\n",
       " Line(<f20v.2,+P0> sos.ykoiin.cheol.chol.choiin.checthy.otol.chol.chodaiin.oty),\n",
       " Line(<f20v.3,+P0> okchy.sho,kchol.shol.chcthy.qoty.chy.tolshy.qotchy),\n",
       " Line(<f20v.4,+P0> sho.or.aiin.shol.daiin<$>),\n",
       " Line(<f20v.5,+P0> <%>tshol.folchol.otor.shol.shor.fshodchy.otchy.chcphy.dy),\n",
       " Line(<f20v.6,+P0> doiiin.chockhy.da[n:r].cheo{ikh}y.shos.cheos.char.[{ith}:cth]aiin),\n",
       " Line(<f20v.7,+P0> shocthy.sho.cthy.daiin.sheoy.tey.s.soaiin),\n",
       " Line(<f20v.8,+P0> shain.choraly.sho.ar.chy.daiin.d.s),\n",
       " Line(<f20v.9,+P0> ykchy.keody.cho.cthy.chol.shd.qoty.d@244;),\n",
       " Line(<f20v.10,+P0> shokaiin.chocthy.chol.daiin.chy.chor.ety),\n",
       " Line(<f20v.11,+P0> okoiin.chey.{@200;ph}ol.chory<$>),\n",
       " Line(<f21r.1,@P0> <%>pchor.o,eeockhy.o.fychey.ypchey.qopcheody.otaiin.chan),\n",
       " Line(<f21r.2,+P0> saiin.chcphy.oky,sheaiin.qotchol.oteos.sheey.cthy.daiin),\n",
       " Line(<f21r.3,+P0> qotol,shy.o.l.cheor.chy.qokchey.chey.keey.dy<$>),\n",
       " Line(<f21r.4,+P0> <%>pchofychy.daiin.cthain.o,tolosheey.qocthey.tolchory),\n",
       " Line(<f21r.5,+P0> ykeey.daiin.chosy.qokoiin.otol.chol.qotcheol.okeoaiin),\n",
       " Line(<f21r.6,+P0> dchor.y.kol,y,ky.chol.kol.qokeol.chol,ol.qoteeol.dady),\n",
       " Line(<f21r.7,+P0> shoeor.cheor.choke[o:a]dy.cho,cthor.shy<$>),\n",
       " Line(<f21r.8,+P0> <%>fcho,kshy.otor.sheol.ocphal.opsheas.cthodaiin.oty),\n",
       " Line(<f21r.9,+P0> okaiin.sho.tshaiin.chkaiin.sh,cthey.cthody.cthy.s),\n",
       " Line(<f21r.10,+P0> totchy.keor.chy,ky.qotaiin.qotchol.ty.ctheey.otaiin),\n",
       " Line(<f21r.11,+P0> shol.chol.shol.tchol.chcthy.otyky.shey.yteol.shody),\n",
       " Line(<f21r.12,+P0> ykeey.chor.sheey.ysheol.chor.chol.daiin.chkaiin<$>),\n",
       " Line(<f21v.1,@P0> <%>toldshy.chofchy.qofshey.shckhol.odaiin.shey.ckholy),\n",
       " Line(<f21v.2,+P0> oeeesoy.qokchy.chody.qotchy.qokchy.choty.tchol.daiin),\n",
       " Line(<f21v.3,+P0> qotol.keeees.chotchy.tcho.choty.chor.qotol.daiin.dal),\n",
       " Line(<f21v.4,+P0> sho.chodaiin.choty.chol.daiin.daiin.chty.chtol),\n",
       " Line(<f21v.5,+P0> osho.deey.ctho.l.sho,cthy.daiin.dait.oky),\n",
       " Line(<f21v.6,+P0> sho.tsho.chotshol.chol.todaiin.daiin),\n",
       " Line(<f21v.7,+P0> ykcho.lchol.cho,l,chaiin.otchy.s.sheaiin),\n",
       " Line(<f21v.8,+P0> cho.l.kchochaiin<$>),\n",
       " Line(<f22r.1,@P0> <%>pol.olshy.fcholy.shol.dpchy.oty.okoly.daiin.opchy,s.ocphy),\n",
       " Line(<f22r.2,+P0> ol.oiin.shol.o.kor.qokchol.daiin.okaiin.cthor.dain.ckhy.dom),\n",
       " Line(<f22r.3,+P0> qokol.dykaiin.o,kchy.daiin.cthol.ctholo.dar.shain<$>),\n",
       " Line(<f22r.4,+P0> <%>pchaiin.ofchy.daiin.cfhy.doroiin.ypchol.sy.schor.daiin),\n",
       " Line(<f22r.5,+P0> ol.daiin.qokchy.dar.daiin.chor.oldor.oky.y,choldchy),\n",
       " Line(<f22r.6,+P0> y.chokshchy.cth[eeb:een]<$>),\n",
       " Line(<f22r.7,+P0> <%>kchol.shol.dsheor.{c'@162;@136;}.chdoly.ytaiin.ol.otchy.cphal),\n",
       " Line(<f22r.8,+P0> dchor.oty.daiin.ctholy.qoky.chotaiin.chocthy.do[@203;:l]iin.dchor),\n",
       " Line(<f22r.9,+P0> odaiin.dain.cthy.ctheo,r.o[r:in]aiino<$>),\n",
       " Line(<f22r.10,+P0> <%>kchol.chor.daiin.cthoiin.dchor.chey.qokol,dy.opchol.oldam),\n",
       " Line(<f22r.11,+P0> do[iin:iir].yckhody.qokchy.oky.otoldy.yty.dol.or.d[ch:a]chy.daiin),\n",
       " Line(<f22r.12,+P0> odchaiin.cthy.okchy.kchy.dchol.daiin.ydaiin),\n",
       " Line(<f22r.13,+P0> dchor.dy,dain.qockhy.ykol,okain<$>),\n",
       " Line(<f22v.1,@P0> <%>pysaiinor.ofchar.oky.tchy.otdy.sor.shy.qo'd),\n",
       " Line(<f22v.2,+P0> daiin.y,kaiin.qotchy.kchy.[o:y]tchyd.dshor.ychy),\n",
       " Line(<f22v.3,+P0> qoky.kchorl.otchy.cthy.otchyky.ytchol.otam),\n",
       " Line(<f22v.4,+P0> otchaiin.shoty.qoky.saiin.odaiin.ytaiin),\n",
       " Line(<f22v.5,+P0> dor.y,kcheor.daiin<$>),\n",
       " Line(<f22v.6,+P0> <%>fshor.shy,tchor.otaiin),\n",
       " Line(<f22v.7,+P0> ychor.chor.qokchol.chory),\n",
       " Line(<f22v.8,+P0> qotchy.cthy.qokol.daiin.dam),\n",
       " Line(<f22v.9,+P0> okshor.shody.chol.tchol.otaiin,daiin),\n",
       " Line(<f22v.10,+P0> qokchy.daiin.s.or.ytal),\n",
       " Line(<f22v.11,+P0> sokaiin.oty.dy),\n",
       " Line(<f22v.12,+P0> ychky.daiin.cthy),\n",
       " Line(<f22v.13,+P0> okchain.chkoldy.shotoly),\n",
       " Line(<f22v.14,+P0> qotch[y:?].olshly.shol.daiin),\n",
       " Line(<f22v.15,+P0> sho.cthy.chocthy.qokchy.dory),\n",
       " Line(<f22v.16,+Pc> saiinchy.daldalol<$>),\n",
       " Line(<f23r.1,@P0> <%>pydchdom.chy.fcholdy.oty.otchol,shy.opyaiin.y',yfchy.daiin.ololdy.dal),\n",
       " Line(<f23r.2,+P0> to.ar.chor.daiin.chk,dain.otchy.lolchor.daiin.dam.okchol.dain,g),\n",
       " Line(<f23r.3,+P0> dchar.ykor.y,kaiin.daiin.cth[?:o].g<$>),\n",
       " Line(<f23r.4,+P0> <%>qokoldy.okaiir.ykaiil,g.qokeey.ofchol.dain.yfchor.olfchor.otchald),\n",
       " Line(<f23r.5,+P0> ychor.qokchol.ytym.chol.da[ir:in].chol.ar.ol.ol.dol.dain<$>),\n",
       " Line(<f23r.6,+P0> <%>tshol.y,kor.qokaiin.yky.dar.okol.dchey.daiidal.dam.ytcho.ldals),\n",
       " Line(<f23r.7,+P0> okar.olchar.shaiin.qokchol.dar.qokchol.dairo.r.ol.daiin.alg),\n",
       " Line(<f23r.8,+P0> qokshy.char.daiir.qokaiin.olol.qoaiin.ykchy.s.dal.okchy),\n",
       " Line(<f23r.9,+P0> okol,ok,shy.qokol,dy.dal.[d:j]she.qokeees.y.oly.daiin.dal),\n",
       " Line(<f23r.10,+P0> q[o:y]k.okaiin.chkchy,s.yteain.odal.chal,dy.dar.ykain),\n",
       " Line(<f23r.11,+P0> ykyk[a:o].dalory<$>),\n",
       " Line(<f23v.1,@P0> <%>podairol.odaiiily.sho,al,dy.opchol.otol.ol.chcphy.qotchar.s),\n",
       " Line(<f23v.2,+P0> qot{co}tor.chy.okchaldy.qokchey.dol.otchol.chal.otchg),\n",
       " Line(<f23v.3,+P0> ycho.okaiin.okeol.eees.o,l.daiin.okeeor.daiin.qotcholg),\n",
       " Line(<f23v.4,+P0> okchey.dair.sholol.ol,dal.otchor,[d:g]ar),\n",
       " Line(<f23v.5,+P0> dor,chear.shor.dol.oaldary<$>),\n",
       " Line(<f23v.6,+P0> <%>tshol.shor.shkshy.okol.daiin.otshor.olsar),\n",
       " Line(<f23v.7,+P0> otor.oiin.sho.shol.qokol.daiin.sol.daiin.ylg),\n",
       " Line(<f23v.8,+P0> qokaiin.dain.qokor.okal,g.dam.chor.olol.dam),\n",
       " Line(<f23v.9,+P0> otshy.dal.dar.oldar.ar.or.qoto.l,chees.g),\n",
       " Line(<f23v.10,+P0> dor.chy.kshol.chol.ctho[?:l].otol.oloiir),\n",
       " Line(<f23v.11,+P0> y,okaiin.doroiin.olols.oiin.ol.cheeb.ols),\n",
       " Line(<f23v.12,+P0> ol,aiios.oloro.eeeoly<$>),\n",
       " Line(<f24r.1,@P0> <%>por,or,y.chor.opchar.she.cheol.daiin.or),\n",
       " Line(<f24r.2,+P0> qotaiin.char.odaiin.okai{ikh}al.oky),\n",
       " Line(<f24r.3,+P0> ycthar.cthal.okol.qotar.ckhy),\n",
       " Line(<f24r.4,+P0> or.chckhaly.cthar.eeor.chees.da),\n",
       " Line(<f24r.5,+P0> qodar.cho.r.chey.cthy.cthe.keom),\n",
       " Line(<f24r.6,+P0> oeeeos.cthor.otal.qocthol.qoky),\n",
       " Line(<f24r.7,+P0> q@145;kar.chtar.s.cheor.cthol.qodol),\n",
       " Line(<f24r.8,+P0> ychor.s.om.qoear.daiin.qokeol),\n",
       " Line(<f24r.9,+P0> odaiin.ckham.qodai{ikh}y.dol.dal),\n",
       " Line(<f24r.10,+P0> q[?:e]or.cfhar.chor.s.am.chotaiin.dy),\n",
       " Line(<f24r.11,+P0> sar.cheoiees.okeem.cheor.qokain),\n",
       " Line(<f24r.12,+P0> qokchy.qotchy.tol.tod.ckhy),\n",
       " Line(<f24r.13,+P0> oees.ol.s.chey.chcth.s,ar),\n",
       " Line(<f24r.14,+P0> qor.cheey.qod.char.cthal),\n",
       " Line(<f24r.15,+P0> ockhoees.oeees.ol.dal.s),\n",
       " Line(<f24r.16,+P0> sham.okeal.dal.dam.dal),\n",
       " Line(<f24r.17,+P0> sshey.otam.sham.cthoj.oky),\n",
       " Line(<f24r.18,+P0> ycheol.chol.daiin.chol.s),\n",
       " Line(<f24r.19,+P0> yol.kol.chol.shom.otacphy),\n",
       " Line(<f24r.20,+Pc> sam.chorly<$>),\n",
       " Line(<f24v.1,@P0> <%>tchodar.chocfhey.opom.shod.chcphy.opshody.ocphoraiin.o,k,o@146;am),\n",
       " Line(<f24v.2,+P0> ydals.ckhor.shy.cho.dch[o:a]r.otol.otaiir.otchos.okchom.okcho),\n",
       " Line(<f24v.3,+P0> octh[y:o]l.odchees.oesearies.okam.chcth),\n",
       " Line(<f24v.4,+P0> ydal.sh.okol.okaiin.odaiin.dlos),\n",
       " Line(<f24v.5,+P0> oeor.oraiin.tchar.oro<$>),\n",
       " Line(<f24v.6,+P0> <%>tochol.chor.{cf}arsa,r),\n",
       " Line(<f24v.7,+P0> ycheol.daid.dar.olom),\n",
       " Line(<f24v.8,+P0> kochky.chcthy.shol.sain),\n",
       " Line(<f24v.9,+P0> ychol.chol.or.chor.om),\n",
       " Line(<f24v.10,+P0> okoeor.ctheod.choy.keol),\n",
       " Line(<f24v.11,+P0> ydaiin.chear.qodom.okodaiin),\n",
       " Line(<f24v.12,+P0> ksho.foar.{ct}o.sho.qok[ch:ee].ok.okchal),\n",
       " Line(<f24v.13,+P0> oeeey.cheol.chol.odor.sho.do.otolodal),\n",
       " Line(<f24v.14,+P0> do[iir:ar].cheeodam.sho.sho.dy),\n",
       " Line(<f24v.15,+P0> dchey.kchod.dch[a:o]l.ochdy),\n",
       " Line(<f24v.16,+P0> otchol.odaiim<$>),\n",
       " Line(<f25r.1,@P0> <%>fcholdy.soshy.daiin.{ck}y.shody.daiin,ocholdy.cpholdy.sy),\n",
       " Line(<f25r.2,+P0> otor.chor.chsky.chotchy.shair.qod.sh[a:o]chy.kchy.chkain),\n",
       " Line(<f25r.3,+P0> qotchy.qotshy.cheesees.sheear.s.chain.daiin.chain.dan),\n",
       " Line(<f25r.4,+P0> dchckhy.shocthy.ytchey.cthor.s.chan.chaiin.qotchain),\n",
       " Line(<f25r.5,+P0> qotcheaiin.dchain.cthain.daiin.daiin.cthain.qotaiin),\n",
       " Line(<f25r.6,+P0> okal.chotaiin),\n",
       " Line(<f25r.7,=Pt> dair.otaiir.otosy<$>),\n",
       " Line(<f25v.1,@P0> <%>poeeaiin.qo,ky.shy.daiin.qopchey.otchey.qofchor,sos),\n",
       " Line(<f25v.2,+P0> dchor.cthor.chor.daiin.s.okeeaiin.daiin.ckhey.daiin),\n",
       " Line(<f25v.3,+P0> orcho.kchor.chol.daiin.sh[cfh:ckh]o,r,daiin.dshey.daiity),\n",
       " Line(<f25v.4,+P0> qokaiin.qokcho.shol.daiin.ckhear.ckhol.daiin.chkear),\n",
       " Line(<f25v.5,+P0> dar.chokeey.dshor.dshey.qochol.dol.cho.daiin.daiin),\n",
       " Line(<f25v.6,+P0> qokcho,r,ochy.qotchy.qotoral.cho.@147;.chain.deeaiir.s),\n",
       " Line(<f25v.7,+P0> o{c'o}.chkey.daiiol.daiin.shckh.orchaiin<$>),\n",
       " Line(<f26r.1,@P0> <%>psheoky.odaiir.qoy.ofshod.chypchey.ypchedy.ain.chofo,che{ph}dy),\n",
       " Line(<f26r.2,+P0> dchey.[d:s]aiin.adeeody.ykecthey.chedy.ytedy.dy.checthedy.ls),\n",
       " Line(<f26r.3,+P0> oaiin.shcthy.cthedy.oloy.ykeedy.olchedy.dal.y.sheey.s,aiin.s),\n",
       " Line(<f26r.4,+P0> qokedy.cheos.ytedy.qokedy.ytedy.chekedy.daiin.odam.s,aldy),\n",
       " Line(<f26r.5,+P0> saiin.shedy.eedy.eedy.s,chy.daiin.cthedy.qokeedy.qokedy.cthey),\n",
       " Line(<f26r.6,+P0> rchedy.qokedy<$>),\n",
       " Line(<f26r.7,+P0> <%>peeo.qokedy.dar,sheo.ypchseds.s.aiin.sha,p,chedyfchy.dalchedy.sar),\n",
       " Line(<f26r.8,+P0> daiin.shedy.qokeedy.qoteedar.s.ok.ol.ytedy.qokeedy.qokedy),\n",
       " Line(<f26r.9,+P0> tcheoshy.dchdy.okedy.chckhy.s.dy.dy.ykeechy.okeedy.cheky),\n",
       " Line(<f26r.10,+P0> shese.aiin.sheos.cheody.otal<$>),\n",
       " Line(<f26v.1,@P0> <%>pchedar.qodary.daiiin.pcheety.s,air.shedy.ypchedy.ypchdy.qopy.shdy),\n",
       " Line(<f26v.2,+P0> saraiir.chekedy.qokedy.otedy.sar,y,etedy.qokedy.or.a{i'h}e.alys.chedy),\n",
       " Line(<f26v.3,+P0> pchdar.opar.dar.cheeol.ofchdy.otedy.{c@176;h}dy.odar.chedy.ytedy.okchdy.g),\n",
       " Line(<f26v.4,+P0> y[ckhe:{ck}ee]ody.qokedy.deey.saldy.okedor.or.cheos.oraiin.okeo.chekaiin),\n",
       " Line(<f26v.5,+P0> deeol.cheody.qoteedy.qokody.qotedy.qotedy.opchedy.ofchy.chs.ar),\n",
       " Line(<f26v.6,+P0> toeedy.keody.shedy.dar.chedy.sches.or,cheeky.dar.chey.cheky.yteedy),\n",
       " Line(<f26v.7,+P0> pchedy.dar.cheoet.chy.sair.chees.odaiiin.chkeeey.ykey.sheey),\n",
       " Line(<f26v.8,+P0> tchedy.okeeos.cheeos.ysaiin.okcheey.keody.s,aiin.cheeos.qokes.ory),\n",
       " Line(<f26v.9,+P0> ysheey.okeshy.shody.peshy.todydy<$>),\n",
       " Line(<f27r.1,@P0> <%>ksor.shey.shoteo.chforaiin.shy.shod.chary),\n",
       " Line(<f27r.2,+P0> dy.{co}ain.shol.dain.dar.shokyd.dchol.cthey,ds),\n",
       " Line(<f27r.3,+P0> chol.shy.keol.chol.chy.shol.chy.daiin.chey.dam),\n",
       " Line(<f27r.4,+P0> qokey.chor.char.chy.dchy.keey.chos.cthody),\n",
       " Line(<f27r.5,+P0> dor.chees.ctho,shy.{c@148;h}ar,y.daiin.dair),\n",
       " Line(<f27r.6,+P0> chy.t,chols.chor.chol{oh}aiin.shy.kchal,dy<$>),\n",
       " Line(<f27r.7,+P0> <%>kchey.chey.kcheol.pch[o:y].schey.ly.chals.cham),\n",
       " Line(<f27r.8,+P0> ytchy.chy.t,chol.dy.t,chey.dain.chol.dal),\n",
       " Line(<f27r.9,+P0> dchey.keeod.shotchey.chol.oty.chy,tolg),\n",
       " Line(<f27r.10,+P0> qotchey.shes.s.y.chy.tchey.dy),\n",
       " Line(<f27r.11,+P0> chol.daiiin.chees.chos.{ct}ey.dan),\n",
       " Line(<f27r.12,+P0> dain.cheokeey.chey.cthey.otal),\n",
       " Line(<f27r.13,+Pc> o[t:k]chodeey<$>),\n",
       " Line(<f27v.1,@P0> <%>pochof.chof.cho.sho.soly.shol.ytchar.opchory.kchor,chor),\n",
       " Line(<f27v.2,+P0> dchy.chkar.otchy.shy.shy.dchy.dshy.kchy.cheo.daidy.dchy),\n",
       " Line(<f27v.3,+P0> kchey.kchy.dchokchy.dsho.d{ca}r.chodchy.etcheody.shld),\n",
       " Line(<f27v.4,+P0> okcho.chy.kch[ee:o]d.chl.chol.kod.o.oksho.do,cheesg),\n",
       " Line(<f27v.5,+P0> qoky.sh,keeo.[s:r]cho,dar.shkol.chotchy.ctho,dol),\n",
       " Line(<f27v.6,+P0> dsho.kchrrr.okeedy.dch[s:r]chy.sotchdy),\n",
       " Line(<f27v.7,+P0> sho.shoykcho.shdy.dchd.chschsy.otchdy),\n",
       " Line(<f27v.8,+P0> okshes.okchokshy<$>),\n",
       " Line(<f28r.1,@P0> <%>pchodar.shod.chocphy.opchol.daiin.otchol.chy.qo,ldy),\n",
       " Line(<f28r.2,+P0> otchor.otchor.cthol.{ct}y.ctheol.dy.dchar.chakod.dly),\n",
       " Line(<f28r.3,+P0> qotchaiin.shor.cthol.cthol.shor.chotchy.tchodar),\n",
       " Line(<f28r.4,+P0> choty.chtol.otol.chotchy.cthol.otol.choky.qoty),\n",
       " Line(<f28r.5,+P0> oksho.otorchy.kchoror.chodaiin.sho,cthody.okoy),\n",
       " Line(<f28r.6,+P0> qokchol.qodaiin.otcholchy.daiin.cho.qokol.o,kam),\n",
       " Line(<f28r.7,+P0> sho.otor.shockhy.shocthy.otoldy.dshor.dol.dar),\n",
       " Line(<f28r.8,+P0> oschotshl.daiin.okchey.kol.daiin.shol.dsho.otaiin),\n",
       " Line(<f28r.9,+P0> ytchol.deey.yteol.deaiin<$>),\n",
       " Line(<f28v.1,@P0> <%>kshol.qooiiin.shor.pshoiiin.shepchy.qoty.dy.shory),\n",
       " Line(<f28v.2,+P0> ykcholy.qoty.chy,dy.qokchol.chor.tchy.qokchody.cheor.o),\n",
       " Line(<f28v.3,+P0> chor.chol.chy.choiin<$>),\n",
       " Line(<f28v.4,+P0> <%>tshoiin.cheor.chor.o.chty.qotol.sheol.shor.daiin.qoty),\n",
       " Line(<f28v.5,+P0> otol.chol.daiin.chkaiin.shoiin.qotchey.qotshey.daiiin),\n",
       " Line(<f28v.6,+Pr> daiin.chkaiin<$>),\n",
       " Line(<f28v.7,*P0> <%>pchol.oiir.chol.tsho.daiin.sho.t{co}.chy.chtshy.dair,am),\n",
       " Line(<f28v.8,+P0> okain.chan.chain.cthor.dain.yk.chy.daiin.cthol),\n",
       " Line(<f28v.9,+P0> sor.chear.chl.[{c'}:s].choly.dar<$>),\n",
       " Line(<f29r.1,@P0> <%>posaiin.she.aiin.chep,oty.chy.qotchy.qoty.cheecthy),\n",
       " Line(<f29r.2,+P0> dshe.ykchy.choty.oky.cho,l.chchoty.choky.chy,ty,dy),\n",
       " Line(<f29r.3,+P0> qokchy.qoty.kchaiin.shear.cthor.dchor.choly),\n",
       " Line(<f29r.4,+P0> chocthy.qoos.chos<$>),\n",
       " Line(<f29r.5,+P0> <%>kcheol.cheor.sheos.sheey.teey.d[a:y].shos.o{cty}),\n",
       " Line(<f29r.6,+P0> chokshy.shocthy.shor.shor.daiin.qokaiiin),\n",
       " Line(<f29r.7,+P0> qokchy.chol.shokchy.qokaiin.choety.choty.kaiin),\n",
       " Line(<f29r.8,+P0> shor.chor.shosheky.shy.qoty,kody.daiin.cthy),\n",
       " Line(<f29r.9,+P0> qokshe.qor.chey.kor.cheod.ychom<$>),\n",
       " Line(<f29v.1,@P0> <%>kooiin.shor.chetchy.ol,ls.shytchy.cthy,shy.cho.shy.daiin),\n",
       " Line(<f29v.2,+P0> qotcheaiin.s.chol.chol.cthy.chey.cthold.ytchor.dary),\n",
       " Line(<f29v.3,+P0> chol.chol.kor.shey.odaiin.qotchy.taiin.s.she.otey.sy),\n",
       " Line(<f29v.4,+P0> ysho.otshy.okaiin.cthy.oltchy.{cto}s.shot.sho.okaiin<$>),\n",
       " Line(<f29v.5,+P0> <%>tochon.chain.shan.shoty.chshy.shy),\n",
       " Line(<f29v.6,+P0> dchor.chol.chaiin.shaiin.cthod.dar.chs.shody),\n",
       " Line(<f29v.7,+P0> qotcho.kchor.daiin.ykaiin.dy.shdy.chocthy.sheky),\n",
       " Line(<f29v.8,+P0> otol.shotchor.cholody.dain.ch[{cti}:cth].chy.cthody.dol),\n",
       " Line(<f29v.9,+P0> sho.chokor.chor.chy.ydaiin.cho.ykeeb.oaiin<$>),\n",
       " Line(<f29v.10,+P0> <%>qokoiin.okaiin.cho.[{cti}:cth].chyd.chykar),\n",
       " Line(<f29v.11,+P0> daiin.chteo[r:s].octhy.dar.chyt.otody),\n",
       " Line(<f29v.12,+P0> qekeochor.otchey.s,y<$>),\n",
       " Line(<f30r.1,@P0> <%>okeeesy.chey.shorchey.fcheody.shey.tchy.che[s:r].d.o.shey),\n",
       " Line(<f30r.2,+P0> ychody.chey.chkeey.ksho.keeor.cheor.shey.she.keeodol.sy),\n",
       " Line(<f30r.3,+P0> chodaiin.cho,ry.chey.doiin.sain.chorain.cheey,keem),\n",
       " Line(<f30r.4,+P0> qokechy.qoko.qop.char.soin.chan.qot,chaiin),\n",
       " Line(<f30r.5,+P0> choko.qokochy.deeey.dkeeor.cheoldain.chory),\n",
       " Line(<f30r.6,+P0> dchorol.sho.chor.cho,ro.raiin.dor.chseeor.dy),\n",
       " Line(<f30r.7,+P0> qor.chain.cthorchy<$>),\n",
       " Line(<f30r.8,+P0> <%>opchol,ol.chesey.scheo,r,chey.okeal.dcheo,rchey),\n",
       " Line(<f30r.9,+P0> dchey.qochar.chol.keeaiin.chcthey.chor.cheky),\n",
       " Line(<f30r.10,+P0> chokchaiin.dchor.chkchean.qotchy.chctho.rchody),\n",
       " Line(<f30r.11,+P0> qotchor.cheor.chey.cheor.chey.so[eeb:een].ydey.sor.daiin),\n",
       " Line(<f30r.12,+P0> dcheey.ckhey.ckhey.daiin.chkeaiin.dar.chor.ychdain),\n",
       " Line(<f30r.13,+P0> chodaiin.chtchey.chear.shy,keey<$>),\n",
       " Line(<f30v.1,@P0> <%>{c@132;h}s{c@133;h}ain.shosaiin.chocthey.sho.chepchy.shor.sheaiin),\n",
       " Line(<f30v.2,+P0> qotchor.chy.she.kchor.chory.keor,ol.chy.daiin.ctholdy),\n",
       " Line(<f30v.3,+P0> chotchol.daiin.cthol.doiin.daiin.chokeor.dal.chto[{ith}:cth]y),\n",
       " Line(<f30v.4,+P0> otchey.daiin.chor.checkhy.qotchod.daiin),\n",
       " Line(<f30v.5,+P0> dain.choty.chkol.ytor.cheoldy),\n",
       " Line(<f30v.6,+P0> qokeeor.chokol.chokeody.dair,y),\n",
       " Line(<f30v.7,+P0> ch[a:o]kchy.sho,kcho,tcho.ctho.sos),\n",
       " Line(<f30v.8,+P0> oyshy.cheotol.cphoaiin.cphey),\n",
       " Line(<f30v.9,+P0> qotchor.chor.sheey.cheolsos),\n",
       " Line(<f30v.10,+P0> sho.sheoldy.otcheor.daiin),\n",
       " Line(<f30v.11,+P0> sol.chokcheey.daiin.kchydy<$>),\n",
       " Line(<f31r.1,@P0> <%>keedey.qofchedy.shee,s.aiin.qokee@149;.chepakeo),\n",
       " Line(<f31r.2,+P0> dcheey.daiin.okeedy.qokees.s.aiin.shekeey.qef),\n",
       " Line(<f31r.3,+P0> qokeey.chey.daiin.qokeey.[s:r]air.chekey.s,aiin.da?),\n",
       " Line(<f31r.4,+P0> qotar.chy.dar.lo,r,ar.cheey.keeol,chedy.qokey),\n",
       " Line(<f31r.5,+P0> daiin.sheeody.qokeor<$>),\n",
       " Line(<f31r.6,+P0> <%>tshokeody.qokedy.qotedy.chep[o:a]s.cheda,[s:r].aiin.dal),\n",
       " Line(<f31r.7,+P0> ykeedar.saiin.checkhey.sheol.qokedy.ykeedy.chedy.ldy),\n",
       " Line(<f31r.8,+P0> shedy.qokedy.cheol.cheod.qokeody.cheol.checthy),\n",
       " Line(<f31r.9,+P0> daiir.sheeo.shcthey.okeol<$>),\n",
       " Line(<f31r.10,+P0> <%>tol,shso.okedy.okedy.qokedy.qokeedy.dar.shedshey),\n",
       " Line(<f31r.11,+P0> olsheol.qokchy.dal,chey.deey.kchy.keey.okaiiin.ykeey),\n",
       " Line(<f31r.12,+P0> qoaiin.yches.okedy.sheey.chedaiin.dar),\n",
       " Line(<f31r.13,+P0> olsheor.qoekedy.otedy.ykedy.dals),\n",
       " Line(<f31r.14,+P0> saii[s:r].or.chedy.daiin.okeedy),\n",
       " Line(<f31r.15,+P0> yshedair.sheol,cheky.okedam),\n",
       " Line(<f31r.16,+Pc> oteor.aiicthy<$>),\n",
       " Line(<f31v.1,@P0> <%>podair.sheedy.otedy.oteedy.qotolcheo.s.ar,ar.oteey.dk[ch:a]rar.als),\n",
       " Line(<f31v.2,+P0> ytchos.[o:a]ckhey.okeeo,s.cheody.okeey.keeody.daiin.cheody.keedy),\n",
       " Line(<f31v.3,+P0> ykeeo.daiin.shedal.okedy.okey.keo,dy.okchey.sair,okees.o.lkedy),\n",
       " Line(<f31v.4,+P0> dair.cthedy.qokedy.okeody.chedar.oked.al.ockhedy.okeedy.ota[s:d]),\n",
       " Line(<f31v.5,+P0> ykeos.cheeoy.or,aiin<$>),\n",
       " Line(<f31v.6,+P0> <%>pcheeody.qop.chedal.checfhy.chefchol.or.cheef,alaiin.opal.sheo.otar),\n",
       " Line(<f31v.7,+P0> olkeedam.ches.chol,keeol.checkhy.okeol.okal.oky.cheokar.okor.ary),\n",
       " Line(<f31v.8,+P0> ykaiin.chee,ksheey.ychekeeor.cheor.o,r,checthy.okechoked.lchey.okam),\n",
       " Line(<f31v.9,+P0> ytecheol.sheoeky.okeos.aiin.a[{ikh}:ckh]edy.chkaiin.chetchey.ctheey.okear),\n",
       " Line(<f31v.10,+P0> dar.choar.al.kar.oeeeos.cheos.aiin.o.ckhey.okeo.kor.okeol.ain),\n",
       " Line(<f31v.11,+P0> saiin.ar.ckheos.chedy.okeey.qoear.oraiin.cheam<$>),\n",
       " Line(<f32r.1,@P0> <%>fchaiin.shykeody.daiiody.dain.sho.tchy.oty.qopy),\n",
       " Line(<f32r.2,+P0> okor.okchor.sheor.ckhy.dal.dshodar.qotchol),\n",
       " Line(<f32r.3,+P0> qokchor.chor.cthol.chol.dol.dcheodain.daiin),\n",
       " Line(<f32r.4,+P0> schor.dsh[o:a]r.ytsho.dain.daiin.choddal),\n",
       " Line(<f32r.5,+P0> qotchy.qokchy.daiin<$>),\n",
       " Line(<f32r.6,+P0> <%>fcho.tcheychedy),\n",
       " Line(<f32r.7,+P0> otol.dol.ol,dair),\n",
       " Line(<f32r.8,+P0> qo,ar.daiin.dam),\n",
       " Line(<f32r.9,+P0> dytchor.dary),\n",
       " Line(<f32r.10,+P0> dchor.ctho,daiin),\n",
       " Line(<f32r.11,+P0> shos.chckhol.n),\n",
       " Line(<f32r.12,+P0> shodaiin.@150;tol),\n",
       " Line(<f32r.13,+P0> otcho,rol.dain.daiin.cthy),\n",
       " Line(<f32r.14,+P0> schey.qot,shey.daiin.cths),\n",
       " Line(<f32r.15,+P0> qokchy.qotol.doiir.ol),\n",
       " Line(<f32r.16,+P0> otchol.chey.soty),\n",
       " Line(<f32r.17,+P0> chokeol.dchoty),\n",
       " Line(<f32r.18,+P0> doiin.sho,shy),\n",
       " Line(<f32r.19,+P0> dol.dchol.dan<$>),\n",
       " Line(<f32v.1,@P0> <%>kcheodaiin.chol,kechy.qotaiin.daiioam.o,chofchody),\n",
       " Line(<f32v.2,+P0> daiin.odar.chy.daiin.chey.tch[y:o].l,dy.dain.teor),\n",
       " Line(<f32v.3,+P0> shor.daiin.chckhy.dsho.dain.daiin.s.shokey.ka),\n",
       " Line(<f32v.4,+P0> or,chr.chor.dor,chaiin.qotcho,r,chy.dch[o:a].daiin),\n",
       " Line(<f32v.5,+P0> chokchy.daiin.shy.chor.qo.kaiin.dain.dchol.dosg),\n",
       " Line(<f32v.6,+P0> o,kchan.chol,shal.dchcthy<$>),\n",
       " Line(<f32v.7,+P0> <%>ksho.cpho[s:r].she.sheaiin.otshcho.r.dain.shckhy.s.odan),\n",
       " Line(<f32v.8,+P0> otchol.daiin.daiin.ctho,daiin.qotaiin.otchy.d.shan),\n",
       " Line(<f32v.9,+P0> qotchy.cfhy.skey.chocthy.daiin.cthaiin.daiin),\n",
       " Line(<f32v.10,+P0> sho.keol.chor.chol.daiin.cpho,l.cthol.da.ar),\n",
       " Line(<f32v.11,+P0> ol.sho.chy<$>),\n",
       " Line(<f33r.1,@P0> <%>tshdar.shd[o:a]r.shepchdy.cphody.yfoldy.qofo{ikh}dy.otchedy.lfchdy.daiin),\n",
       " Line(<f33r.2,+P0> ytchedy.qokar.cheky.okaldy.qokaldy.otor.oldar.qotar.otar.otardam),\n",
       " Line(<f33r.3,+P0> laiin.y.cheky.qokedy.shedy.chdal.chechdaiin.qokchy.ody.chekeedy.yka[m:g]),\n",
       " Line(<f33r.4,+P0> taiin.chekey.or.al,aiiin.saiin.okaiin.dar.cheedy.chkeey.far.aiin.s),\n",
       " Line(<f33r.5,+P0> pair.or.aiin.otaiin.ol,kor.aiin.okal.otal.chdal.shekal.qokar.ota[m:g]),\n",
       " Line(<f33r.6,+P0> yteey.shody.kchedy,dy.chekar.okaiin.okaiin.daiin.okal),\n",
       " Line(<f33r.7,+P0> dar.chos.aiin.or.aiin.cheekaiin.okain.ar.okeeey<$>),\n",
       " Line(<f33v.1,@P0> <%>tar,ar.daiin.ydain.cthey.dols.sheky.ar,aiin.{cs}),\n",
       " Line(<f33v.2,+P0> kchdy.dam.dy.oky.otal.dain.chdy.ytam.otam.cham),\n",
       " Line(<f33v.3,+P0> dar.chckhy.dy.dyky.ckhdy.oky.d[a:ch]m.okar,dy.kam,dy),\n",
       " Line(<f33v.4,+P0> tokar.shdy.dal.qokar.shd.otody.chedy.ykedy.dodl.dain),\n",
       " Line(<f33v.5,+P0> tchdy.chody.okaiin.chckhy.dor.arl.cthy.dy,ty,dy.ykar.cheky.dy),\n",
       " Line(<f33v.6,+P0> ycheo.dar.olaiin.okar.chdy.chdy.oldy.okar.chdy<$>),\n",
       " Line(<f33v.7,+P0> <%>tshdy.shefchdy.shckhdy.oltedy.daiin.oky.cheol.orain.chdyshdy.porar),\n",
       " Line(<f33v.8,+P0> dar,ar.sheey.keedy.okchy.okar.okedy.chy.daiin.dy'.dy.dar.aiin.okary),\n",
       " Line(<f33v.9,+P0> sar.or,aiin.chor.or.shkair.shol.or.chckhy.ar,aiin.okain.dal.dy),\n",
       " Line(<f33v.10,+P0> lcho,ar.or.chey.lodaiin.o,or.okeedy.okaly),\n",
       " Line(<f33v.11,+P0> tar.al.keey.oram<$>),\n",
       " Line(<f34r.1,@P0> <%>pcheoepchy.olar.yl.yfody.okedody.shod.ololdy.dar.ytey),\n",
       " Line(<f34r.2,+P0> ytar.sheody.o,lam.octhedy.otedy.chdain.oltey.kchy,ty),\n",
       " Line(<f34r.3,+P0> qotedy.chyty.chdaly.dar.chd.otedy.qotol.okedy.dody.ody.kam),\n",
       " Line(<f34r.4,+P0> ytedy.daiin.chey.aiin.shy.chckhy.<~>oltchedy.otedy.dam.checthy),\n",
       " Line(<f34r.5,+P0> qoteedy.shedy.shedy.ol.okes.ar.<~>ykeed,l.chedy.otey.okaiin),\n",
       " Line(<f34r.6,+P0> oteol.chekey.chetey.oll.chesy.<~>daiin.cheky.fas.aiir.a[m:d]g),\n",
       " Line(<f34r.7,+P0> qokedy.dal.chdy.olchy.ykch[y:?].<~>ykedy.qokchdy.s.as.oldam),\n",
       " Line(<f34r.8,+P0> {ch'}otchy.qoky.olk.checkhy.<~>ys,air.air.chodar.ta[m:g]),\n",
       " Line(<f34r.9,+P0> ykchdy.qod.ar.ch{ct}.a[{ikh}:ckh]y.<~>or.lchey.todaly.okaiin.dardy<$>),\n",
       " Line(<f34r.10,+P0> <%>tcheo.olchckhy.oly.otchdy.chefalchhs),\n",
       " Line(<f34r.11,+P0> qokeey.sh.kaldaiin.cheky.cthdaly.otchedy.chty.s,aiin),\n",
       " Line(<f34r.12,+P0> char.aiin.okor,ar.tol.qokar.chckhy.chdal.ked.qokar.ar.daiin.dam),\n",
       " Line(<f34r.13,+P0> ykeo.lor.ochey.oly.okaly.kechdy.qokchdy.chor.ar.aiiin.daly),\n",
       " Line(<f34r.14,+P0> or.ar.y,kar.ol,al.oky.chody.qokal,chedy.chcthedy.cheky.daram),\n",
       " Line(<f34r.15,+P0> sair.chekar.cheky.shek.cholchedy.qokedy.yk,cheolchcthy<$>),\n",
       " Line(<f34v.1,@P0> <%>k[e':s]chdy.chdy.chefchy.shdy.qopchdy.shdydy.chdalchdy.ypchdy.chcthdy.spaiin),\n",
       " Line(<f34v.2,+P0> tol.qokchy.dychedy.okchy.chckhdy.chdaiin.ckhy.loees.ykar.aiin.oldam),\n",
       " Line(<f34v.3,+P0> ytal.shor.chdal.olchdy.char.or.ol.kedaiiin.chcthy.okchdy.chckhy.dasam),\n",
       " Line(<f34v.4,+P0> tchdaiin.chekal.shedy.qokedar.chdaiin.oldar.qoldar.chedy.daiin.otam),\n",
       " Line(<f34v.5,+P0> lshaiir.or,air.shedy.chechey.dykey.kair.chedy.qokar.chekaly.ch[a:o]lky<$>),\n",
       " Line(<f34v.6,+P0> <%>pchedar.shear.qokchdy.qokees.cheol.ypchdaiin.chedy.lr,ar.chedain),\n",
       " Line(<f34v.7,+P0> olchdaiin.chedy.chey,keedy.chy.kedy.dy.qokedy.okey.s,a[ir:is].chkain.otain),\n",
       " Line(<f34v.8,+P0> ysheos.otar.ar.choraiin.cheky.olchdaiin.or.oldar.chdar.oka[m:g]),\n",
       " Line(<f34v.9,+P0> lsheody.cphy.qokeey.keedy.kchdy.chedy.qokedy.chdy.kal,shs.oldaiin),\n",
       " Line(<f34v.10,+P0> daiin.chdy.tedy.kchdy.okeedy.checkhy.chdy.kain.chear.or.okedy.okam),\n",
       " Line(<f34v.11,+P0> yshos.ody.s.aiin.okey.okal,shedy<$>),\n",
       " Line(<f35r.1,@P0> <%>{c@132;h}oo.r,choly,{c@196;h}y.choty.char.dy),\n",
       " Line(<f35r.2,+P0> qokeeaiin.chokaiin.qo,tchy.daiin),\n",
       " Line(<f35r.3,+P0> dchaiin.cthey.qotchey.taiin.cthory),\n",
       " Line(<f35r.4,+P0> qotchy.shet,chy.ckhol.cheey.daiin.dainl),\n",
       " Line(<f35r.5,+P0> otchor.sho.tcheey.scheey.daiin.dain,or),\n",
       " Line(<f35r.6,+P0> schaiin.char.chan.daiin),\n",
       " Line(<f35r.7,+P0> shosaiin.tchor.choky),\n",
       " Line(<f35r.8,+P0> qokeey.ky,kaiin.daiin<$>),\n",
       " Line(<f35r.9,+P0> <%>paiin.chear.aiin.chear.shorchaiin),\n",
       " Line(<f35r.10,+P0> o,aiin.chaiin.ckhy.r.chl.s.chochy.daiin),\n",
       " Line(<f35r.11,+P0> sh[{oh}:ch]eaiin.chol.cthaiin.l,chaiin.lchal,dal.dair,aldy.n),\n",
       " Line(<f35r.12,+P0> olor.chy.chaiin.chy.taiin.kchey.koldy.chetchaiin),\n",
       " Line(<f35r.13,+P0> qokoiin.chaiin.qokchaiin.lshy.lodaly.oteey.taiin),\n",
       " Line(<f35r.14,+P0> cthol.chol.aiin.qotchy.otchor.daiin.shol.qotaiin),\n",
       " Line(<f35r.15,+P0> ochor.s.chiin.daiin.ytain<$>),\n",
       " Line(<f35v.1,@P0> <%>parchor.chocthy.roaiin.ar),\n",
       " Line(<f35v.2,+P0> qotchy.o,tchey.kchor.yty),\n",
       " Line(<f35v.3,+P0> dchor.choty.chyty.daiin),\n",
       " Line(<f35v.4,+P0> ytchy.qotchy.dchy.cthy),\n",
       " Line(<f35v.5,+P0> dchokchy.chocthy.chckhor),\n",
       " Line(<f35v.6,+P0> shol.tcheey.chkcheeu.chcthaiin),\n",
       " Line(<f35v.7,+P0> tcho,tchor.shol.sho.{co},kol.daiin),\n",
       " Line(<f35v.8,+P0> oaiin.tchor.cho.chotchy.dchold),\n",
       " Line(<f35v.9,+P0> qokchaiin.cho.ksho,l,choiin),\n",
       " Line(<f35v.10,+P0> okcheey.chosar.shory),\n",
       " Line(<f35v.11,+P0> qotcheeaiin.chodaiin),\n",
       " Line(<f35v.12,+P0> dchaiin.d.aiin.d.aiin,dal,s),\n",
       " Line(<f35v.13,+P0> ol.char.od.ar.chear),\n",
       " Line(<f35v.14,+P0> tcheain.shy.tar.dain),\n",
       " Line(<f35v.15,+P0> ykol.cheol.okchy.tch),\n",
       " Line(<f35v.16,+P0> ydaiin.okeey.d,aiin),\n",
       " Line(<f35v.17,+P0> daiin.dain.chkaly.choly),\n",
       " Line(<f35v.18,+P0> daiin.qokeeeb.chokee[o:y].r),\n",
       " Line(<f35v.19,+P0> schokey.y,keol.chol.daiin),\n",
       " Line(<f35v.20,+P0> sodaiin.shy.dchy.ckhy.dan),\n",
       " Line(<f35v.21,+P0> doiin.chor.chor<$>),\n",
       " Line(<f36r.1,@P0> <%>pcha@151;dan.qorain.chcfhal.soiin.cphor.shaiin.cthy.dair),\n",
       " Line(<f36r.2,+P0> oral.shor.ytaiin.qotaiin.qooldy.chty.chol,dy.tor),\n",
       " Line(<f36r.3,+P0> qotchy.tchy.daiin.@152;aiin.dolsain<$>),\n",
       " Line(<f36r.4,+P0> <%>podaiir.cphy.qoypchol.som.{c'y}.chy.dchy.fchom,dar),\n",
       " Line(<f36r.5,+P0> daiin.qor.chol.ctholy.s.o.r.chy.sy.chytaroiin),\n",
       " Line(<f36r.6,+P0> okaiin.cthor.y,kaiiin.s.dain.an.dan),\n",
       " Line(<f36r.7,+P0> qotol.cthol.okol,dy.okchy.ytorory.sold),\n",
       " Line(<f36r.8,+P0> ytchor.cthol.chaiin.yd),\n",
       " Line(<f36r.9,+P0> ytodaly.daiin.otaro<$>),\n",
       " Line(<f36v.1,@P0> <%>pchar,asy.qoforom.shoaiin.tchey.ch[{ckoh}:{ckhh}]y.otaiin.cphar.daiin),\n",
       " Line(<f36v.2,+P0> qotor.chol.daiin.otaiin.qotor.ytar.ochor.chety.ckh[o:a]r.dom),\n",
       " Line(<f36v.3,+P0> dchytchy.ytor,s.otaiin.qopchor.otar.otchaiin.s),\n",
       " Line(<f36v.4,+P0> qotchor.y,ky,ty,dy.daiin.cthor<$>),\n",
       " Line(<f36v.5,+P1> <%>tchor.ckhoiin.daiin.cphchar),\n",
       " Line(<f36v.6,+P1> daiin.cthor.daiin.dal.dys),\n",
       " Line(<f36v.7,+P1> qoky.keol.okchor.o,s,ch[y:a],shan),\n",
       " Line(<f36v.8,+P1> ykshy.ytchy.dol.y,tydy.yky),\n",
       " Line(<f36v.9,+P1> okaiin.y,kcholqod.chory),\n",
       " Line(<f36v.10,+P1> ykchotchy.daiin.daiild),\n",
       " Line(<f36v.11,+P1> oty.chcthy.ytoryd),\n",
       " Line(<f36v.12,+P1> ytol.kchy.oty,chd),\n",
       " Line(<f36v.13,+P1> oky.she.cthol.oty),\n",
       " Line(<f36v.14,+P1> soiin.chtain<$>),\n",
       " Line(<f37r.1,@P0> <%>tocphol.shaiin.qotor.ofchor.oty.chory.daiin.otod,[o:a]r),\n",
       " Line(<f37r.2,+P0> ykoiin.cthor.okaiin.qo,tchy.ytody.qokaiin.sho.ytaiin),\n",
       " Line(<f37r.3,+P0> qo,shy.qokaiin.cthol,dy.ckhor.oky,dy<$>),\n",
       " Line(<f37r.4,+P0> <%>pchotchy.daiin.cfholdar.chol.daiin.yd),\n",
       " Line(<f37r.5,+P0> yky.qokchy.qotchor.chkol.otoly),\n",
       " Line(<f37r.6,+P0> shor.shol.qokchy.qotomody.dchol.daiin),\n",
       " Line(<f37r.7,+P0> sor.chey.kor.qokor.daiin<$>),\n",
       " Line(<f37r.8,+P0> <%>koiin.chorody.qokaiin.{c'hh}ory.otal.shor.sheor.dar),\n",
       " Line(<f37r.9,+P0> ykchody.qotchy.ykaiin.chy.qotordy.otcho.loldaiin),\n",
       " Line(<f37r.10,+P0> qoto.o,kchochor.dchor.chy.shy.daiin.ychey.kol,daiir),\n",
       " Line(<f37r.11,+P0> okchor.daiin.ckhy.dain.daiin<$>),\n",
       " Line(<f37v.1,@P0> <%>[t:k]shody.qocthy.qotoldy.chopdain.sol),\n",
       " Line(<f37v.2,+P0> dor.chol.cthor.orchochor.daiin),\n",
       " Line(<f37v.3,+P0> qokchon.shy.chon.daiin.dy),\n",
       " Line(<f37v.4,+P0> dshor.dytory.dshor.daiin),\n",
       " Line(<f37v.5,+P0> dchor.qotol.ykchon.dain),\n",
       " Line(<f37v.6,+P0> yokor.ytchor.saiin.oty),\n",
       " Line(<f37v.7,+P0> qotchor.daiin<$>),\n",
       " Line(<f37v.8,+P0> <%>qotor.choiin.chetchy.daiin),\n",
       " Line(<f37v.9,+P0> dor.chor.sho.daiiin.daiin),\n",
       " Line(<f37v.10,+P0> soiin.{ch'}ey.o,koiin.chey.tom),\n",
       " Line(<f37v.11,+P0> qotoiin.choror.cthol.daiin),\n",
       " Line(<f37v.12,+P0> chor,sh[y:o]ly.sheaiin.do.tody),\n",
       " Line(<f37v.13,+P0> sotoiiin<$>),\n",
       " Line(<f37v.14,+P0> <%>todain.cphaiin.cphorods),\n",
       " Line(<f37v.15,+P0> soiiin.cheoky.daiin.dain),\n",
       " Line(<f37v.16,+P0> qotor.daiin.chotaiin),\n",
       " Line(<f37v.17,+P0> sokchor.qokoiiin.ykeeols),\n",
       " Line(<f37v.18,+P0> oyteey.daiin.daiinody),\n",
       " Line(<f37v.19,+P0> daiin.qkaiin.qotal.daiin),\n",
       " Line(<f37v.20,+P0> y,cho{ckah}y.ykol,daiin,s),\n",
       " Line(<f37v.21,+P0> oshctho.do.daiin.cthols),\n",
       " Line(<f37v.22,+P0> qotol.ytoiin.cho{cthh}y),\n",
       " Line(<f37v.23,+P0> yto.chol.daiin<$>),\n",
       " Line(<f38r.1,@P0> <%>tolor.chockhy.oky.choiin.okshol.oly.oky),\n",
       " Line(<f38r.2,+P0> okshey.chodys.ytoiin.otaiin.otaiin.cthar),\n",
       " Line(<f38r.3,+P0> qokor.okaiin.otaiin.qo,kchol.chokokor),\n",
       " Line(<f38r.4,+P0> ychok.chey.chckh.chy.chk[o:y].r.odaiin.d,aiin.sy),\n",
       " Line(<f38r.5,+P0> o,kor.chey.kain.chor.ctho.dain.ckholdy),\n",
       " Line(<f38r.6,+P0> ysho.sho.kos.daiin.okoy.chochor.daiin<$>),\n",
       " Line(<f38v.1,@P0> <%>okchop.chol.shotol.oteol.okee[a:y].s.chor.d.aiin,d),\n",
       " Line(<f38v.2,+P0> choiin.shey.key.sho.oiin.s.chol,ldy.okeaiin.o,kom),\n",
       " Line(<f38v.3,+P0> qokeey.keor.daiin.okey.keey.daiin.dair.daiin.s),\n",
       " Line(<f38v.4,+P0> okeey.d,aiin.qokeey.chotey.tody.oky.aiiin.d),\n",
       " Line(<f38v.5,+P0> qoty.daiin.chol.oteeol.dody.cheod.chody),\n",
       " Line(<f38v.6,+P0> sho.keeey.key.tey.daiin.daiiin.dain.dain),\n",
       " Line(<f38v.7,+P0> daiin.qol.chy.dain.@153;.or.daiin.dain.daldy),\n",
       " Line(<f38v.8,+P0> o,aiin.char.chshol.chokaiin<$>),\n",
       " Line(<f39r.1,@P0> <%>tedo,chshd.cphhofy.chdain.shey.f[sh:se]y,dy.orain.cheepaiin.ofy.shey.k[a:o]ly.dy),\n",
       " Line(<f39r.2,+P0> olchey.cheky.qokedy.shekshey.qolain.ch{ckh'h}y.chdy.dair.shckhey.dold),\n",
       " Line(<f39r.3,+P0> qokalchdy.chekaiin.checkhy.darshed.qokeedar.eeedy.dar.ar.cheey.dyckhy),\n",
       " Line(<f39r.4,+P0> tchedy.chdy.olaiin.chedy.shckhdchy.chol.or.ordy.chees.aly.okalcheg),\n",
       " Line(<f39r.5,+P0> dchdy.chdy.ykaiin<$>),\n",
       " Line(<f39r.6,+P0> <%>pchdaiin.she,dam.qofchedy.shedy.kchdy.dydy.opchekaiin.sho{ckhh}y.shdalo.ry),\n",
       " Line(<f39r.7,+P0> dchdar.chedy.cholal.qokedar.chdy.chckhdy.dar.ar.al.ydy.eee,s.aiiin),\n",
       " Line(<f39r.8,+P0> lchedy.shedy.qokaiin.chkeey.fchedy.okam.ch{cfhh}y.saiin.chckhy.daisog),\n",
       " Line(<f39r.9,+P0> tchedy.shol.odal.qokaiin.shdaiin<$>),\n",
       " Line(<f39r.10,+P0> <%>pchdar.shedy.ar.aiir.okair.ykeols.shedy.qockhdy.laiin.{c'y}ky),\n",
       " Line(<f39r.11,+P0> dshdy.ar.aiin.y.yk[en:{cr}].chdy.ykal.olkaiin.qokaldar.cheol.dar.aiin),\n",
       " Line(<f39r.12,+P0> tolchda[iin:ii?].chckhy.s,aiin.olor.chls.aiin.oky.ches.aiin.dal),\n",
       " Line(<f39r.13,+P0> ytor.chdar.shey.qokaiin.chor.kar.sheolkedy.otedy.tedy.s,aiin),\n",
       " Line(<f39r.14,+P0> daiin.shckhy.chekl.ol,daiin.chedy.ykeey.daiin.otal.chdam.qokam),\n",
       " Line(<f39r.15,+P0> qolkain.ol,cheol.daiin.dar.ol.dld.[ar:iir].ador.aiin.ofcheefar),\n",
       " Line(<f39r.16,+Pc> oteol.cholkal.qokal.dar.ykdy<$>),\n",
       " Line(<f39v.1,@P0> <%>pdair.chdy.fdykain.or.air.sheykaiiin.ofchy.kar.or.aiin.dolky.o[sh:{i'h}]dy),\n",
       " Line(<f39v.2,+P0> sor.shy.kar.chol.qoty.kchdy.olky.dar.chdy.ykar.olkedaiin.ody.dy),\n",
       " Line(<f39v.3,+P0> daiin.chor.okain.okaii,fchody.saiin.or,aiin.qokaiin.ytodaiin.okam),\n",
       " Line(<f39v.4,+P0> y,okeey.chody.cheor.aiin.okody.chodal.ykedy.qokedy.dal,o,[d:?],aiin.shky),\n",
       " Line(<f39v.5,+P0> ytedykor.or.sheky.kain.otar.or.aiin.okaiin.ckhol.ol.kor.oto,r.ofchy),\n",
       " Line(<f39v.6,+P0> lkedy.okchey.shor.qoykam.cho,ckh{cfhh}y.or.aly.shody<$>),\n",
       " Line(<f39v.7,+P0> <%>pardy.shedy.qokar.sheedy.oraly.olaiir.okar.ar),\n",
       " Line(<f39v.8,+P0> o{ek}ar.aiin.olkaiin.olky.dar.ald.shek.chek.qokchy.dar.ain),\n",
       " Line(<f39v.9,+P0> tar.aiin.dal.ar.ain.cheor.ydam.shody.okal.shd,y.kshy.or),\n",
       " Line(<f39v.10,+P0> dar.ar.ykar.or.yky.chdy.fchor.qokain.ar.sheedy.olchef),\n",
       " Line(<f39v.11,+P0> sarol.chedy.shekam.q[o:e]kar.chl.ykeedy.chckhy.dalor.dy),\n",
       " Line(<f39v.12,+P0> paiin.alaiin.otal,chd.okar.am.okar.cheodal.ockhy),\n",
       " Line(<f39v.13,+P0> dain.ockhedy.otedy.okedy.lchdy.okaiin.daiiin,y),\n",
       " Line(<f39v.14,+P0> tar,aiin.okaiin.cholody<$>),\n",
       " Line(<f40r.1,@P0> <%>pchey.k,eodar.aldydy.qoky.okal.shdy.olkedy.opches.ar.ordaiin),\n",
       " Line(<f40r.2,+P0> qokar.okar.okedy.dar.ykchey.kaiin.ok[a:o]s,chedy.okar.a,ralos),\n",
       " Line(<f40r.3,+P0> shy.qokal.chdy.chckhd.otor.aiir.o,ky.okolchy.qokar.okam),\n",
       " Line(<f40r.4,+P0> or.aiin.chekody.dar.qokol.okaiin.okar.oky.okoldy.ol),\n",
       " Line(<f40r.5,+P0> lokar.qokar.okar.okol.ol.chedy.qokchd.ar.ar.or.da[g:m]),\n",
       " Line(<f40r.6,+P0> tor.or.ar.shok.or.am.o,lshedy.qokam.chdy.kar.oraiin),\n",
       " Line(<f40r.7,+P0> yaiin.chekaiin.oky.ycheey<$>),\n",
       " Line(<f40r.8,+P0> <%>ksheo.keeey.dar.ai[g:m].kcheo.cfhdy.or,ain.chefal.daiin.dg),\n",
       " Line(<f40r.9,+P0> taiin.ol.olaiin.or.dain.okaiin.okaiin.okaiin.daram),\n",
       " Line(<f40r.10,+P0> saiin.olcheey.chdy.ychey.ka@154;ar.oky.ykedy.okair.ody),\n",
       " Line(<f40r.11,+P0> toar.ykaiin.ory.dal<$>),\n",
       " Line(<f40v.1,@P0> <%>pchedain.chefaiin.oldy),\n",
       " Line(<f40v.2,+P0> todar.qokaiin.ol.ara[g:m]),\n",
       " Line(<f40v.3,+P0> s,air,ain.okaiin.okam),\n",
       " Line(<f40v.4,+P0> taraiin.okaiin.ch{ckhy}),\n",
       " Line(<f40v.5,+P0> solaiin.okar.oly.chckhy),\n",
       " Line(<f40v.6,+P0> qoeedaiin.ol.chedy.daiin),\n",
       " Line(<f40v.7,+P0> shody.qokol,chedy.s.ar),\n",
       " Line(<f40v.8,+P0> chodaiin.chkalykedy.okal),\n",
       " Line(<f40v.9,+P0> tchy,pchody.pchdy.kor.ol),\n",
       " Line(<f40v.10,+P0> tchkaiin.tchedy.qokaiin.oraiin),\n",
       " Line(<f40v.11,+P0> schedy.qokol.chedy.dalor.a{ith}y),\n",
       " Line(<f40v.12,+P0> ycheekeey.daiin.okaiin<$>),\n",
       " Line(<f40v.13,+P0> <%>toees.chedy.kedy.olfchedy.qokedy.daiin.chefain),\n",
       " Line(<f40v.14,+P0> saiin.o.lchey.kchedy.okar.qokchdy.dy.qokees.am.chdy),\n",
       " Line(<f40v.15,+P0> qokchey.qody.or.aiiin.o,kaiin.o,ckhy.sheod.faimy),\n",
       " Line(<f40v.16,+P0> shol.kedy.lor.ar.okar.qoky.kedy.r.yteey.qokam),\n",
       " Line(<f40v.17,+P0> tochey.qokeedy.qokaiin.okeos.qokar.okees.ar.o[k:?]y),\n",
       " Line(<f40v.18,+P0> saiin.otain.chckhy.okal.okair.arol.qokey.okary),\n",
       " Line(<f40v.19,+Pc> pchedy.chetar.ofair.arody<$>),\n",
       " Line(<f41r.1,@P0> <%>pshey,kedal[ee:ch]y.oked.seekeeey.opshes.[o:y]p[ch:ee]d.qotchedy.shkakeedy),\n",
       " Line(<f41r.2,+P0> ykeeo.alshey,ykedy.kesh,dy.dy.dor.[y:q]cheoky.qokee[d:?].chpy.qokedy.dy),\n",
       " Line(<f41r.3,+P0> qok.sa[y:?].[q:y][o:e]kedy.ychdykchdy.qokedy.qokedy.shekchy.cheky.daly),\n",
       " Line(<f41r.4,+P0> chdchy.ytcheeky.ypchedy.schdy.ytedy.{cthh}y.chees.oteey.otal.da[m:g]),\n",
       " Line(<f41r.5,+P0> qotchy.sal.yteedy.kchdy.dchedy.k[ee:ch]dy.dchedy.dalain<$>),\n",
       " Line(<f41r.6,+P0> <%>shedey.polchedy.qokeey.chekedy.ytey.chkeeod.ypchedpy.sh[epe:cph].shedy),\n",
       " Line(<f41r.7,+P0> parchdy.kchey.yteedy.qokeod[o:y].okedy.chkedy.qokedy.ched[y:e].qokedy),\n",
       " Line(<f41r.8,+P0> dair.chedy.chckhy.qokey.lchdy.qokedy.qokal.chekedy.qodar,a[g:j]),\n",
       " Line(<f41r.9,+P0> qokeedy.okedy.chekedy.chedy.chckheody.chekol.daiin.cheo.al.otedy),\n",
       " Line(<f41r.10,+P0> sshok.shedy.qekchdy.dchdaldy.ykedy.qokeedy.qokedy.qokeg),\n",
       " Line(<f41r.11,+P0> ykeod.ykeedy.chekeedy.cheked<$>),\n",
       " Line(<f41v.1,@Lp> keer[e:o]dal),\n",
       " Line(<f41v.2,+P0> <%>pcheody.qofcheepy.ofchdy.cfhekchdy.ypchedy.chepchefy.shdchdy.qotal.dar),\n",
       " Line(<f41v.3,+P0> dshedy.tchey.s,aiin.shekey.okedy.okaly.daiin.okedy.ykeeody.choy.keoy.dam),\n",
       " Line(<f41v.4,+P0> qoke[o:d]dy.okey.qokeody.oleeol.lkedy.lkeeody.qokeedy.okeey.qokol.sheols),\n",
       " Line(<f41v.5,+P0> ycheos.olchey.daiin.or.chol[a:o]laiin.oteedy.qoteol.oteodar.orain),\n",
       " ...]"
      ]
     },
     "execution_count": 49,
     "metadata": {},
     "output_type": "execute_result"
    }
   ],
   "source": [
    "vm.get_lines()"
   ]
  },
  {
   "cell_type": "code",
   "execution_count": null,
   "metadata": {},
   "outputs": [],
   "source": []
  }
 ],
 "metadata": {
  "interpreter": {
   "hash": "80e249822db5758e05c7a95f2378bda83bb74a36814d9a884ba3a875cd74994c"
  },
  "kernelspec": {
   "display_name": "Python 3.8.8 64-bit ('base': conda)",
   "name": "python3"
  },
  "language_info": {
   "codemirror_mode": {
    "name": "ipython",
    "version": 3
   },
   "file_extension": ".py",
   "mimetype": "text/x-python",
   "name": "python",
   "nbconvert_exporter": "python",
   "pygments_lexer": "ipython3",
   "version": "3.8.8"
  },
  "orig_nbformat": 4
 },
 "nbformat": 4,
 "nbformat_minor": 2
}
