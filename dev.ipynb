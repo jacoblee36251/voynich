{
 "cells": [
  {
   "cell_type": "code",
   "execution_count": 1,
   "source": [
    "import re\r\n",
    "\r\n",
    "from preprocess import *"
   ],
   "outputs": [],
   "metadata": {}
  },
  {
   "cell_type": "markdown",
   "source": [
    "Plan\r\n",
    "\r\n",
    "- Read in all lines\r\n",
    "    - Remove all commented lines\r\n",
    "        - Ignore any lines that have # as the first character\r\n",
    "    - Remove all blank lines\r\n",
    "    - Strip every line\r\n",
    "- distinguish between header lines and transliterated text lines\r\n",
    "- \r\n"
   ],
   "metadata": {}
  },
  {
   "cell_type": "code",
   "execution_count": 2,
   "source": [
    "with open(\"data/raw/ZL_ivtff_1r.txt\", \"r\") as f:\r\n",
    "    lines = [l.strip() for l in f.readlines() if l[0] != \"#\" and len(l) > 1]\r\n",
    "\r\n",
    "len(lines), lines[:10]"
   ],
   "outputs": [
    {
     "output_type": "execute_result",
     "data": {
      "text/plain": [
       "(5616,\n",
       " ['<f1r>      <! $Q=A $P=A $F=a $B=1 $I=T $L=A $H=1 $C=1 $X=V>',\n",
       "  '<f1r.1,@P0>       <%>fachys.ykal.ar.ataiin.shol.shory.[cth:oto]res.y.kor.sholdy<!doodle: @254;>',\n",
       "  '<f1r.2,+P0>       sory.ckhar.or,y.kair.chtaiin.shar.ase.cthar.cthar,dan',\n",
       "  '<f1r.3,+P0>       syaiir.sheky.or.ykaiin.shod.cthoary.cthes.daraiin.sy',\n",
       "  '<f1r.4,+P0>       soiin.oteey.oteo[s:r],roloty.cthiar,daiin.okaiin.or.okan',\n",
       "  '<f1r.5,+P0>       sair,y.chear.cthaiin.cphar.cfhaiin',\n",
       "  '<f1r.6,=Pt>       ydaraishy<$>',\n",
       "  \"<f1r.7,*P0>       <%><!doodle: @252;>odar.{c'y}.shol.cphoy.oydar.sh.s.cfhoaiin.shodary\",\n",
       "  '<f1r.8,+P0>       yshey.shody.okchoy.otchol.chocthy.os,chy.dain.chor.kos',\n",
       "  '<f1r.9,+P0>       daiin.shos.cfhol.shody'])"
      ]
     },
     "metadata": {},
     "execution_count": 2
    }
   ],
   "metadata": {}
  },
  {
   "cell_type": "code",
   "execution_count": 3,
   "source": [
    "lines = [re.sub(\"\\s\\s+\" , \" \", line) for line in lines]\r\n",
    "lines[0:10]"
   ],
   "outputs": [
    {
     "output_type": "execute_result",
     "data": {
      "text/plain": [
       "['<f1r> <! $Q=A $P=A $F=a $B=1 $I=T $L=A $H=1 $C=1 $X=V>',\n",
       " '<f1r.1,@P0> <%>fachys.ykal.ar.ataiin.shol.shory.[cth:oto]res.y.kor.sholdy<!doodle: @254;>',\n",
       " '<f1r.2,+P0> sory.ckhar.or,y.kair.chtaiin.shar.ase.cthar.cthar,dan',\n",
       " '<f1r.3,+P0> syaiir.sheky.or.ykaiin.shod.cthoary.cthes.daraiin.sy',\n",
       " '<f1r.4,+P0> soiin.oteey.oteo[s:r],roloty.cthiar,daiin.okaiin.or.okan',\n",
       " '<f1r.5,+P0> sair,y.chear.cthaiin.cphar.cfhaiin',\n",
       " '<f1r.6,=Pt> ydaraishy<$>',\n",
       " \"<f1r.7,*P0> <%><!doodle: @252;>odar.{c'y}.shol.cphoy.oydar.sh.s.cfhoaiin.shodary\",\n",
       " '<f1r.8,+P0> yshey.shody.okchoy.otchol.chocthy.os,chy.dain.chor.kos',\n",
       " '<f1r.9,+P0> daiin.shos.cfhol.shody']"
      ]
     },
     "metadata": {},
     "execution_count": 3
    }
   ],
   "metadata": {}
  },
  {
   "cell_type": "code",
   "execution_count": 13,
   "source": [
    "line = lines[0]\r\n",
    "line"
   ],
   "outputs": [
    {
     "output_type": "execute_result",
     "data": {
      "text/plain": [
       "'<f1r> <! $Q=A $P=A $F=a $B=1 $I=T $L=A $H=1 $C=1 $X=V>'"
      ]
     },
     "metadata": {},
     "execution_count": 13
    }
   ],
   "metadata": {}
  },
  {
   "cell_type": "code",
   "execution_count": 14,
   "source": [
    "a, b = line.split(\"> \")\r\n",
    "a = a[1:]\r\n",
    "a, b"
   ],
   "outputs": [
    {
     "output_type": "execute_result",
     "data": {
      "text/plain": [
       "('f1r', '<! $Q=A $P=A $F=a $B=1 $I=T $L=A $H=1 $C=1 $X=V>')"
      ]
     },
     "metadata": {},
     "execution_count": 14
    }
   ],
   "metadata": {}
  },
  {
   "cell_type": "code",
   "execution_count": null,
   "source": [
    "# identify if this line is a page header or transliteration item\r\n",
    "if \",\" not in a: # page header\r\n",
    "    page_name = a\r\n",
    "    b = b.replace(\">\", \"\").replace(\"<!\", \"\").strip()\r\n",
    "else: # transliteration item\r\n",
    "    \r\n",
    "    "
   ],
   "outputs": [],
   "metadata": {}
  },
  {
   "cell_type": "code",
   "execution_count": 21,
   "source": [
    "page_name = a\r\n",
    "b = b.replace(\">\", \"\").replace(\"<!\", \"\").strip()\r\n",
    "variables = b.split()\r\n",
    "variables"
   ],
   "outputs": [
    {
     "output_type": "execute_result",
     "data": {
      "text/plain": [
       "['$Q=A', '$P=A', '$F=a', '$B=1', '$I=T', '$L=A', '$H=1', '$C=1', '$X=V']"
      ]
     },
     "metadata": {},
     "execution_count": 21
    }
   ],
   "metadata": {}
  },
  {
   "cell_type": "code",
   "execution_count": 24,
   "source": [
    "variable = variables[0]\r\n",
    "var, val = variable.split(\"=\")\r\n",
    "var, val"
   ],
   "outputs": [
    {
     "output_type": "execute_result",
     "data": {
      "text/plain": [
       "('$Q', 'A')"
      ]
     },
     "metadata": {},
     "execution_count": 24
    }
   ],
   "metadata": {}
  },
  {
   "cell_type": "code",
   "execution_count": 5,
   "source": [
    "re.findall(\"\\<(.*?)\\>\", lines[1])"
   ],
   "outputs": [
    {
     "output_type": "execute_result",
     "data": {
      "text/plain": [
       "['f1r.1,@P0', '%', '!doodle: @254;']"
      ]
     },
     "metadata": {},
     "execution_count": 5
    }
   ],
   "metadata": {}
  },
  {
   "cell_type": "code",
   "execution_count": 10,
   "source": [
    "class VoynichManuscript:\r\n",
    "    \r\n",
    "    def __init__(self, path_to_txt):\r\n",
    "        self._parse(path_to_txt)\r\n",
    "        \r\n",
    "        self.quines = dict()\r\n",
    "        \r\n",
    "    def _parse(self, path_to_txt):\r\n",
    "        with open(\"data/raw/ZL_ivtff_1r.txt\", \"r\") as f:\r\n",
    "            lines = [l.strip() for l in f.readlines() if l[0] != \"#\" and len(l) > 1]\r\n",
    "        "
   ],
   "outputs": [],
   "metadata": {}
  },
  {
   "cell_type": "code",
   "execution_count": null,
   "source": [
    "VoynichManuscript.quines[]"
   ],
   "outputs": [],
   "metadata": {}
  },
  {
   "cell_type": "code",
   "execution_count": null,
   "source": [
    "class Page:\r\n",
    "    "
   ],
   "outputs": [],
   "metadata": {}
  },
  {
   "cell_type": "markdown",
   "source": [
    "# datastructure plan\r\n",
    "- Manuscript\r\n",
    "    - name\r\n",
    "    - dict of Quines\r\n",
    "        - key is either integer ID (int) or , value is the Quine object\r\n",
    "    - iterpages()\r\n",
    "    - iterquines()\r\n",
    "    - iterlines()\r\n",
    "\r\n",
    "- Quine\r\n",
    "    - name\r\n",
    "    - contains dict of Pages\r\n",
    "        - key is page ID (str)\r\n",
    "    - iterpages()\r\n",
    "        - iterates over quines in correct order\r\n",
    "        - \r\n",
    "\r\n",
    "\r\n",
    "- Page\r\n",
    "    - name\r\n",
    "    - petersen_page_num\r\n",
    "    - contains dict of Lines\r\n",
    "    - contains dict of paragraphs (just strings of concatenated)\r\n",
    "    - iterlines()\r\n",
    "        - iterates over line objects in the correct order\r\n",
    "        - Sort by splitting on\r\n",
    "    - iterparagraphs()\r\n",
    "        - iterate through the paragraphs\r\n",
    "- Line\r\n",
    "    - name\r\n",
    "    - page\r\n",
    "    - paragraph #\r\n",
    "    - quine\r\n",
    "\r\n",
    "# Pseudocode\r\n",
    "- initialize boolean that tracks if youre inside a paragraph\r\n",
    "- iterate through line by line\r\n",
    "    - identify if current line is new page header or transliterated item\r\n",
    "        - if new page header, create page object and store it\r\n",
    "        - if transliterated item\r\n",
    "            - Create new line object with line name (split on comma) and \r\n",
    "            - remove \"<->\" from all text lines\r\n",
    "            - remove \"<! ...>\" from all text lines (regex)\r\n",
    "            - if this is the beginning of a paragraph\r\n",
    "                - set boolean to true\r\n",
    "                - append this to an accumulating paragraph string\r\n",
    "- when parsing text for the first time:\r\n",
    "    - iterate through line by line\r\n",
    "\r\n",
    "\r\n",
    "    - track when a paragraph has begun (initialize value to 0)\r\n",
    "    - when paragraph has begun, increment paragraph count\r\n",
    "        - \r\n",
    "    - for each line in a page, keep appending to a string\r\n",
    "        - join multiple lines by a .\r\n",
    "        - \r\n"
   ],
   "metadata": {}
  },
  {
   "cell_type": "code",
   "execution_count": 73,
   "source": [
    "class Hello:\r\n",
    "    \r\n",
    "    def __init__(self, name):\r\n",
    "        self.name = name\r\n",
    "        self.byes = [1,2,3]\r\n",
    "\r\n",
    "    def __repr__(self):\r\n",
    "        return f\"Hello(name={self.name})\""
   ],
   "outputs": [],
   "metadata": {}
  },
  {
   "cell_type": "code",
   "execution_count": 81,
   "source": [
    "alphabet = \"ABCDEFGHIJKLMNOPQRSTUVWXYZ\"\r\n",
    "letter_to_idx = {l:i for i, l in enumerate(alphabet)}"
   ],
   "outputs": [],
   "metadata": {}
  },
  {
   "cell_type": "code",
   "execution_count": 87,
   "source": [
    "int(re.search(r'\\d+', \"f14v3\").group())\r\n"
   ],
   "outputs": [
    {
     "output_type": "execute_result",
     "data": {
      "text/plain": [
       "14"
      ]
     },
     "metadata": {},
     "execution_count": 87
    }
   ],
   "metadata": {}
  },
  {
   "cell_type": "code",
   "execution_count": 88,
   "source": [
    "locus_to_description = {\r\n",
    "    \"P\": \"Linear text in paragraphs\",\r\n",
    "    \"P0\":\"Linear text in paragraphs, normal left-justified text\",\r\n",
    "    \"P1\":\"Linear text in paragraphs, normal paragraph text that is significantly away from the left, typically due to a drawing, or some other text to its left\",\r\n",
    "    \"Pb\":\"Linear text in paragraphs, a free‐floating set of lines in a non‐standard location.\",\r\n",
    "    \"Pc\":\"Linear text in paragraphs, a roughly centred line (compared to the previous line)\",\r\n",
    "    \"Pr\":\"Linear text in paragraphs, a (roughly) right‐justified line\",\r\n",
    "    \"Pt\":\"Linear text in paragraphs, a right‐justified ‘title’ which is on the same line as the previous item\",\r\n",
    "    \"L\":\"Short piece of text that is anywhere on the page. Mostly these are the so‐called labels\",\r\n",
    "    \"L0\":\"Short piece of text that is anywhere on the page. Mostly these are the so‐called labels. It is not clearly near any drawing element\",\r\n",
    "    \"La\":\"Short piece of text that is anywhere on the page. Mostly these are the so‐called labels. A label of an astronomical or cosmological drawing element, which is not a star or a zodiac element\",\r\n",
    "    \"Lc\":\"Short piece of text that is anywhere on the page. Mostly these are the so‐called labels. A label of a container in the pharmaceutical section\",\r\n",
    "    \"Lf\":\"Short piece of text that is anywhere on the page. Mostly these are the so‐called labels. A label of a fragment of a herb in the pharmaceutical section\",\r\n",
    "    \"Ln\":\"Short piece of text that is anywhere on the page. Mostly these are the so‐called labels. A label of a nymph in the biological section\",\r\n",
    "    \"Lp\":\"Short piece of text that is anywhere on the page. Mostly these are the so‐called labels. A label of a large herb or plant drawing (in the herbal section)\",\r\n",
    "    \"Ls\":\"Short piece of text that is anywhere on the page. Mostly these are the so‐called labels. A label of a star\",\r\n",
    "    \"Lt\":\"Short piece of text that is anywhere on the page. Mostly these are the so‐called labels. A label of a tube or a tub in the biological section (essentially everything that is not a nymph)\",\r\n",
    "    \"Lx\":\"Short piece of text that is anywhere on the page. Mostly these are the so‐called labels. Extraneous writing (e.g. in the margin)\",\r\n",
    "    \"Lz\":\"Short piece of text that is anywhere on the page. Mostly these are the so‐called labels. A label of a zodiac element\",\r\n",
    "    \"C\":\"Text along the circumference of a circle\",\r\n",
    "    \"Ca\":\"Text along the circumference of a circle. The text runs anti‐clockwise\",\r\n",
    "    \"Cc\":\"Text along the circumference of a circle. The text runs clockwise\",\r\n",
    "    \"R\":\"Text along the radius of a circle.\",\r\n",
    "    \"Ri\":\"Text along the radius of a circle. The text runs outside to inside (inwards)\",\r\n",
    "    \"Ro\":\"Text along the circumference of a circle. The text runs inside to outside (outwards)\"\r\n",
    " }"
   ],
   "outputs": [],
   "metadata": {}
  },
  {
   "cell_type": "code",
   "execution_count": null,
   "source": [
    "locator_to_description = {\r\n",
    "    \"@\":\"The position of this locus is unrelated to the previous item, or not easily described by one of the following. This locator is always used for the first item on each page.\",\r\n",
    "    \"+\":\"This locus is generally below the previous item. This is the most common case.\",\r\n",
    "    \"*\":\"The locus is at the start of the line below the previous item, but at the left margin, while the previous item was not.\",\r\n",
    "    \"-\":\"The locus is on the same line as the previous item, but across a drawing element (future extension, not yet used)\",\r\n",
    "    \"=\":\"The locus is on the same line as the previous item, but separated by some white space.\",\r\n",
    "    \"&\":\"The locus is on the same line as the previous item, but along a circular line\",\r\n",
    "    \"~\":\"The locus is on the same line as the previous item, but the vertical alignment is not good.\",\r\n",
    "}"
   ],
   "outputs": [],
   "metadata": {}
  },
  {
   "cell_type": "code",
   "execution_count": 91,
   "source": [
    "locus_to_description[\"P0\"]"
   ],
   "outputs": [
    {
     "output_type": "execute_result",
     "data": {
      "text/plain": [
       "'Linear text in paragraphs, normal left-justified text'"
      ]
     },
     "metadata": {},
     "execution_count": 91
    }
   ],
   "metadata": {}
  },
  {
   "cell_type": "code",
   "execution_count": null,
   "source": [],
   "outputs": [],
   "metadata": {}
  }
 ],
 "metadata": {
  "orig_nbformat": 4,
  "language_info": {
   "name": "python",
   "version": "3.8.8",
   "mimetype": "text/x-python",
   "codemirror_mode": {
    "name": "ipython",
    "version": 3
   },
   "pygments_lexer": "ipython3",
   "nbconvert_exporter": "python",
   "file_extension": ".py"
  },
  "kernelspec": {
   "name": "python3",
   "display_name": "Python 3.8.8 64-bit ('base': conda)"
  },
  "interpreter": {
   "hash": "80e249822db5758e05c7a95f2378bda83bb74a36814d9a884ba3a875cd74994c"
  }
 },
 "nbformat": 4,
 "nbformat_minor": 2
}