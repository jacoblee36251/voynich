{
 "cells": [
  {
   "cell_type": "code",
   "execution_count": 3,
   "source": [
    "import re\r\n",
    "\r\n",
    "from preprocess import *"
   ],
   "outputs": [],
   "metadata": {}
  },
  {
   "cell_type": "code",
   "execution_count": 129,
   "source": [
    "%load_ext autoreload\r\n",
    "%autoreload 2"
   ],
   "outputs": [],
   "metadata": {}
  },
  {
   "cell_type": "markdown",
   "source": [
    "Plan\r\n",
    "\r\n",
    "- Read in all lines\r\n",
    "    - Remove all commented lines\r\n",
    "        - Ignore any lines that have # as the first character\r\n",
    "    - Remove all blank lines\r\n",
    "    - Strip every line\r\n",
    "- distinguish between header lines and transliterated text lines\r\n",
    "- \r\n"
   ],
   "metadata": {}
  },
  {
   "cell_type": "code",
   "execution_count": 4,
   "source": [
    "with open(\"data/raw/ZL_ivtff_1r.txt\", \"r\") as f:\r\n",
    "    lines = [l.strip() for l in f.readlines() if l[0] != \"#\" and len(l) > 1]\r\n",
    "\r\n",
    "len(lines), lines[:10]"
   ],
   "outputs": [
    {
     "output_type": "execute_result",
     "data": {
      "text/plain": [
       "(5616,\n",
       " ['<f1r>      <! $Q=A $P=A $F=a $B=1 $I=T $L=A $H=1 $C=1 $X=V>',\n",
       "  '<f1r.1,@P0>       <%>fachys.ykal.ar.ataiin.shol.shory.[cth:oto]res.y.kor.sholdy<!doodle: @254;>',\n",
       "  '<f1r.2,+P0>       sory.ckhar.or,y.kair.chtaiin.shar.ase.cthar.cthar,dan',\n",
       "  '<f1r.3,+P0>       syaiir.sheky.or.ykaiin.shod.cthoary.cthes.daraiin.sy',\n",
       "  '<f1r.4,+P0>       soiin.oteey.oteo[s:r],roloty.cthiar,daiin.okaiin.or.okan',\n",
       "  '<f1r.5,+P0>       sair,y.chear.cthaiin.cphar.cfhaiin',\n",
       "  '<f1r.6,=Pt>       ydaraishy<$>',\n",
       "  \"<f1r.7,*P0>       <%><!doodle: @252;>odar.{c'y}.shol.cphoy.oydar.sh.s.cfhoaiin.shodary\",\n",
       "  '<f1r.8,+P0>       yshey.shody.okchoy.otchol.chocthy.os,chy.dain.chor.kos',\n",
       "  '<f1r.9,+P0>       daiin.shos.cfhol.shody'])"
      ]
     },
     "metadata": {},
     "execution_count": 4
    }
   ],
   "metadata": {}
  },
  {
   "cell_type": "code",
   "execution_count": 5,
   "source": [
    "lines = [re.sub(\"\\s\\s+\" , \" \", line) for line in lines]\r\n",
    "lines[0:10]"
   ],
   "outputs": [
    {
     "output_type": "execute_result",
     "data": {
      "text/plain": [
       "['<f1r> <! $Q=A $P=A $F=a $B=1 $I=T $L=A $H=1 $C=1 $X=V>',\n",
       " '<f1r.1,@P0> <%>fachys.ykal.ar.ataiin.shol.shory.[cth:oto]res.y.kor.sholdy<!doodle: @254;>',\n",
       " '<f1r.2,+P0> sory.ckhar.or,y.kair.chtaiin.shar.ase.cthar.cthar,dan',\n",
       " '<f1r.3,+P0> syaiir.sheky.or.ykaiin.shod.cthoary.cthes.daraiin.sy',\n",
       " '<f1r.4,+P0> soiin.oteey.oteo[s:r],roloty.cthiar,daiin.okaiin.or.okan',\n",
       " '<f1r.5,+P0> sair,y.chear.cthaiin.cphar.cfhaiin',\n",
       " '<f1r.6,=Pt> ydaraishy<$>',\n",
       " \"<f1r.7,*P0> <%><!doodle: @252;>odar.{c'y}.shol.cphoy.oydar.sh.s.cfhoaiin.shodary\",\n",
       " '<f1r.8,+P0> yshey.shody.okchoy.otchol.chocthy.os,chy.dain.chor.kos',\n",
       " '<f1r.9,+P0> daiin.shos.cfhol.shody']"
      ]
     },
     "metadata": {},
     "execution_count": 5
    }
   ],
   "metadata": {}
  },
  {
   "cell_type": "code",
   "execution_count": 6,
   "source": [
    "line = lines[0]\r\n",
    "line"
   ],
   "outputs": [
    {
     "output_type": "execute_result",
     "data": {
      "text/plain": [
       "'<f1r> <! $Q=A $P=A $F=a $B=1 $I=T $L=A $H=1 $C=1 $X=V>'"
      ]
     },
     "metadata": {},
     "execution_count": 6
    }
   ],
   "metadata": {}
  },
  {
   "cell_type": "code",
   "execution_count": 7,
   "source": [
    "a, b = line.split(\"> \")\r\n",
    "a = a[1:]\r\n",
    "a, b"
   ],
   "outputs": [
    {
     "output_type": "execute_result",
     "data": {
      "text/plain": [
       "('f1r', '<! $Q=A $P=A $F=a $B=1 $I=T $L=A $H=1 $C=1 $X=V>')"
      ]
     },
     "metadata": {},
     "execution_count": 7
    }
   ],
   "metadata": {}
  },
  {
   "cell_type": "code",
   "execution_count": 8,
   "source": [
    "# identify if this line is a page header or transliteration item\r\n",
    "if \",\" not in a: # page header\r\n",
    "    page_name = a\r\n",
    "    b = b.replace(\">\", \"\").replace(\"<!\", \"\").strip()\r\n",
    "    variables = b.split()\r\n",
    "else: # transliteration item\r\n",
    "    \r\n",
    "    "
   ],
   "outputs": [
    {
     "output_type": "error",
     "ename": "SyntaxError",
     "evalue": "unexpected EOF while parsing (<ipython-input-8-9000a9a5ddb9>, line 7)",
     "traceback": [
      "\u001b[1;36m  File \u001b[1;32m\"<ipython-input-8-9000a9a5ddb9>\"\u001b[1;36m, line \u001b[1;32m7\u001b[0m\n\u001b[1;33m    \u001b[0m\n\u001b[1;37m    ^\u001b[0m\n\u001b[1;31mSyntaxError\u001b[0m\u001b[1;31m:\u001b[0m unexpected EOF while parsing\n"
     ]
    }
   ],
   "metadata": {}
  },
  {
   "cell_type": "code",
   "execution_count": 9,
   "source": [
    "page_name = a\r\n",
    "b = b.replace(\">\", \"\").replace(\"<!\", \"\").strip()\r\n",
    "variables = b.split()\r\n",
    "variables"
   ],
   "outputs": [
    {
     "output_type": "execute_result",
     "data": {
      "text/plain": [
       "['$Q=A', '$P=A', '$F=a', '$B=1', '$I=T', '$L=A', '$H=1', '$C=1', '$X=V']"
      ]
     },
     "metadata": {},
     "execution_count": 9
    }
   ],
   "metadata": {}
  },
  {
   "cell_type": "code",
   "execution_count": 24,
   "source": [
    "variable = variables[0]\r\n",
    "var, val = variable.split(\"=\")\r\n",
    "var, val"
   ],
   "outputs": [
    {
     "output_type": "execute_result",
     "data": {
      "text/plain": [
       "('$Q', 'A')"
      ]
     },
     "metadata": {},
     "execution_count": 24
    }
   ],
   "metadata": {}
  },
  {
   "cell_type": "code",
   "execution_count": 5,
   "source": [
    "re.findall(\"\\<(.*?)\\>\", lines[1])"
   ],
   "outputs": [
    {
     "output_type": "execute_result",
     "data": {
      "text/plain": [
       "['f1r.1,@P0', '%', '!doodle: @254;']"
      ]
     },
     "metadata": {},
     "execution_count": 5
    }
   ],
   "metadata": {}
  },
  {
   "cell_type": "code",
   "execution_count": 10,
   "source": [
    "class VoynichManuscript:\r\n",
    "    \r\n",
    "    def __init__(self, path_to_txt):\r\n",
    "        self._parse(path_to_txt)\r\n",
    "        \r\n",
    "        self.quines = dict()\r\n",
    "        \r\n",
    "    def _parse(self, path_to_txt):\r\n",
    "        with open(\"data/raw/ZL_ivtff_1r.txt\", \"r\") as f:\r\n",
    "            lines = [l.strip() for l in f.readlines() if l[0] != \"#\" and len(l) > 1]\r\n",
    "        "
   ],
   "outputs": [],
   "metadata": {}
  },
  {
   "cell_type": "code",
   "execution_count": null,
   "source": [
    "VoynichManuscript.quines[]"
   ],
   "outputs": [],
   "metadata": {}
  },
  {
   "cell_type": "code",
   "execution_count": 30,
   "source": [
    "chr(128)"
   ],
   "outputs": [
    {
     "output_type": "execute_result",
     "data": {
      "text/plain": [
       "'\\x80'"
      ]
     },
     "metadata": {},
     "execution_count": 30
    }
   ],
   "metadata": {}
  },
  {
   "cell_type": "code",
   "execution_count": null,
   "source": [
    "p = re.compile(\"\")\r\n"
   ],
   "outputs": [],
   "metadata": {}
  },
  {
   "cell_type": "code",
   "execution_count": 44,
   "source": [
    "vals = []\r\n",
    "for line in lines:\r\n",
    "    vals.extend([int(s[1:]) for s in re.findall(\"@\\d{3}\", line)])\r\n",
    "vals[:10]"
   ],
   "outputs": [
    {
     "output_type": "execute_result",
     "data": {
      "text/plain": [
       "[254, 252, 253, 194, 192, 130, 209, 163, 131, 246]"
      ]
     },
     "metadata": {},
     "execution_count": 44
    }
   ],
   "metadata": {}
  },
  {
   "cell_type": "code",
   "execution_count": 45,
   "source": [
    "max(vals), min(vals)"
   ],
   "outputs": [
    {
     "output_type": "execute_result",
     "data": {
      "text/plain": [
       "(254, 130)"
      ]
     },
     "metadata": {},
     "execution_count": 45
    }
   ],
   "metadata": {}
  },
  {
   "cell_type": "code",
   "execution_count": 51,
   "source": [
    "l = [chr(i) for i in range(130, 255)]\r\n",
    "print(l)"
   ],
   "outputs": [
    {
     "output_type": "stream",
     "name": "stdout",
     "text": [
      "['\\x82', '\\x83', '\\x84', '\\x85', '\\x86', '\\x87', '\\x88', '\\x89', '\\x8a', '\\x8b', '\\x8c', '\\x8d', '\\x8e', '\\x8f', '\\x90', '\\x91', '\\x92', '\\x93', '\\x94', '\\x95', '\\x96', '\\x97', '\\x98', '\\x99', '\\x9a', '\\x9b', '\\x9c', '\\x9d', '\\x9e', '\\x9f', '\\xa0', '¡', '¢', '£', '¤', '¥', '¦', '§', '¨', '©', 'ª', '«', '¬', '\\xad', '®', '¯', '°', '±', '²', '³', '´', 'µ', '¶', '·', '¸', '¹', 'º', '»', '¼', '½', '¾', '¿', 'À', 'Á', 'Â', 'Ã', 'Ä', 'Å', 'Æ', 'Ç', 'È', 'É', 'Ê', 'Ë', 'Ì', 'Í', 'Î', 'Ï', 'Ð', 'Ñ', 'Ò', 'Ó', 'Ô', 'Õ', 'Ö', '×', 'Ø', 'Ù', 'Ú', 'Û', 'Ü', 'Ý', 'Þ', 'ß', 'à', 'á', 'â', 'ã', 'ä', 'å', 'æ', 'ç', 'è', 'é', 'ê', 'ë', 'ì', 'í', 'î', 'ï', 'ð', 'ñ', 'ò', 'ó', 'ô', 'õ', 'ö', '÷', 'ø', 'ù', 'ú', 'û', 'ü', 'ý', 'þ']\n"
     ]
    }
   ],
   "metadata": {}
  },
  {
   "cell_type": "code",
   "execution_count": 33,
   "source": [
    "lines[:10]"
   ],
   "outputs": [
    {
     "output_type": "execute_result",
     "data": {
      "text/plain": [
       "['<f1r> <! $Q=A $P=A $F=a $B=1 $I=T $L=A $H=1 $C=1 $X=V>',\n",
       " '<f1r.1,@P0> <%>fachys.ykal.ar.ataiin.shol.shory.[cth:oto]res.y.kor.sholdy<!doodle: @254;>',\n",
       " '<f1r.2,+P0> sory.ckhar.or,y.kair.chtaiin.shar.ase.cthar.cthar,dan',\n",
       " '<f1r.3,+P0> syaiir.sheky.or.ykaiin.shod.cthoary.cthes.daraiin.sy',\n",
       " '<f1r.4,+P0> soiin.oteey.oteo[s:r],roloty.cthiar,daiin.okaiin.or.okan',\n",
       " '<f1r.5,+P0> sair,y.chear.cthaiin.cphar.cfhaiin',\n",
       " '<f1r.6,=Pt> ydaraishy<$>',\n",
       " \"<f1r.7,*P0> <%><!doodle: @252;>odar.{c'y}.shol.cphoy.oydar.sh.s.cfhoaiin.shodary\",\n",
       " '<f1r.8,+P0> yshey.shody.okchoy.otchol.chocthy.os,chy.dain.chor.kos',\n",
       " '<f1r.9,+P0> daiin.shos.cfhol.shody']"
      ]
     },
     "metadata": {},
     "execution_count": 33
    }
   ],
   "metadata": {}
  },
  {
   "cell_type": "markdown",
   "source": [
    "# datastructure plan\r\n",
    "- Manuscript\r\n",
    "    - name\r\n",
    "    - dict of Quines\r\n",
    "        - key is either integer ID (int) or , value is the Quine object\r\n",
    "    - iterpages()\r\n",
    "    - iterquines()\r\n",
    "    - iterlines()\r\n",
    "<!-- \r\n",
    "- Quine\r\n",
    "    - name\r\n",
    "    - contains dict of Pages\r\n",
    "        - key is page ID (str)\r\n",
    "    - iterpages()\r\n",
    "        - iterates over quines in correct order -->\r\n",
    "\r\n",
    "- Page\r\n",
    "    - name\r\n",
    "    - petersen_page_num\r\n",
    "    - contains dict of Lines\r\n",
    "    - contains list of paragraphs (just strings of concatenated)\r\n",
    "    - iterlines()\r\n",
    "        - iterates over line objects in the correct order\r\n",
    "        - Sort by splitting on\r\n",
    "    - iterparagraphs()\r\n",
    "        - iterate through the paragraphs\r\n",
    "- Line\r\n",
    "    - page name\r\n",
    "    - line num\r\n",
    "    - locator\r\n",
    "    - locus\r\n",
    "    - text\r\n"
   ],
   "metadata": {}
  },
  {
   "cell_type": "markdown",
   "source": [
    "# Parsing\r\n",
    "- All takes place inside method in Voynich class\r\n",
    "- Remove all comment lines\r\n",
    "- track current page\r\n",
    "- iterate through line by line in txt\r\n",
    "    - identify if current line is new page header or transliterated item\r\n",
    "        - if new page header\r\n",
    "            - get page name from a\r\n",
    "            - get variables from b\r\n",
    "                - int quire # from Q (convert A~T to numeric)\r\n",
    "                - int page # from P (convert A~X to numeric)\r\n",
    "                - int folio # within quire from F (convert a-f, u-z to numeric)\r\n",
    "                - int bifolio # from B (1-6 convert to int)\r\n",
    "                - str illustration type from I (A -> astronomical, B -> biological, C-> Cosmological, H -> herbal, P -> pharmaceutical, S -> marginal stars only,  T -> text only, Z -> zodiac)\r\n",
    "                - str currier language from L (A, B)\r\n",
    "                - str writing hand from H\r\n",
    "                - str currier's hand from C\r\n",
    "                - str extraneous writing presence from X\r\n",
    "            - create page object with above variables, add it to main class\r\n",
    "        - if transliterated item\r\n",
    "            - get info about line\r\n",
    "                - <page.line,locatorlocus>\r\n",
    "                - split on ,\r\n",
    "                - split page name on . to get page name and line #\r\n",
    "                - split locus by first char and last two\r\n",
    "            - clean\r\n",
    "                - remove \"<->\" from inside lines, these represent text being interrupted by an image or diagram\r\n",
    "                - remove \"<! ...>\" text (regex), these are comments\r\n",
    "            - Create new line object and add it to the current page's lines\r\n"
   ],
   "metadata": {}
  },
  {
   "cell_type": "markdown",
   "source": [
    "# Post processing\r\n",
    "\r\n",
    "- Add petersen page number to each page object\r\n",
    "- Get paragraphs\r\n",
    "    - if this line is paragraph\r\n",
    "        - if <%> present, set \"in paragraph\" boolean to true\r\n",
    "        - if currently in a paragraph\r\n",
    "            - clean text\r\n",
    "                - strip out the <$> (just for here)\r\n",
    "            - append current line to an accumulating paragraph string (also append a . to end of each line)\r\n",
    "        - if <$> present, set \"in paragraph\" boolean to false"
   ],
   "metadata": {}
  },
  {
   "cell_type": "code",
   "execution_count": 73,
   "source": [
    "class Hello:\r\n",
    "    def __init__(self, name):\r\n",
    "        self.name = name\r\n",
    "        self.byes = [1,2,3]\r\n",
    "\r\n",
    "    def __repr__(self):\r\n",
    "        return f\"Hello(name={self.name})\""
   ],
   "outputs": [],
   "metadata": {}
  },
  {
   "cell_type": "code",
   "execution_count": 81,
   "source": [
    "alphabet = \"ABCDEFGHIJKLMNOPQRSTUVWXYZ\"\r\n",
    "letter_to_idx = {l:i for i, l in enumerate(alphabet)}"
   ],
   "outputs": [],
   "metadata": {}
  },
  {
   "cell_type": "code",
   "execution_count": 87,
   "source": [
    "int(re.search(r'\\d+', \"f14v3\").group())\r\n"
   ],
   "outputs": [
    {
     "output_type": "execute_result",
     "data": {
      "text/plain": [
       "14"
      ]
     },
     "metadata": {},
     "execution_count": 87
    }
   ],
   "metadata": {}
  },
  {
   "cell_type": "code",
   "execution_count": 88,
   "source": [
    "locus_to_description = {\r\n",
    "    \"P\": \"Linear text in paragraphs\",\r\n",
    "    \"P0\":\"Linear text in paragraphs, normal left-justified text\",\r\n",
    "    \"P1\":\"Linear text in paragraphs, normal paragraph text that is significantly away from the left, typically due to a drawing, or some other text to its left\",\r\n",
    "    \"Pb\":\"Linear text in paragraphs, a free‐floating set of lines in a non‐standard location.\",\r\n",
    "    \"Pc\":\"Linear text in paragraphs, a roughly centred line (compared to the previous line)\",\r\n",
    "    \"Pr\":\"Linear text in paragraphs, a (roughly) right‐justified line\",\r\n",
    "    \"Pt\":\"Linear text in paragraphs, a right‐justified ‘title’ which is on the same line as the previous item\",\r\n",
    "    \"L\":\"Short piece of text that is anywhere on the page. Mostly these are the so‐called labels\",\r\n",
    "    \"L0\":\"Short piece of text that is anywhere on the page. Mostly these are the so‐called labels. It is not clearly near any drawing element\",\r\n",
    "    \"La\":\"Short piece of text that is anywhere on the page. Mostly these are the so‐called labels. A label of an astronomical or cosmological drawing element, which is not a star or a zodiac element\",\r\n",
    "    \"Lc\":\"Short piece of text that is anywhere on the page. Mostly these are the so‐called labels. A label of a container in the pharmaceutical section\",\r\n",
    "    \"Lf\":\"Short piece of text that is anywhere on the page. Mostly these are the so‐called labels. A label of a fragment of a herb in the pharmaceutical section\",\r\n",
    "    \"Ln\":\"Short piece of text that is anywhere on the page. Mostly these are the so‐called labels. A label of a nymph in the biological section\",\r\n",
    "    \"Lp\":\"Short piece of text that is anywhere on the page. Mostly these are the so‐called labels. A label of a large herb or plant drawing (in the herbal section)\",\r\n",
    "    \"Ls\":\"Short piece of text that is anywhere on the page. Mostly these are the so‐called labels. A label of a star\",\r\n",
    "    \"Lt\":\"Short piece of text that is anywhere on the page. Mostly these are the so‐called labels. A label of a tube or a tub in the biological section (essentially everything that is not a nymph)\",\r\n",
    "    \"Lx\":\"Short piece of text that is anywhere on the page. Mostly these are the so‐called labels. Extraneous writing (e.g. in the margin)\",\r\n",
    "    \"Lz\":\"Short piece of text that is anywhere on the page. Mostly these are the so‐called labels. A label of a zodiac element\",\r\n",
    "    \"C\":\"Text along the circumference of a circle\",\r\n",
    "    \"Ca\":\"Text along the circumference of a circle. The text runs anti‐clockwise\",\r\n",
    "    \"Cc\":\"Text along the circumference of a circle. The text runs clockwise\",\r\n",
    "    \"R\":\"Text along the radius of a circle.\",\r\n",
    "    \"Ri\":\"Text along the radius of a circle. The text runs outside to inside (inwards)\",\r\n",
    "    \"Ro\":\"Text along the circumference of a circle. The text runs inside to outside (outwards)\"\r\n",
    " }"
   ],
   "outputs": [],
   "metadata": {}
  },
  {
   "cell_type": "code",
   "execution_count": null,
   "source": [
    "locator_to_description = {\r\n",
    "    \"@\":\"The position of this locus is unrelated to the previous item, or not easily described by one of the following. This locator is always used for the first item on each page.\",\r\n",
    "    \"+\":\"This locus is generally below the previous item. This is the most common case.\",\r\n",
    "    \"*\":\"The locus is at the start of the line below the previous item, but at the left margin, while the previous item was not.\",\r\n",
    "    \"-\":\"The locus is on the same line as the previous item, but across a drawing element (future extension, not yet used)\",\r\n",
    "    \"=\":\"The locus is on the same line as the previous item, but separated by some white space.\",\r\n",
    "    \"&\":\"The locus is on the same line as the previous item, but along a circular line\",\r\n",
    "    \"~\":\"The locus is on the same line as the previous item, but the vertical alignment is not good.\",\r\n",
    "}"
   ],
   "outputs": [],
   "metadata": {}
  },
  {
   "cell_type": "code",
   "execution_count": 91,
   "source": [
    "locus_to_description[\"P0\"]"
   ],
   "outputs": [
    {
     "output_type": "execute_result",
     "data": {
      "text/plain": [
       "'Linear text in paragraphs, normal left-justified text'"
      ]
     },
     "metadata": {},
     "execution_count": 91
    }
   ],
   "metadata": {}
  },
  {
   "cell_type": "code",
   "execution_count": null,
   "source": [
    "char_to_illust_type = {\r\n",
    "    \"A\":\"Astronomical\",\r\n",
    "    \"B\":\"Biological\",\r\n",
    "    \"C\":\"Cosmological\",\r\n",
    "    \"H\":\"Herbal\",\r\n",
    "    \"P\":\"Pharmaceutical\",\r\n",
    "    \"S\":\"Marginal Stars Only\",\r\n",
    "    \"T\":\"Text-Only\",\r\n",
    "    \"Z\":\"Zodiac\",\r\n",
    "}"
   ],
   "outputs": [],
   "metadata": {}
  },
  {
   "cell_type": "code",
   "execution_count": 75,
   "source": [
    "class Hi:\r\n",
    "    def __init__(self, hi, yo=None, bye=None):\r\n",
    "        # for k, v in kwargs.items():\r\n",
    "        #     setattr(self, k, v)\r\n",
    "        self.hi = hi\r\n",
    "        self.yo = yo\r\n",
    "        self.bye = bye\r\n",
    "        \r\n",
    "Hi(**{\"hi\":1, \"yo\":5}).bye"
   ],
   "outputs": [],
   "metadata": {}
  },
  {
   "cell_type": "code",
   "execution_count": 61,
   "source": [
    "var_str = \"<! $Q=A $P=L $F=x $B=3 $I=H $L=A $H=1 $C=1>\""
   ],
   "outputs": [],
   "metadata": {}
  },
  {
   "cell_type": "code",
   "execution_count": 65,
   "source": [
    "variables = var_str.replace(\">\", \"\").replace(\"<!\", \"\").strip().split()\r\n",
    "variables = [s[1:].split(\"=\") for s in variables]\r\n",
    "variables"
   ],
   "outputs": [
    {
     "output_type": "execute_result",
     "data": {
      "text/plain": [
       "[['Q', 'A'],\n",
       " ['P', 'L'],\n",
       " ['F', 'x'],\n",
       " ['B', '3'],\n",
       " ['I', 'H'],\n",
       " ['L', 'A'],\n",
       " ['H', '1'],\n",
       " ['C', '1']]"
      ]
     },
     "metadata": {},
     "execution_count": 65
    }
   ],
   "metadata": {}
  },
  {
   "cell_type": "code",
   "execution_count": 71,
   "source": [
    "alphabet = \"ABCDEFGHIJKLMNOPQRSTUVWXYZ\"\r\n",
    "letter_to_num = {l:i+1 for i,l in enumerate(alphabet)}\r\n",
    "alphabet = \"abcdefghijklmnopqrstuvwxyz\"\r\n",
    "letter_to_num.update({l:i+1 for i,l in enumerate(alphabet)})\r\n",
    "\r\n",
    "char_to_illust_type = {\r\n",
    "    \"A\":\"Astronomical\",\r\n",
    "    \"B\":\"Biological\",\r\n",
    "    \"C\":\"Cosmological\",\r\n",
    "    \"H\":\"Herbal\",\r\n",
    "    \"P\":\"Pharmaceutical\",\r\n",
    "    \"S\":\"Marginal Stars Only\",\r\n",
    "    \"T\":\"Text-Only\",\r\n",
    "    \"Z\":\"Zodiac\",\r\n",
    "}\r\n",
    "\r\n",
    "def _parse_variables(var_str):\r\n",
    "    var_dict = dict()\r\n",
    "    \r\n",
    "    # split the header str into tuples of variables and their values\r\n",
    "    variables = var_str.replace(\">\", \"\").replace(\"<!\", \"\").strip().split()\r\n",
    "    variables = [s[1:].split(\"=\") for s in variables]\r\n",
    "    \r\n",
    "    # iter through the var/val tuples and parse them accordingly\r\n",
    "    for (var, val) in variables:\r\n",
    "        if var == \"Q\":\r\n",
    "            var_dict[\"quire_num\"] = letter_to_num[val]\r\n",
    "        elif var == \"P\":\r\n",
    "            var_dict[\"page_num\"] = letter_to_num[val]\r\n",
    "        elif var == \"F\":\r\n",
    "            var_dict[\"folio_num\"] = letter_to_num[val]\r\n",
    "        elif var == \"B\":\r\n",
    "            var_dict[\"bifolio_num\"] = int(val)\r\n",
    "        elif var == \"I\":\r\n",
    "            var_dict[\"illust_type\"] = char_to_illust_type[val]\r\n",
    "        elif var == \"L\":\r\n",
    "            var_dict[\"currier_language\"] = val\r\n",
    "        elif var == \"H\":\r\n",
    "            var_dict[\"hand\"] = int(val) if val.isnumeric() else val\r\n",
    "        elif var == \"C\":\r\n",
    "            var_dict[\"currier_hand\"] = int(val) if val.isnumeric() else val\r\n",
    "        elif var == \"X\":\r\n",
    "            var_dict[\"extraneous_writing\"] = val # will leave this as abbreviation for now\r\n",
    "    \r\n",
    "    return var_dict\r\n",
    "\r\n",
    "_parse_variables(var_str)"
   ],
   "outputs": [
    {
     "output_type": "execute_result",
     "data": {
      "text/plain": [
       "{'quire_num': 1,\n",
       " 'page_num': 12,\n",
       " 'folio_num': 24,\n",
       " 'bifolio_num': 3,\n",
       " 'illust_type': 'Herbal',\n",
       " 'currier_language': 'A',\n",
       " 'hand': 1,\n",
       " 'currier_hand': 1}"
      ]
     },
     "metadata": {},
     "execution_count": 71
    }
   ],
   "metadata": {}
  },
  {
   "cell_type": "code",
   "execution_count": 68,
   "source": [
    "alphabet = \"ABCDEFGHIJKLMNOPQRSTUVWXYZ\"\r\n",
    "letter_to_idx = {l:i+1 for i,l in enumerate(alphabet)}\r\n",
    "alphabet = \"abcdefghijklmnopqrstuvwxyz\"\r\n",
    "letter_to_idx.update({l:i+1 for i,l in enumerate(alphabet)})\r\n",
    "letter_to_idx"
   ],
   "outputs": [
    {
     "output_type": "execute_result",
     "data": {
      "text/plain": [
       "{'A': 1,\n",
       " 'B': 2,\n",
       " 'C': 3,\n",
       " 'D': 4,\n",
       " 'E': 5,\n",
       " 'F': 6,\n",
       " 'G': 7,\n",
       " 'H': 8,\n",
       " 'I': 9,\n",
       " 'J': 10,\n",
       " 'K': 11,\n",
       " 'L': 12,\n",
       " 'M': 13,\n",
       " 'N': 14,\n",
       " 'O': 15,\n",
       " 'P': 16,\n",
       " 'Q': 17,\n",
       " 'R': 18,\n",
       " 'S': 19,\n",
       " 'T': 20,\n",
       " 'U': 21,\n",
       " 'V': 22,\n",
       " 'W': 23,\n",
       " 'X': 24,\n",
       " 'Y': 25,\n",
       " 'Z': 26,\n",
       " 'a': 1,\n",
       " 'b': 2,\n",
       " 'c': 3,\n",
       " 'd': 4,\n",
       " 'e': 5,\n",
       " 'f': 6,\n",
       " 'g': 7,\n",
       " 'h': 8,\n",
       " 'i': 9,\n",
       " 'j': 10,\n",
       " 'k': 11,\n",
       " 'l': 12,\n",
       " 'm': 13,\n",
       " 'n': 14,\n",
       " 'o': 15,\n",
       " 'p': 16,\n",
       " 'q': 17,\n",
       " 'r': 18,\n",
       " 's': 19,\n",
       " 't': 20,\n",
       " 'u': 21,\n",
       " 'v': 22,\n",
       " 'w': 23,\n",
       " 'x': 24,\n",
       " 'y': 25,\n",
       " 'z': 26}"
      ]
     },
     "metadata": {},
     "execution_count": 68
    }
   ],
   "metadata": {}
  },
  {
   "cell_type": "code",
   "execution_count": 79,
   "source": [
    "line = lines[1]\r\n",
    "line"
   ],
   "outputs": [
    {
     "output_type": "execute_result",
     "data": {
      "text/plain": [
       "'<f1r.1,@P0> <%>fachys.ykal.ar.ataiin.shol.shory.[cth:oto]res.y.kor.sholdy<!doodle: @254;>'"
      ]
     },
     "metadata": {},
     "execution_count": 79
    }
   ],
   "metadata": {}
  },
  {
   "cell_type": "code",
   "execution_count": 82,
   "source": [
    "a, b = line.split(\"> \")\r\n",
    "a = a[1:]\r\n",
    "a, b"
   ],
   "outputs": [
    {
     "output_type": "execute_result",
     "data": {
      "text/plain": [
       "('f1r.1,@P0',\n",
       " '<%>fachys.ykal.ar.ataiin.shol.shory.[cth:oto]res.y.kor.sholdy<!doodle: @254;>')"
      ]
     },
     "metadata": {},
     "execution_count": 82
    }
   ],
   "metadata": {}
  },
  {
   "cell_type": "code",
   "execution_count": 85,
   "source": [
    "page_info, locus_info = a.split(\",\")\r\n",
    "page_name, line_num = page_info.split(\".\")\r\n",
    "locator, locus = locus_info[0], locus_info[1:]\r\n",
    "page_name, line_num, locator, locus"
   ],
   "outputs": [
    {
     "output_type": "execute_result",
     "data": {
      "text/plain": [
       "('f1r', '1', '@', 'P0')"
      ]
     },
     "metadata": {},
     "execution_count": 85
    }
   ],
   "metadata": {}
  },
  {
   "cell_type": "code",
   "execution_count": 86,
   "source": [
    "b"
   ],
   "outputs": [
    {
     "output_type": "execute_result",
     "data": {
      "text/plain": [
       "'<%>fachys.ykal.ar.ataiin.shol.shory.[cth:oto]res.y.kor.sholdy<!doodle: @254;>'"
      ]
     },
     "metadata": {},
     "execution_count": 86
    }
   ],
   "metadata": {}
  },
  {
   "cell_type": "code",
   "execution_count": 88,
   "source": [
    "re.sub(\"\\<!.*?\\>\", \"\", b)"
   ],
   "outputs": [
    {
     "output_type": "execute_result",
     "data": {
      "text/plain": [
       "'<%>fachys.ykal.ar.ataiin.shol.shory.[cth:oto]res.y.kor.sholdy'"
      ]
     },
     "metadata": {},
     "execution_count": 88
    }
   ],
   "metadata": {}
  },
  {
   "cell_type": "code",
   "execution_count": 89,
   "source": [
    "hi = \"<%>fachys.ykal.ar.ataiin.shol.shory.[cth:oto]res.y.kor.sholdy<!doodle: @254;>.sory.ckhar.or,y.kair.chtaiin.shar.ase.cthar.cthar,dan<!blah>\"\r\n",
    "re.sub(\"\\<!.*?\\>\", \"\", hi)"
   ],
   "outputs": [
    {
     "output_type": "execute_result",
     "data": {
      "text/plain": [
       "'<%>fachys.ykal.ar.ataiin.shol.shory.[cth:oto]res.y.kor.sholdy.sory.ckhar.or,y.kair.chtaiin.shar.ase.cthar.cthar,dan'"
      ]
     },
     "metadata": {},
     "execution_count": 89
    }
   ],
   "metadata": {}
  },
  {
   "cell_type": "code",
   "execution_count": 126,
   "source": [
    "from voynich import VoynichManuscript"
   ],
   "outputs": [],
   "metadata": {}
  },
  {
   "cell_type": "code",
   "execution_count": 127,
   "source": [
    "voynich.pages[\"f1r\"][4]"
   ],
   "outputs": [
    {
     "output_type": "execute_result",
     "data": {
      "text/plain": [
       "Line(sair,y.chear.cthaiin.cphar.cfhaiin)"
      ]
     },
     "metadata": {},
     "execution_count": 127
    }
   ],
   "metadata": {}
  },
  {
   "cell_type": "code",
   "execution_count": 128,
   "source": [
    "voynich"
   ],
   "outputs": [
    {
     "output_type": "execute_result",
     "data": {
      "text/plain": [
       "VoynichManuscript(num_pages=227, inline_comments=False)"
      ]
     },
     "metadata": {},
     "execution_count": 128
    }
   ],
   "metadata": {}
  },
  {
   "cell_type": "code",
   "execution_count": null,
   "source": [],
   "outputs": [],
   "metadata": {}
  },
  {
   "cell_type": "code",
   "execution_count": null,
   "source": [],
   "outputs": [],
   "metadata": {}
  }
 ],
 "metadata": {
  "orig_nbformat": 4,
  "language_info": {
   "name": "python",
   "version": "3.8.8",
   "mimetype": "text/x-python",
   "codemirror_mode": {
    "name": "ipython",
    "version": 3
   },
   "pygments_lexer": "ipython3",
   "nbconvert_exporter": "python",
   "file_extension": ".py"
  },
  "kernelspec": {
   "name": "python3",
   "display_name": "Python 3.8.8 64-bit ('base': conda)"
  },
  "interpreter": {
   "hash": "80e249822db5758e05c7a95f2378bda83bb74a36814d9a884ba3a875cd74994c"
  }
 },
 "nbformat": 4,
 "nbformat_minor": 2
}